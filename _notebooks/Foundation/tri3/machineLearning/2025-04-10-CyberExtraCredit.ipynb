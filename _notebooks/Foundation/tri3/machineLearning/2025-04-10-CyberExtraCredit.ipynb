{
 "cells": [
  {
   "cell_type": "markdown",
   "id": "f4caf189",
   "metadata": {},
   "source": [
    "---\n",
    "title: Cyber Panel\n",
    "description: Cyber Security Extra Credit Pannel Notes\n",
    "layout: post\n",
    "type: hacks\n",
    "comments: true\n",
    "toc: false\n",
    "courses: { compsci: {week: 27} }\n",
    "---"
   ]
  },
  {
   "cell_type": "markdown",
   "id": "ede37c00",
   "metadata": {},
   "source": [
    "# What I learned/Review of Pannelists!"
   ]
  },
  {
   "cell_type": "markdown",
   "id": "3323f2e8",
   "metadata": {},
   "source": [
    "### David Tomasz\n",
    "**Who:**\n",
    "- Intelligence analyst for FBI\n",
    "    - one of the best hackers in the world!\n",
    "\n",
    "**Story:**\n",
    "- Caught major hacker after years of tracking!\n",
    "\n",
    "**Learned:**\n",
    "- Overcome learnin curves (even if its difficult)\n",
    "- Have soft skills to become sucsessful (communicating, being nice, listening to instructions)\n",
    "\n",
    "![DavidTomasz]({{site.baseurl}}/images/pannelist3.png)"
   ]
  },
  {
   "cell_type": "markdown",
   "id": "8956b67c",
   "metadata": {},
   "source": [
    "### Tricia Mercer\n",
    "**Who:**\n",
    "- Chief of police/member of board of directors at cyber center of excellence\n",
    "\n",
    "**Story:**\n",
    "- Caught someone at their company stealing/selling data\n",
    "    - Ended all their acsess and took the finding to authorities\n",
    "\n",
    "**Learned:**\n",
    "- Always be curious/have aspirations for the future\n",
    "- Mom said “study computers, they’re the future”\n",
    "- Have passion for what you do and you will suceed!\n",
    "\n",
    "![TriciaMercer]({{site.baseurl}}/images/pannelist2.png)"
   ]
  },
  {
   "cell_type": "markdown",
   "id": "4343b86c",
   "metadata": {},
   "source": [
    "### Victor Nzeata\n",
    "**Who:**\n",
    "- Professor of cyber security at USD\n",
    "- Founder of cyber brain academy\n",
    "\n",
    "**Story:**\n",
    "- Made a PowerShell script to find a ton of old lingering data to be able to get rid of it for security reasons\n",
    "\n",
    "**Learned:**\n",
    "- know your machines/understand how it works\n",
    "- Test your security with real hackers/real techniques\n",
    "    - Same with games/websites test with real users to find the problems\n",
    "\n",
    "![VictorNzeata]( {{site.baseurl}}/images/pannelist1.png)"
   ]
  },
  {
   "cell_type": "markdown",
   "id": "be32e95e",
   "metadata": {},
   "source": [
    "---"
   ]
  },
  {
   "cell_type": "markdown",
   "id": "b16aca5d",
   "metadata": {},
   "source": [
    "# Key Takeaways"
   ]
  },
  {
   "cell_type": "markdown",
   "id": "d7cbcdc1",
   "metadata": {},
   "source": [
    "- have ambition/passion for your work\n",
    "- Have integrity for your work\n",
    "    - Honestly do your own stuff to learn\n",
    "- Have soft skills\n",
    "    - Be nice\n",
    "    - Be teachable\n",
    "    - Be openminded\n",
    "    - Be a good leader\n",
    "- Test your work with real users/test your security with real hackers\n",
    "- Partisipate iin school classes/clubs to learn\n",
    "    - Hackathons\n",
    "    - Compsci classes"
   ]
  },
  {
   "cell_type": "markdown",
   "id": "4e01a484",
   "metadata": {},
   "source": [
    "---"
   ]
  },
  {
   "cell_type": "markdown",
   "id": "3a92d60d",
   "metadata": {},
   "source": [
    "# Future of Cyber Security"
   ]
  },
  {
   "cell_type": "markdown",
   "id": "139e12af",
   "metadata": {},
   "source": [
    "- Need for more specilization in cyber/compsci fields\n",
    "    - Be familular with AI/working with AI\n",
    "- Cyber security is everywhere \n",
    "    - In the crowing technoogical future \n",
    "    - 0-day vullnerabilities (getting website stolden)\n",
    "    - need for understanding cyber secutiry to protect your intelectual property/work\n",
    "- Ethical hackers are a need\n",
    "    - to test the security of code with actual tools/intent    \n",
    "- Need to understand your computer \n",
    "    - Learn how to fix the issues\n",
    "    - Learn how your computer functions to fix problems"
   ]
  },
  {
   "cell_type": "markdown",
   "id": "dae4e933",
   "metadata": {},
   "source": [
    "---"
   ]
  },
  {
   "cell_type": "markdown",
   "id": "edddb429",
   "metadata": {},
   "source": [
    "# Plan for using these takeaways\n"
   ]
  },
  {
   "cell_type": "markdown",
   "id": "25eabff7",
   "metadata": {},
   "source": [
    "- Learning/engaging more in coding stuff at school\n",
    "    - hackathons\n",
    "    - coding clubs\n",
    "    - CSP tutoring \n",
    "- Watching videos and asking advanced students (profetionals/CSA students) to learn more about coding\n",
    "- Focus on refining my soft skills\n",
    "    - Practicing public speaking, preping more for live reviews!\n",
    "- Learn more abotut cyber security as a posible carear asperation + to protect my own code and security"
   ]
  },
  {
   "cell_type": "markdown",
   "id": "3d5857f3",
   "metadata": {},
   "source": [
    "---"
   ]
  },
  {
   "cell_type": "markdown",
   "id": "045039d0",
   "metadata": {},
   "source": [
    "# Proof!"
   ]
  },
  {
   "cell_type": "markdown",
   "id": "accb6089",
   "metadata": {},
   "source": [
    "![Slide photo]({{site.baseurl}}/images/proof.png)\n",
    "![Nora Photo]({{site.baseurl}}/images/board.png)"
   ]
  }
 ],
 "metadata": {
  "language_info": {
   "name": "python"
  }
 },
 "nbformat": 4,
 "nbformat_minor": 5
}
