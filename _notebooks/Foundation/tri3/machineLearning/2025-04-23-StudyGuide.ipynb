{
 "cells": [
  {
   "cell_type": "markdown",
   "id": "8503cf32",
   "metadata": {},
   "source": [
    "---\n",
    "title: Study Guide\n",
    "description: reflection + how 2 study for AP test\n",
    "layout: post\n",
    "type: hacks\n",
    "comments: true\n",
    "toc: false\n",
    "courses: { compsci: {week: 29} }\n",
    "---"
   ]
  },
  {
   "cell_type": "markdown",
   "id": "9f581b42",
   "metadata": {},
   "source": [
    "## [Legal and Ethical Concerns](https://noratheturtle.github.io/nora_25//2025/03/15/LegalEthical_IPYNB_2_.html)\n",
    "\n",
    "<details>\n",
    "<summary>Click to expand</summary>\n",
    "\n",
    "### Intellectual Property\n",
    "- Copyright: Protects artistic and literary works.\n",
    "- Patents: Safeguards inventions for ~20 years.\n",
    "- Trademarks: Covers branding and unique symbols.\n",
    "- Trade Secrets: Keeps business methods confidential.\n",
    "\n",
    "### Plagiarism\n",
    "- Copying code or algorithms without credit.\n",
    "- Risks: Legal action, academic penalties, loss of credibility.\n",
    "- Prevention: Cite sources, work independently, create original work.\n",
    "\n",
    "### Licensing\n",
    "- MIT: Permissive, allows reuse.\n",
    "- GPL: Requires derived work to also be open source.\n",
    "- Creative Commons: Non-software content (music, writing, images).\n",
    "- Apache 2.0: Open source + patent protection.\n",
    "\n",
    "</details>"
   ]
  },
  {
   "cell_type": "markdown",
   "id": "161f8a0d",
   "metadata": {},
   "source": [
    "## [Beneficial and Harmful Effects of Computing](https://noratheturtle.github.io/nora_25//2025/03/24/BenifitialHarmful_IPYNB_2_.html)\n",
    "\n",
    "<details>\n",
    "<summary>Click to expand</summary>\n",
    "\n",
    "### Beneficial\n",
    "- Medical Advancements: Surgery, diagnosis, personalized care.\n",
    "- Business Efficiency: Automation and data analytics.\n",
    "- Artistic Innovation: New tools for music, visual art, etc.\n",
    "- Convenience: Faster delivery with drones, remote access tools.\n",
    "\n",
    "### Harmful\n",
    "- Cyberbullying: Psychological harm, social issues.\n",
    "- Privacy Loss: Data tracking and surveillance.\n",
    "- Tech Dependence: Reduced research and thinking skills.\n",
    "- Job Displacement: Automation replacing human workers.\n",
    "- Drone Risks: Safety and privacy violations.\n",
    "\n",
    "</details>"
   ]
  },
  {
   "cell_type": "markdown",
   "id": "78f2eb3c",
   "metadata": {},
   "source": [
    "## [Computing Bias](https://noratheturtle.github.io/nora_25//2025/03/24/Compbias_IPYNB_2_.html)\n",
    "\n",
    "<details>\n",
    "<summary>Click to expand</summary>\n",
    "\n",
    "### Definition\n",
    "- Occurs when algorithms reflect the prejudices of their creators or data sets.\n",
    "\n",
    "### Examples\n",
    "- Facial recognition misidentifying people of color.\n",
    "- Biased hiring tools excluding certain demographics.\n",
    "\n",
    "### Solutions\n",
    "- Diverse training data.\n",
    "- Inclusive development teams.\n",
    "- Continuous testing and auditing.\n",
    "\n",
    "</details>"
   ]
  },
  {
   "cell_type": "markdown",
   "id": "7084e9f6",
   "metadata": {},
   "source": [
    "## [Crowdsourcing](https://noratheturtle.github.io/nora_25//2025/03/24/Compbias_IPYNB_2_.html)\n",
    "\n",
    "<details>\n",
    "<summary>Click to expand</summary>\n",
    "\n",
    "### Definition\n",
    "- Solving problems or collecting data using a large group of people, often online.\n",
    "\n",
    "### Examples\n",
    "- Wikipedia content contributions.\n",
    "- Citizen science (e.g., Galaxy Zoo).\n",
    "- Fundraising on Kickstarter.\n",
    "\n",
    "### Benefits\n",
    "- Scales quickly, taps diverse perspectives.\n",
    "\n",
    "</details>"
   ]
  },
  {
   "cell_type": "markdown",
   "id": "e07d64f2",
   "metadata": {},
   "source": [
    "\n",
    "\n",
    "## [Digital Divide](https://noratheturtle.github.io/nora_25//2025/03/25/digitalDivide_IPYNB_2_.html)\n",
    "\n",
    "<details>\n",
    "<summary>Click to expand</summary>\n",
    "\n",
    "### Definition\n",
    "- The gap between those with access to modern computing and those without.\n",
    "\n",
    "### Causes\n",
    "- Lack of infrastructure, economic inequality, location.\n",
    "\n",
    "### Effects\n",
    "- Reduced educational and job opportunities.\n",
    "- Widening social and economic gaps.\n",
    "\n",
    "### Solutions\n",
    "- Public internet access points.\n",
    "- Subsidized technology for students.\n",
    "\n",
    "</details>"
   ]
  },
  {
   "cell_type": "markdown",
   "id": "11859315",
   "metadata": {},
   "source": [
    "## [Safe Computing](https://noratheturtle.github.io/nora_25//2025/04/01/SafeComputing_IPYNB_2_.html)\n",
    "\n",
    "<details>\n",
    "<summary>Click to expand</summary>\n",
    "\n",
    "### Practices\n",
    "- Use strong, unique passwords.\n",
    "- Enable two-factor authentication.\n",
    "- Keep software updated.\n",
    "\n",
    "### Risks\n",
    "- Phishing, viruses, social engineering.\n",
    "- Data leaks from poor security practices.\n",
    "\n",
    "### Tips\n",
    "- Think before you click.\n",
    "- Use antivirus software.\n",
    "- Avoid public Wi-Fi for sensitive tasks.\n",
    "\n",
    "</details>"
   ]
  },
  {
   "cell_type": "markdown",
   "id": "8e12dcf9",
   "metadata": {},
   "source": [
    "## [Binary](https://noratheturtle.github.io/nora_25//2025/04/07/Binary_IPYNB_2_.html)\n",
    "\n",
    "<details>\n",
    "<summary>Click to expand</summary>\n",
    "\n",
    "### Basics\n",
    "- Only uses 0s and 1s.\n",
    "- Foundation of all computing data.\n",
    "\n",
    "### Uses\n",
    "- Arithmetic, circuits, decision making.\n",
    "\n",
    "### Operations\n",
    "- Binary addition and subtraction.\n",
    "- Conversion to and from decimal.\n",
    "\n",
    "### Color Codes\n",
    "- Hex (e.g., #FF0000 = red).\n",
    "- RGB/RGBA for design and media.\n",
    "\n",
    "</details>"
   ]
  },
  {
   "cell_type": "markdown",
   "id": "c05b734b",
   "metadata": {},
   "source": [
    "## [Lists and Filtering](https://noratheturtle.github.io/nora_25//2025/04/09/Lists-Filtering_IPYNB_2_.html)\n",
    "\n",
    "<details>\n",
    "<summary>Click to expand</summary>\n",
    "\n",
    "### Lists\n",
    "- Ordered, changeable collections of elements.\n",
    "\n",
    "### Filtering\n",
    "- Extract items based on a condition (e.g., cost < 10).\n",
    "\n",
    "</details>"
   ]
  },
  {
   "cell_type": "markdown",
   "id": "b6b55ff2",
   "metadata": {},
   "source": [
    "\n",
    "\n",
    "## [Big O Notation](https://noratheturtle.github.io/nora_25//2025/04/12/BigO_IPYNB_2_.html)\n",
    "\n",
    "<details>\n",
    "<summary>Click to expand</summary>\n",
    "\n",
    "### Purpose\n",
    "- Describes how performance scales with input size.\n",
    "- Helps compare algorithm efficiency.\n",
    "\n",
    "### Common Notations\n",
    "- O(1): Constant time, same speed no matter input size.\n",
    "- O(log n): Logarithmic time, cuts problem size each step (e.g., binary search).\n",
    "- O(n): Linear time, grows directly with input size.\n",
    "- O(n log n): Linearithmic, efficient sorting algorithms.\n",
    "- O(n²): Quadratic time, nested loops or comparisons.\n",
    "- O(2ⁿ), O(n!): Exponential or factorial time, very slow for large inputs.\n",
    "\n",
    "### Applications\n",
    "- Used in analyzing algorithms for searching, sorting, and optimizing.\n",
    "- Helps developers pick the best solution for large data sets.\n",
    "\n",
    "</details>"
   ]
  },
  {
   "cell_type": "markdown",
   "id": "1fe6f70d",
   "metadata": {},
   "source": [
    "---"
   ]
  },
  {
   "cell_type": "markdown",
   "id": "b1a998c7",
   "metadata": {},
   "source": [
    "## Calendar "
   ]
  },
  {
   "cell_type": "markdown",
   "id": "c9096d5f",
   "metadata": {},
   "source": [
    "# April–May 2025 Study Calendar\n",
    "\n",
    "| Week           | Mon      | Tue      | Wed              | Thu             | Fri             | Sat          | Sun                 |\n",
    "|----------------|----------|----------|------------------|------------------|------------------|--------------|---------------------|\n",
    "| Apr 21–27      |      |       | 23 Review CPT        | [24 - Legal & Ethics](#legal-and-ethical-concerns) | [25 - Beneficial/Harmful](#beneficial-and-harmful-effects-of-computing) | 26 **Review CPT** | 27 **Submit CPT** |\n",
    "| Apr 28–May 4   | [28 - Bias](#computing-bias) | [29 - Crowdsourcing](#crowdsourcing) | [30 - Digital Divide](#digital-divide) | [May 1 - Safe Computing](#safe-computing) | [2 - Binary](#binary) | [3 - Lists & Filtering](#lists-and-filtering) | 4 - MCQ Review |\n",
    "| May 5–11       | [5 - Simulations](#simulations) | [6 - Big O](#big-o-notation) | 7 Review        | 8 Review        | 9 Review        | 10 MCQ Practice | 11 Review Lessons    |\n",
    "| May 12–18      | 12 Final Review | 13 Final Review | 14 Rest         | **15 AP Exam**   |              |              |                     |\n"
   ]
  },
  {
   "cell_type": "markdown",
   "id": "93f8af8d",
   "metadata": {},
   "source": [
    "---"
   ]
  },
  {
   "cell_type": "markdown",
   "id": "b80e81f5",
   "metadata": {},
   "source": [
    "[studyvideo](https://youtu.be/fcxf13kL0jI?list=PLCop1CJJCr42puX0jPvpbRk1jswOKdybV)"
   ]
  }
 ],
 "metadata": {
  "language_info": {
   "name": "python"
  }
 },
 "nbformat": 4,
 "nbformat_minor": 5
}
