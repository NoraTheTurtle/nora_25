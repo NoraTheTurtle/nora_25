{
 "cells": [
  {
   "cell_type": "markdown",
   "id": "39ef07c7",
   "metadata": {},
   "source": [
    "---\n",
    "title: Final Reflection\n",
    "description: reflection on CSP, What I learned, and key takeaways\n",
    "layout: post\n",
    "type: hacks\n",
    "comments: true\n",
    "toc: false\n",
    "courses: { compsci: {week: 35} }\n",
    "---"
   ]
  },
  {
   "cell_type": "markdown",
   "id": "b65b0986",
   "metadata": {},
   "source": [
    "# My Future After CSP\n",
    "\n",
    "---"
   ]
  },
  {
   "cell_type": "markdown",
   "id": "e1623bc6",
   "metadata": {},
   "source": [
    "## Intended major = Computer science\n",
    "\n",
    "**Future Steps**\n",
    "\n",
    "I intend to take AP CSA next year and look into summer programs like pilot city and other programs to grow my programming skills\n",
    "\n",
    "**Skills**\n",
    "\n",
    "Im going to utalize my skills (listed below) to grow my connections and get into more interships and programs."
   ]
  },
  {
   "cell_type": "markdown",
   "id": "7e911239",
   "metadata": {},
   "source": [
    "---"
   ]
  },
  {
   "cell_type": "markdown",
   "id": "7fce9cd8",
   "metadata": {},
   "source": [
    "## Soft Skills\n",
    "\n",
    "- **Communication/Collaberation** (working in a big team)\n",
    "- **Time managment** (meeting deadlines for projects/checkpoints) \n",
    "- **Leadership** (assistent scrum master of both projects)"
   ]
  },
  {
   "cell_type": "markdown",
   "id": "d4edd5e5",
   "metadata": {},
   "source": [
    "## Hard Skills\n",
    "\n",
    "- **Programming languages** (Python, javascript, and styling)\n",
    "- **AP test consepts** (Big ideas 1-5)\n",
    "- **full stack development** (connecting frontend to backend and deploying)"
   ]
  },
  {
   "cell_type": "markdown",
   "id": "ce1649ab",
   "metadata": {},
   "source": [
    "---"
   ]
  },
  {
   "cell_type": "markdown",
   "id": "b17331b2",
   "metadata": {},
   "source": [
    "## Main Projects\n",
    "\n",
    "- [Holiday Giftinator](https://github.com/vibha1019/holiday_frontend) <-- LINK\n",
    "\n",
    "- [Genescope](https://github.com/Open-Coding-Society/GeneScope) <-- LINK"
   ]
  },
  {
   "cell_type": "markdown",
   "id": "b14212d4",
   "metadata": {},
   "source": [
    "---"
   ]
  },
  {
   "cell_type": "markdown",
   "id": "31103c94",
   "metadata": {},
   "source": [
    "## Linkden Page\n",
    "\n",
    "[Linkden](https://www.linkedin.com/in/nora-ahadian-04a574368/) <-- LINK"
   ]
  },
  {
   "cell_type": "markdown",
   "id": "e7110894",
   "metadata": {},
   "source": [
    "---"
   ]
  },
  {
   "cell_type": "markdown",
   "id": "ae9492f4",
   "metadata": {},
   "source": [
    "## Resume (also linked onto my linkden)\n",
    "[resume](https://drive.google.com/file/d/15CvlEHSK6yPpQqLYgpu3XDvIsckBgIhY/view?usp=drive_link) <-- LINK\n"
   ]
  }
 ],
 "metadata": {
  "language_info": {
   "name": "python"
  }
 },
 "nbformat": 4,
 "nbformat_minor": 5
}
