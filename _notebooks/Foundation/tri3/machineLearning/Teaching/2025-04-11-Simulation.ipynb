{
 "cells": [
  {
   "cell_type": "markdown",
   "id": "84d7800a",
   "metadata": {},
   "source": [
    "---\n",
    "title: Simulation Lesson\n",
    "description: popcorn/homework hacks\n",
    "layout: post\n",
    "type: hacks\n",
    "comments: true\n",
    "toc: false\n",
    "courses: { compsci: {week: 27} }\n",
    "---"
   ]
  },
  {
   "cell_type": "markdown",
   "id": "c2620b22",
   "metadata": {},
   "source": [
    "# POPCORN HACKS"
   ]
  },
  {
   "cell_type": "markdown",
   "id": "7724b55e",
   "metadata": {},
   "source": [
    "## Popcorn hack 1"
   ]
  },
  {
   "cell_type": "markdown",
   "id": "18e6c543",
   "metadata": {},
   "source": [
    "**Generating a Password on a Website**: Websites use random number generators to create strong, unpredictable passwords that are harder for hackers to guess, helping keep user accounts secure. This generates random numbers/charecters at the push of a button.\n",
    "\n",
    "**Rolling Dice in a Game**: Rolling dice in a game is random because each side has the same statistical likleyhood of being rolled on (without outside inputs).  This ensures fairness to board games/digital games making each playthrough diffrent."
   ]
  },
  {
   "cell_type": "markdown",
   "id": "6253505c",
   "metadata": {},
   "source": [
    "## Popcorn hack 2"
   ]
  },
  {
   "cell_type": "code",
   "execution_count": 1,
   "id": "b5f95862",
   "metadata": {},
   "outputs": [
    {
     "name": "stdout",
     "output_type": "stream",
     "text": [
      "Magic 8-Ball says: Yes\n",
      "Magic 8-Ball says: Yes\n",
      "Magic 8-Ball says: No\n",
      "Magic 8-Ball says: Yes\n",
      "Magic 8-Ball says: No\n",
      "Magic 8-Ball says: Yes\n",
      "Magic 8-Ball says: No\n",
      "Magic 8-Ball says: No\n",
      "Magic 8-Ball says: Yes\n",
      "Magic 8-Ball says: Ask again later\n"
     ]
    }
   ],
   "source": [
    "import random\n",
    "\n",
    "def magic_8_ball():\n",
    "    num = random.random()  # Generates a number between 0.0 and 1.0\n",
    "    if num < 0.5:\n",
    "        return \"Yes\"\n",
    "    elif num < 0.75:\n",
    "        return \"No\"\n",
    "    else:\n",
    "        return \"Ask again later\"\n",
    "\n",
    "# Test your function\n",
    "for i in range(10):\n",
    "    print(f\"Magic 8-Ball says: {magic_8_ball()}\")\n"
   ]
  },
  {
   "cell_type": "markdown",
   "id": "70a2ac6b",
   "metadata": {},
   "source": [
    "## Popcorn hack 3"
   ]
  },
  {
   "cell_type": "code",
   "execution_count": 2,
   "id": "db301155",
   "metadata": {},
   "outputs": [
    {
     "name": "stdout",
     "output_type": "stream",
     "text": [
      "Time 0: Green\n",
      "Time 1: Green\n",
      "Time 2: Green\n",
      "Time 3: Green\n",
      "Time 4: Green\n",
      "Time 5: Yellow\n",
      "Time 6: Yellow\n",
      "Time 7: Red\n",
      "Time 8: Red\n",
      "Time 9: Red\n",
      "Time 10: Red\n",
      "Time 11: Green\n",
      "Time 12: Green\n",
      "Time 13: Green\n",
      "Time 14: Green\n",
      "Time 15: Green\n",
      "Time 16: Yellow\n",
      "Time 17: Yellow\n",
      "Time 18: Red\n",
      "Time 19: Red\n"
     ]
    }
   ],
   "source": [
    "# Traffic light simulation (no randomness)\n",
    "\n",
    "states = [\"Green\", \"Yellow\", \"Red\"]\n",
    "durations = {\"Green\": 5, \"Yellow\": 2, \"Red\": 4}\n",
    "timeline = []\n",
    "\n",
    "# Simulate 20 time steps\n",
    "time = 0\n",
    "state = \"Green\"\n",
    "counter = 0\n",
    "\n",
    "while time < 20:\n",
    "    timeline.append((time, state))\n",
    "    counter += 1\n",
    "    if counter == durations[state]:\n",
    "        counter = 0\n",
    "        current_index = states.index(state)\n",
    "        state = states[(current_index + 1) % len(states)]\n",
    "    time += 1\n",
    "\n",
    "for t, s in timeline:\n",
    "    print(f\"Time {t}: {s}\")\n"
   ]
  },
  {
   "cell_type": "markdown",
   "id": "8a029ed6",
   "metadata": {},
   "source": [
    "**Explination:** This is a simulation because it models the behavior of a real-world system (a traffic light) using rules/logic to deduce when to turn the light red, green, or yellow. Its real-world impact is in helping design safer and more efficient traffic flow patterns, reducing accidents and congestion at intersections.\n",
    "\n",
    "**Percent**: Green lasts for 50%, Red: 30%, and Yellow: 20%"
   ]
  },
  {
   "cell_type": "markdown",
   "id": "49014582",
   "metadata": {},
   "source": [
    "---"
   ]
  },
  {
   "cell_type": "markdown",
   "id": "7c75784e",
   "metadata": {},
   "source": [
    "# HOMEWORK HACKS"
   ]
  },
  {
   "cell_type": "markdown",
   "id": "9247dbd0",
   "metadata": {},
   "source": [
    "## Hack 1"
   ]
  },
  {
   "cell_type": "code",
   "execution_count": 5,
   "id": "f7a01c2f",
   "metadata": {},
   "outputs": [
    {
     "name": "stdout",
     "output_type": "stream",
     "text": [
      "Welcome to the Dice Game!\n",
      "You rolled 5 + 2 = 7\n",
      "You win!\n",
      "Current stats: 1 Wins, 0 Losses\n",
      "You rolled 5 + 2 = 7\n",
      "You win!\n",
      "Current stats: 2 Wins, 0 Losses\n",
      "\n",
      "Final stats: 2 Wins, 0 Losses\n",
      "Thanks for playing!\n"
     ]
    }
   ],
   "source": [
    "import random\n",
    "\n",
    "def roll_dice():\n",
    "    \"\"\"Roll two dice and return their values and sum.\"\"\"\n",
    "    die1 = random.randint(1, 6) # rolling 2 dice\n",
    "    die2 = random.randint(1, 6)\n",
    "    total = die1 + die2 # Totaling the values\n",
    "    print(f\"You rolled {die1} + {die2} = {total}\")\n",
    "    return total\n",
    "\n",
    "def play_dice_game():\n",
    "    \"\"\"Play one round of the dice game. Return True if player wins, False if loses.\"\"\"\n",
    "    first_roll = roll_dice()\n",
    "    \n",
    "    if first_roll in [7, 11]: # if the sum is 7 or 11 player wins\n",
    "        print(\"You win!\")\n",
    "        return True\n",
    "    elif first_roll in [2, 3, 12]: # if the sum is 2, 3, or 12 player loses\n",
    "        print(\"You lose!\")\n",
    "        return False\n",
    "    else:\n",
    "        point = first_roll\n",
    "        print(f\"Point is set to {point}. Keep rolling!\")\n",
    "        \n",
    "        while True:\n",
    "            roll = roll_dice()\n",
    "            if roll == point:\n",
    "                print(\"You rolled your point again! You win!\")\n",
    "                return True\n",
    "            elif roll == 7:\n",
    "                print(\"You rolled a 7. You lose!\")\n",
    "                return False\n",
    "\n",
    "def main():\n",
    "    wins = 0\n",
    "    losses = 0\n",
    "\n",
    "    while True:\n",
    "        play = input(\"\\nDo you want to play? (yes/no): \").strip().lower()\n",
    "        if play == \"yes\":\n",
    "            if play_dice_game():\n",
    "                wins += 1\n",
    "            else:\n",
    "                losses += 1\n",
    "            print(f\"Current stats: {wins} Wins, {losses} Losses\")\n",
    "        elif play == \"no\":\n",
    "            print(f\"\\nFinal stats: {wins} Wins, {losses} Losses\")\n",
    "            print(\"Thanks for playing!\")\n",
    "            break\n",
    "        else:\n",
    "            print(\"Please type 'yes' or 'no'.\")\n",
    "\n",
    "if __name__ == \"__main__\":\n",
    "    print(\"Welcome to the Dice Game!\")\n",
    "    main()"
   ]
  }
 ],
 "metadata": {
  "kernelspec": {
   "display_name": "venv",
   "language": "python",
   "name": "python3"
  },
  "language_info": {
   "codemirror_mode": {
    "name": "ipython",
    "version": 3
   },
   "file_extension": ".py",
   "mimetype": "text/x-python",
   "name": "python",
   "nbconvert_exporter": "python",
   "pygments_lexer": "ipython3",
   "version": "3.12.5"
  }
 },
 "nbformat": 4,
 "nbformat_minor": 5
}
