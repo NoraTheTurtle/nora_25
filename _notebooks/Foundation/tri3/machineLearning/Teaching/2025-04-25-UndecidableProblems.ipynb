{
 "cells": [
  {
   "cell_type": "markdown",
   "id": "18658756",
   "metadata": {},
   "source": [
    "---\n",
    "title: Undecidable Problems\n",
    "description: popcorn/homework hacks\n",
    "layout: post\n",
    "type: hacks\n",
    "comments: true\n",
    "toc: false\n",
    "courses: { compsci: {week: 29} }\n",
    "---"
   ]
  },
  {
   "cell_type": "markdown",
   "id": "8d5455f3",
   "metadata": {},
   "source": [
    "# POPCORN HACKS"
   ]
  },
  {
   "cell_type": "markdown",
   "id": "fb2b8f84",
   "metadata": {},
   "source": [
    "## Hack 1\n",
    "\n",
    "Nodes (Vertices) → Cities\n",
    "\n",
    "Edges → Roads between cities\n",
    "\n",
    "Weights → Distance or cost of travel\n",
    "\n",
    "Draw a simple 5-city graph on the board and discuss possible routes."
   ]
  },
  {
   "cell_type": "markdown",
   "id": "b1477c3f",
   "metadata": {},
   "source": [
    "We can represent cities and paths as a graph by using **nodes (vertices)** to represent the cities, **edges** to represent the roads connecting the cities, and **weights** on the edges to represent the distance or cost of traveling between them."
   ]
  },
  {
   "cell_type": "markdown",
   "id": "5042724e",
   "metadata": {},
   "source": [
    "## Hack 2"
   ]
  },
  {
   "cell_type": "code",
   "execution_count": 3,
   "id": "1a17f1c2",
   "metadata": {},
   "outputs": [
    {
     "name": "stdout",
     "output_type": "stream",
     "text": [
      "Change for 63¢: [1, 1, 1, 1, 1, 1, 1, 1, 1, 1, 1, 1, 1, 1, 1, 1, 1, 1, 1, 1, 1, 1, 1, 1, 1, 1, 1, 1, 1, 1, 1, 1, 1, 1, 1, 1, 1, 1, 1, 1, 1, 1, 1, 1, 1, 1, 1, 1, 1, 1, 1, 1, 1, 1, 1, 1, 1, 1, 1, 1, 1, 1, 1]\n",
      "Total coins used: 63\n"
     ]
    }
   ],
   "source": [
    "#r Greedy Coin Change Code\n",
    "def greedy_coin_change(amount, coins=[1, 5, 10, 25]):\n",
    "    change = []\n",
    "    for coin in coins:\n",
    "        while amount >= coin:\n",
    "            amount -= coin\n",
    "            change.append(coin)\n",
    "    return change\n",
    "\n",
    "# Example usage:\n",
    "amount = 63\n",
    "result = greedy_coin_change(amount)\n",
    "print(f\"Change for {amount}¢: {result}\")\n",
    "print(f\"Total coins used: {len(result)}\")"
   ]
  },
  {
   "cell_type": "markdown",
   "id": "6bfafc21",
   "metadata": {},
   "source": [
    "**reflection:** Changing the coin order to start with the smallest coins made the algorithm much less efficient because it used way more coins to make the same amount. This shows that greedy algorithms can work well only if the choices are ordered wisely."
   ]
  },
  {
   "cell_type": "markdown",
   "id": "83352d3a",
   "metadata": {},
   "source": [
    "## Hack 3"
   ]
  },
  {
   "cell_type": "markdown",
   "id": "25f6afbb",
   "metadata": {},
   "source": [
    "The second code **(num = 1; while num != 0)** is an undecidable problem because the number num keeps increasing forever it will never reach 0, so the program will never halt. There's no way to know ahead of time without running it forever, which matches the idea of the Halting Problem."
   ]
  },
  {
   "cell_type": "markdown",
   "id": "f30da520",
   "metadata": {},
   "source": [
    "## Hack 4"
   ]
  },
  {
   "cell_type": "markdown",
   "id": "510ce0b3",
   "metadata": {},
   "source": [
    "**#1** An algorithm might solve some instances of an undecidable problem but cannot guarantee a correct answer for every possible case. That's what makes it undecidable.\n",
    "\n",
    "**#2** Even though a problem is undecidable overall, a programmer can still create an algorithm that works for many cases, but it won't work for every case — and there's no way to fix that completely. So not all problems have an algorithmn that works for them, making then undecidable problems!"
   ]
  },
  {
   "cell_type": "markdown",
   "id": "fea31f00",
   "metadata": {},
   "source": [
    "---"
   ]
  },
  {
   "cell_type": "markdown",
   "id": "44698953",
   "metadata": {},
   "source": [
    "# HOMEWORK HACKS"
   ]
  },
  {
   "cell_type": "markdown",
   "id": "8c2e7210",
   "metadata": {},
   "source": [
    "# Hack 1"
   ]
  },
  {
   "cell_type": "markdown",
   "id": "aaa11dac",
   "metadata": {},
   "source": [
    "**Q1: In which of the configurations is it possible to have redundant routing between devices Q and V?**\n",
    "\n",
    "A) Configuration 1 only\n"
   ]
  },
  {
   "cell_type": "markdown",
   "id": "acbe8ee1",
   "metadata": {},
   "source": [
    "**Q2: In configuration I, what is the minimum number of connections that must be broken or removed before device T can no longer communicate with device U?**\n",
    "\n",
    "B) 2"
   ]
  },
  {
   "cell_type": "markdown",
   "id": "d68aa346",
   "metadata": {},
   "source": [
    "## Hack 2"
   ]
  },
  {
   "cell_type": "markdown",
   "id": "57a22ff2",
   "metadata": {},
   "source": [
    "Changing the order of coins affected how efficiently the greedy algorithm worked, using the largest coins first resulted in fewer coins overall. Greedy algorithms work well when local choices lead to an optimal global result, but they can fail when short-term decisions don’t lead to the best overall solution. By switching the coin order, I saw that greedy methods aren't always perfect and need smart design to be effective."
   ]
  },
  {
   "cell_type": "markdown",
   "id": "5ad3c82a",
   "metadata": {},
   "source": [
    "## Hack 3"
   ]
  },
  {
   "cell_type": "markdown",
   "id": "959eed6c",
   "metadata": {},
   "source": [
    "### PART 1"
   ]
  },
  {
   "cell_type": "markdown",
   "id": "dbbbd67a",
   "metadata": {},
   "source": [
    "“Is this number divisible by 2?” = decidable, with the use of a module operater **(DECIDABLE)**\n",
    "\n",
    "“Will this program stop or run forever?” = This is \"the Halting Problem\" no universal algorithm solve it **(UNDECIDABLE)**\n",
    "\n",
    "“Does this sentence contain the word ‘banana’?”\t= Algorithm can scan and output if it does/does not exsist **(DECIDABLE)**\n",
    "\n",
    "“Will this AI ever become sentient?” = There’s no known algorithm that can always predict AI sentience. **(UNDECIDABLE)**\n",
    "\n"
   ]
  },
  {
   "cell_type": "markdown",
   "id": "54640008",
   "metadata": {},
   "source": [
    "### PART 2"
   ]
  },
  {
   "cell_type": "markdown",
   "id": "7fdbf6af",
   "metadata": {},
   "source": [
    "Algorithm 1: **Decidable**\n",
    "\n",
    "Algorithm 2: **Undecidable**"
   ]
  },
  {
   "cell_type": "markdown",
   "id": "10690158",
   "metadata": {},
   "source": [
    "### PART 3"
   ]
  },
  {
   "cell_type": "markdown",
   "id": "d85b0835",
   "metadata": {},
   "source": [
    "Waiting to see if it will ever rain on a cloudy day — you can’t know for sure unless you wait and watch the entire day, which mirrors how some outcomes are unknowable without living through the full experience/having hindsight"
   ]
  }
 ],
 "metadata": {
  "kernelspec": {
   "display_name": "venv",
   "language": "python",
   "name": "python3"
  },
  "language_info": {
   "codemirror_mode": {
    "name": "ipython",
    "version": 3
   },
   "file_extension": ".py",
   "mimetype": "text/x-python",
   "name": "python",
   "nbconvert_exporter": "python",
   "pygments_lexer": "ipython3",
   "version": "3.12.5"
  }
 },
 "nbformat": 4,
 "nbformat_minor": 5
}
