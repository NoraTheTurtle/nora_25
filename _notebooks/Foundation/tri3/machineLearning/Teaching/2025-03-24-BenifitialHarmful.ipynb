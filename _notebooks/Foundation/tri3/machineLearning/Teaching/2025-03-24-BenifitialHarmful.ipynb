{
 "cells": [
  {
   "cell_type": "markdown",
   "metadata": {},
   "source": [
    "---\n",
    "title: Benifitial/Harmful lesson\n",
    "description: homework/popcorn hacks\n",
    "layout: post\n",
    "type: hacks\n",
    "comments: true\n",
    "toc: false\n",
    "courses: { compsci: {week: 26} }\n",
    "---"
   ]
  },
  {
   "cell_type": "markdown",
   "metadata": {},
   "source": [
    "# POPCORN HACKS"
   ]
  },
  {
   "cell_type": "markdown",
   "metadata": {},
   "source": [
    "### Popcorn hack 1\n",
    "\n",
    "1. Benifitial effects = communication, healthcare advancments\n",
    "\n",
    "2. Harmful effects = plagirism, bullying, missuse of programs"
   ]
  },
  {
   "cell_type": "markdown",
   "metadata": {},
   "source": [
    "### Popcorn hack 2\n",
    "\n",
    "I think science and technology is a very benifitial effect of using computer science. Things like MRI scans and DNA sequencing are something only made possible due to advances in technology."
   ]
  },
  {
   "cell_type": "markdown",
   "metadata": {},
   "source": [
    "### Popcorn hack 3\n",
    "\n",
    "I think the **Use of AI** is a big dilema, because it contributes both to lack of education/learning and more over the increase in pollution and droughts from running the model"
   ]
  },
  {
   "cell_type": "markdown",
   "metadata": {},
   "source": [
    "---"
   ]
  },
  {
   "cell_type": "markdown",
   "metadata": {},
   "source": [
    "## 5 sentences"
   ]
  },
  {
   "cell_type": "markdown",
   "metadata": {},
   "source": [
    "Computer science has greatly advanced science and medicine by allowing faster data analysis which can be a big help in the medical field to filter through diffrent diagnosis. Computer models can also be used to simulate diseases and test treatments before clinical trials. Technologies like AI help doctors detect conditions such as cancer and heart disease earlier and more accurately. Robotics and computer-controlled surgery have made complex procedures safer and less sesptible to human error. Overall, I believe this is a benifitial effect/use of computers and computer science as it can help develop new technologys and treatments to save lives."
   ]
  }
 ],
 "metadata": {
  "language_info": {
   "name": "python"
  }
 },
 "nbformat": 4,
 "nbformat_minor": 2
}
