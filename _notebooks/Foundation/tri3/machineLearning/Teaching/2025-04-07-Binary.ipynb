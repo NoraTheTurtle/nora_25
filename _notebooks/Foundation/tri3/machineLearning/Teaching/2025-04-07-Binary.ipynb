{
 "cells": [
  {
   "cell_type": "markdown",
   "metadata": {},
   "source": [
    "---\n",
    "title: Binary\n",
    "description: homework/popcorn hacks\n",
    "layout: post\n",
    "type: hacks\n",
    "comments: true\n",
    "toc: false\n",
    "courses: { compsci: {week: 27} }\n",
    "---"
   ]
  },
  {
   "cell_type": "markdown",
   "metadata": {},
   "source": [
    "# HOMEWORK HACKS"
   ]
  },
  {
   "cell_type": "markdown",
   "metadata": {},
   "source": [
    "## Hack pt A"
   ]
  },
  {
   "cell_type": "markdown",
   "metadata": {},
   "source": [
    "1.  \n",
    "42 ÷ 2 = 21, remainder 0\n",
    "\n",
    "21 ÷ 2 = 10, remainder 1\n",
    "\n",
    "10 ÷ 2 = 5, remainder 0\n",
    "\n",
    "5 ÷ 2 = 2, remainder 1\n",
    "\n",
    "2 ÷ 2 = 1, remainder 0\n",
    "\n",
    "1 ÷ 2 = 0, remainder 1\n",
    "\n",
    "**answer = 010101**\n",
    "\n",
    "2. \n",
    "19 ÷ 2 = 9, remainder 1\n",
    "\n",
    "9 ÷ 2 = 4, remainder 1\n",
    "\n",
    "4 ÷ 2 = 2, remainder 0\n",
    "\n",
    "2 ÷ 2 = 1, remainder 0\n",
    "\n",
    "1 ÷ 2 = 0, remainder 1\n",
    "\n",
    "**answer = 11001**\n",
    "\n",
    "3.\n",
    "100 ÷ 2 = 50, remainder 0  \n",
    "\n",
    "50 ÷ 2 = 25, remainder 0  \n",
    "\n",
    "25 ÷ 2 = 12, remainder 1  \n",
    "\n",
    "12 ÷ 2 = 6, remainder 0  \n",
    "\n",
    "6 ÷ 2 = 3, remainder 0  \n",
    "\n",
    "3 ÷ 2 = 1, remainder 1  \n",
    "\n",
    "1 ÷ 2 = 0, remainder 1  \n",
    "\n",
    "**answer = 0010011**\n"
   ]
  },
  {
   "cell_type": "markdown",
   "metadata": {},
   "source": [
    "---"
   ]
  },
  {
   "cell_type": "markdown",
   "metadata": {},
   "source": [
    "## Hack pt B\n",
    "1. 101010\n",
    "\n",
    "2^5 = 32\n",
    "\n",
    "1 x 32 = 32\n",
    "\n",
    "0 x 16 = 0\n",
    "\n",
    "1 x 8 = 8\n",
    "\n",
    "0 x 4 = 0 \n",
    "\n",
    "1 x 2 = 2\n",
    "\n",
    "0 x 1 = 0 \n",
    "\n",
    "**Total = 42**\n",
    "\n",
    "\n",
    "2. 10011\n",
    "\n",
    "2^4 = 16\n",
    "\n",
    "1 x 16 = 16\n",
    "\n",
    "0 x 8 = 0\n",
    "\n",
    "0 x 4 = 0\n",
    "\n",
    "1 x 2 = 2\n",
    "\n",
    "1 x 1 = 1\n",
    "\n",
    "**Total = 19\n",
    "\n",
    "\n",
    "3. 110011\n",
    "\n",
    "2^5 = 32\n",
    "\n",
    "1 x 32 = 32\n",
    "\n",
    "1 x 16 = 16\n",
    "\n",
    "0 x 8 = 0\n",
    "\n",
    "0 x 4 = 0\n",
    "\n",
    "1 x 2 = 2\n",
    "\n",
    "1 x 1 = 1\n",
    "\n",
    "**Total = 51**"
   ]
  },
  {
   "cell_type": "markdown",
   "metadata": {},
   "source": [
    "---"
   ]
  },
  {
   "cell_type": "markdown",
   "metadata": {},
   "source": [
    "## Hakc pt C"
   ]
  },
  {
   "cell_type": "markdown",
   "metadata": {},
   "source": [
    "**LIST = [3, 6, 9, 12, 15, 18, 21, 24, 27, 30, 33]**\n",
    "\n",
    "<br>\n",
    "\n",
    "1. Search for 18\n",
    "\n",
    "Low = 0, High = 10, Mid = (0+10)//2 = 5\n",
    "\n",
    "List[5] = 18 --> Found!\n",
    "\n",
    "Comparisons made: 1\n",
    "\n",
    "Found? Yes\n",
    "\n",
    "2. Search for 33\n",
    "\n",
    "Low = 0, High = 10, Mid = (0+10)//2 = 5\n",
    "\n",
    "List[5] = 18 --> search right\n",
    "\n",
    "List [7] = 24\n",
    "\n",
    "List [9] = 30\n",
    "\n",
    "List [10] = 33 --> Found!\n",
    "\n",
    "Comparisons made: 4\n",
    "\n",
    "Found? Yes\n",
    "\n",
    "3. Search for 5\n",
    "\n",
    "Low = 0, High = 10, Mid = (0+10)//2 = 5\n",
    "\n",
    "List[5] = 18 --> search left\n",
    "\n",
    "List [3] = 12\n",
    "\n",
    "List [1] = 6\n",
    "\n",
    "List [0] = 3 --> Not found search ended :(\n",
    "\n",
    "Comparisons made: 6\n",
    "\n",
    "Found? No\n"
   ]
  },
  {
   "cell_type": "markdown",
   "metadata": {},
   "source": [
    "---"
   ]
  },
  {
   "cell_type": "markdown",
   "metadata": {},
   "source": [
    "## Hack pt D"
   ]
  },
  {
   "cell_type": "markdown",
   "metadata": {},
   "source": [
    "**LIST = [\"apple\", \"banana\", \"carrot\", \"dragonfruit\", \"fig\", \"grape\", \"kiwi\", \"mango\", \"orange\", \"peach\", \"watermelon\"]**"
   ]
  },
  {
   "cell_type": "markdown",
   "metadata": {},
   "source": [
    "1. Search for mango\n",
    "**Step 1:**\n",
    "\n",
    "Low = 0, High = 10 → Mid = 5\n",
    "\n",
    "List[5] = \"grape\" → \"mango\" > \"grape\" → search right\n",
    "\n",
    "**Step 2:**\n",
    "\n",
    "Low = 6, High = 10 → Mid = 8\n",
    "\n",
    "List[8] = \"orange\" → \"mango\" < \"orange\" → search left\n",
    "\n",
    "**Step 3:**\n",
    "Low = 6, High = 7 → Mid = 6\n",
    "\n",
    "List[6] = \"kiwi\" → \"mango\" > \"kiwi\" → search right\n",
    "\n",
    "**Step 4:**\n",
    "Low = 7, High = 7 → Mid = 7\n",
    "\n",
    "List[7] = \"mango\" → Found!\n",
    "\n",
    "Comparisons made: 4\n",
    "\n",
    "Found? Yes\n",
    "\n",
    "2. Search for Carrot\n",
    "\n",
    "**Step 1:**\n",
    "\n",
    "Low = 0, High = 10 → Mid = 5\n",
    "\n",
    "List[5] = \"grape\" → \"carrot\" < \"grape\" → search left\n",
    "\n",
    "**Step 2:**\n",
    "Low = 0, High = 4 → Mid = 2\n",
    "\n",
    "List[2] = \"carrot\" → Found!\n",
    "\n",
    "Comparisons made: 2\n",
    "\n",
    "Found? Yes\n",
    "\n",
    "3. Search for lemon\n",
    "\n",
    "**Step 1:**\n",
    "\n",
    "Low = 0, High = 10 → Mid = 5\n",
    "\n",
    "List[5] = \"grape\" → \"lemon\" > \"grape\" → search right\n",
    "\n",
    "**Step 2:**\n",
    "\n",
    "Low = 6, High = 10 → Mid = 8\n",
    "\n",
    "List[8] = \"orange\" → \"lemon\" < \"orange\" → search left\n",
    "\n",
    "**Step 3:**\n",
    "\n",
    "Low = 6, High = 7 → Mid = 6\n",
    "\n",
    "List[6] = \"kiwi\" → \"lemon\" > \"kiwi\" → search right\n",
    "\n",
    "**Step 4:**\n",
    "\n",
    "Low = 7, High = 7 → Mid = 7\n",
    "\n",
    "List[7] = \"mango\" → \"lemon\" < \"mango\" → search left\n",
    "\n",
    "Now Low = 7, High = 6 → search ends.\n",
    "\n",
    "Comparisons made: 4\n",
    "\n",
    "Found? No\n",
    "\n"
   ]
  },
  {
   "cell_type": "markdown",
   "metadata": {},
   "source": [
    "---"
   ]
  },
  {
   "cell_type": "markdown",
   "metadata": {},
   "source": [
    "## Free response questions:"
   ]
  },
  {
   "cell_type": "markdown",
   "metadata": {},
   "source": [
    "1. **Why is binary search more efficient for large data than linear search?**\n",
    "\n",
    "Binary search cuts the search space in half with each step, making it much faster to find numbers/items compared to linear search, which checks each item one by one. This difference becomes huge as the list grows larger.\n",
    "\n",
    "<br>\n",
    "\n",
    "2. **What happens if the list isn’t sorted and you try to use binary search?**\n",
    "\n",
    "Binary search won’t work correctly in an unsorted list because it depends on knowing which side of the middle the target might be. If the list isn’t sorted, it might skip over the correct value or give wrong results, makeing it ineffective in unsorted lists.\n",
    "\n",
    "<br>\n",
    "\n",
    "3. **Could you use binary search in a video game leaderboard or streaming service search bar? Why or why not?**\n",
    "\n",
    "Yes, if the leaderboard or search index is sorted, binary search can quickly find players or titles. However, for more flexible searches like partial matches or recommendations, other methods may be better.\n",
    "\n",
    "\n",
    "\n",
    "\n"
   ]
  }
 ],
 "metadata": {
  "language_info": {
   "name": "python"
  }
 },
 "nbformat": 4,
 "nbformat_minor": 2
}
