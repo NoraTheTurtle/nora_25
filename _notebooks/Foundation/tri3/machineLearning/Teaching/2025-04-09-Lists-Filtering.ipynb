{
 "cells": [
  {
   "cell_type": "markdown",
   "id": "258fbac8",
   "metadata": {},
   "source": [
    "---\n",
    "title: Lists/Filtering\n",
    "description: homework hacks\n",
    "layout: post\n",
    "type: hacks\n",
    "comments: true\n",
    "toc: false\n",
    "courses: { compsci: {week: 27} }\n",
    "---"
   ]
  },
  {
   "cell_type": "markdown",
   "id": "c22bd73e",
   "metadata": {},
   "source": [
    "## Homework Hack 1"
   ]
  },
  {
   "cell_type": "code",
   "execution_count": 12,
   "id": "5d7185f8",
   "metadata": {},
   "outputs": [
    {
     "name": "stdout",
     "output_type": "stream",
     "text": [
      "['pencil', 'pen', 'stapler', 'eraser', 'ruler']\n"
     ]
    }
   ],
   "source": [
    "# 1 Create a list that includes at least five items\n",
    "supplies = ['pencil', 'pen', 'eraser', 'ruler', 'highlighter']\n",
    "\n",
    "# 2 remove the last item from the list\n",
    "supplies.pop() \n",
    "\n",
    "# 3 insert item at a specific index\n",
    "supplies.insert(2, 'stapler') \n",
    "\n",
    "# 4 print the list\n",
    "print(supplies)"
   ]
  },
  {
   "cell_type": "markdown",
   "id": "8a817402",
   "metadata": {},
   "source": [
    "---"
   ]
  },
  {
   "cell_type": "markdown",
   "id": "fa46d9c1",
   "metadata": {},
   "source": [
    "## Homework Hack 2"
   ]
  },
  {
   "cell_type": "code",
   "execution_count": 15,
   "id": "2fe85205",
   "metadata": {},
   "outputs": [
    {
     "name": "stdout",
     "output_type": "stream",
     "text": [
      "pencil\n",
      "pen\n",
      "stapler\n",
      "eraser\n",
      "ruler\n"
     ]
    }
   ],
   "source": [
    "# List Traversal Instructions\n",
    "\n",
    "# 1. create a for loop (to go through the list one item at a time)\n",
    "# 2. Move one by one through the list using a for-loop\n",
    "# 3. Each loop gets the next item until the end\n",
    "\n",
    "for items in supplies:\n",
    "    print(items)"
   ]
  },
  {
   "cell_type": "markdown",
   "id": "702bd8a9",
   "metadata": {},
   "source": [
    "---"
   ]
  },
  {
   "cell_type": "markdown",
   "id": "1288435c",
   "metadata": {},
   "source": [
    "## Homework Hack 3"
   ]
  },
  {
   "cell_type": "code",
   "execution_count": 16,
   "id": "6f233ba5",
   "metadata": {},
   "outputs": [
    {
     "name": "stdout",
     "output_type": "stream",
     "text": [
      "Items with cost less than 6 dollars:\n",
      "  supplies  cost\n",
      "0   pencil     2\n",
      "1      pen     5\n",
      "2   eraser     3\n"
     ]
    }
   ],
   "source": [
    "# Filtering Algorithm using pandas\n",
    "import pandas as pd\n",
    "\n",
    "# Sample data\n",
    "supplies_data = {\n",
    "    'supplies': ['pencil', 'pen', 'eraser', 'ruler', 'highlighter'],\n",
    "    'cost': [2, 5, 3, 6, 10]\n",
    "}\n",
    "\n",
    "# Convert to DataFrame\n",
    "supplies_df = pd.DataFrame(supplies_data)\n",
    "\n",
    "# Condition: keep items that cost less than 6 dollars\n",
    "\n",
    "# Steps:\n",
    "# 1. Start with the DataFrame\n",
    "# 2. Use boolean indexing to filter rows\n",
    "# 3. Apply the condition \n",
    "# 4. Store result in a new DataFrame\n",
    "cheap_supplies = supplies_df[supplies_df['cost'] < 6]\n",
    "\n",
    "print(\"Items with cost less than 6 dollars:\")\n",
    "print(cheap_supplies)"
   ]
  },
  {
   "cell_type": "markdown",
   "id": "ed66d1d7",
   "metadata": {},
   "source": [
    "## how filtering algorithms and lists are used in real life (FRQ)"
   ]
  },
  {
   "cell_type": "markdown",
   "id": "2ace1b5b",
   "metadata": {},
   "source": [
    "Filtering algorithms and lists are used in real life to sort or extract specific information from large amounts of data, like finding affordable items in an online store or selecting emails from a certain sender. They work by checking each item in a list against a condition and keeping only the ones that match."
   ]
  }
 ],
 "metadata": {
  "kernelspec": {
   "display_name": "venv",
   "language": "python",
   "name": "python3"
  },
  "language_info": {
   "codemirror_mode": {
    "name": "ipython",
    "version": 3
   },
   "file_extension": ".py",
   "mimetype": "text/x-python",
   "name": "python",
   "nbconvert_exporter": "python",
   "pygments_lexer": "ipython3",
   "version": "3.12.5"
  }
 },
 "nbformat": 4,
 "nbformat_minor": 5
}
