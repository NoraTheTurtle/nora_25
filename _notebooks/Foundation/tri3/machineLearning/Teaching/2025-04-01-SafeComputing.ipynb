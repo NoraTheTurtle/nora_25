{
 "cells": [
  {
   "cell_type": "markdown",
   "metadata": {},
   "source": [
    "---\n",
    "title: SafeComputing\n",
    "description: homework/popcorn hacks\n",
    "layout: post\n",
    "type: hacks\n",
    "comments: true\n",
    "toc: false\n",
    "courses: { compsci: {week: 26} }\n",
    "---"
   ]
  },
  {
   "cell_type": "markdown",
   "metadata": {},
   "source": [
    "# Homework Hack"
   ]
  },
  {
   "cell_type": "code",
   "execution_count": 8,
   "metadata": {},
   "outputs": [
    {
     "name": "stdout",
     "output_type": "stream",
     "text": [
      "Result: xjjfdzn\n"
     ]
    }
   ],
   "source": [
    "import random\n",
    "\n",
    "def caesar_cipher(text, shift, mode):\n",
    "    result = \"\"\n",
    "    for char in text:\n",
    "        if char.isalpha():\n",
    "            shift_amount = shift if mode == \"encrypt\" else -shift\n",
    "            new_char = chr(((ord(char.lower()) - 97 + shift_amount) % 26) + 97)\n",
    "            result += new_char.upper() if char.isupper() else new_char\n",
    "        else:\n",
    "            result += char\n",
    "    return result\n",
    "\n",
    "# User input\n",
    "mode = input(\"Hi! Would you like to encrypt or decrypt a message today? \").strip().lower()\n",
    "message = input(\"Enter message here: \")\n",
    "shift_input = input(\" enter a number of places to shift or type 'random' and have the computer choose for you!: \").strip().lower()\n",
    "\n",
    "# Handle random shift\n",
    "if shift_input == \"random\":\n",
    "    shift = random.randint(1, 25)\n",
    "    print(f\"Random shift selected: {shift}\")\n",
    "else:\n",
    "    shift = int(shift_input)\n",
    "\n",
    "# Perform encryption/decryption\n",
    "output = caesar_cipher(message, shift, mode)\n",
    "print(f\"Result: {output}\")\n"
   ]
  }
 ],
 "metadata": {
  "kernelspec": {
   "display_name": "Python 3",
   "language": "python",
   "name": "python3"
  },
  "language_info": {
   "codemirror_mode": {
    "name": "ipython",
    "version": 3
   },
   "file_extension": ".py",
   "mimetype": "text/x-python",
   "name": "python",
   "nbconvert_exporter": "python",
   "pygments_lexer": "ipython3",
   "version": "3.9.6"
  }
 },
 "nbformat": 4,
 "nbformat_minor": 2
}
