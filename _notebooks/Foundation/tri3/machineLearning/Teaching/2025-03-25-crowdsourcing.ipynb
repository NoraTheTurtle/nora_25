{
 "cells": [
  {
   "cell_type": "markdown",
   "metadata": {},
   "source": [
    "---\n",
    "title: Crowdsourcing Lesson\n",
    "description: homework/popcorn hacks\n",
    "layout: post\n",
    "type: hacks\n",
    "comments: true\n",
    "toc: false\n",
    "courses: { compsci: {week: 26} }\n",
    "---"
   ]
  },
  {
   "cell_type": "markdown",
   "metadata": {},
   "source": [
    "# POPCORN HACKS"
   ]
  },
  {
   "cell_type": "markdown",
   "metadata": {},
   "source": [
    "### Popcorn hack 1\n",
    "1. crowdfunding --> Raising money to launch a new product\n",
    "2. crowd creatioin --> Cathering creative input from a crowd for content generation\n",
    "3. crowd voting --> Collecting public opinion/feedback to make decisions\n",
    "4. crowd wisdom --> Using collectieve intelligence to solve problems"
   ]
  },
  {
   "cell_type": "markdown",
   "metadata": {},
   "source": [
    "### Popcorn hack 2\n",
    "**3 Examples of data crowdsourcing**\n",
    "1. wikipedia --> many people contribute data to build an open/free encyclopedia\n",
    "2. Waze maps system --> cars drive around and input data on acidents or traffic to share with other drivers\n",
    "3. Google open images --> people input iages that can be refrenced to find items/products online"
   ]
  },
  {
   "cell_type": "markdown",
   "metadata": {},
   "source": [
    "### Popcorn hack 3\n",
    "1. Google maps --> cars drive around to get real life data and people input stuff about acidents and traffic\n",
    "2. Duolingo --> using articles and man made/posted sources to teach the model\n",
    "3. shazam --> (used for identifying songs) fed data from users to improve model and recognision"
   ]
  },
  {
   "cell_type": "markdown",
   "metadata": {},
   "source": [
    "---"
   ]
  },
  {
   "cell_type": "markdown",
   "metadata": {},
   "source": [
    "### 4 sentences on impact of crowdsourcing"
   ]
  },
  {
   "cell_type": "markdown",
   "metadata": {},
   "source": [
    "Crowdsourcing has sped up innovation by allowing faster problem-solving and access to diverse ideas from around the world. It has helped build large, accurate databases like Google Maps/waze through user contributions. Distributed computing has made it possible to handle huge tasks, through the inovation of many people working together. Open source development has also grown because of data crowdsourcing, with people worldwide helping improve and update tools and software."
   ]
  },
  {
   "cell_type": "markdown",
   "metadata": {},
   "source": [
    "### 2 sentence reflection\n",
    "\n",
    "Crowdsourcing has the potential to bring great innovation in the future by connecting more people, their shared skills, and ideas through technology. As tools improve and participation grows, it could solve complex global problems faster and more reliably than ever before."
   ]
  }
 ],
 "metadata": {
  "language_info": {
   "name": "python"
  }
 },
 "nbformat": 4,
 "nbformat_minor": 2
}
