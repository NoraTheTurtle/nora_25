{
 "cells": [
  {
   "cell_type": "markdown",
   "id": "34369569",
   "metadata": {},
   "source": [
    "---\n",
    "title: Big O\n",
    "description: popcorn/homework hacks\n",
    "layout: post\n",
    "type: hacks\n",
    "comments: true\n",
    "toc: false\n",
    "courses: { compsci: {week: 29} }\n",
    "---"
   ]
  },
  {
   "cell_type": "markdown",
   "id": "7218df1e",
   "metadata": {},
   "source": [
    "# POPCORN HACKS"
   ]
  },
  {
   "cell_type": "markdown",
   "id": "08c79ef6",
   "metadata": {},
   "source": [
    "## Hack 1"
   ]
  },
  {
   "cell_type": "code",
   "execution_count": 3,
   "id": "cdcf2254",
   "metadata": {},
   "outputs": [
    {
     "name": "stdout",
     "output_type": "stream",
     "text": [
      "Method 1 - Divide by 2: Odd\n",
      "Method 2 - Check last digit manually: Odd\n",
      "Method 3 - Modulus operator (%): Odd\n",
      "Method 4 - Convert to string: Odd\n",
      "Method 5 - Subtract until 0 or 1: Odd\n",
      "Method 6 - Check against even list: Odd\n"
     ]
    }
   ],
   "source": [
    "def method_1_division_check(n):\n",
    "    # Divide and check if result is whole number (not recommended for integers)\n",
    "    return (n / 2).is_integer()\n",
    "\n",
    "def method_2_last_digit_manual(n):\n",
    "    # Check last digit manually\n",
    "    return str(n)[-1] in {'0', '2', '4', '6', '8'}\n",
    "\n",
    "def method_3_modulus(n):\n",
    "    # Use modulus\n",
    "    return n % 2 == 0\n",
    "\n",
    "def method_4_string_last_char(n):\n",
    "    # Convert to string and check last character\n",
    "    return str(n)[-1] in '02468'\n",
    "\n",
    "def method_5_subtract_until_end(n):\n",
    "    # Subtract 2 repeatedly until 0 or 1\n",
    "    while n > 1:\n",
    "        n -= 2\n",
    "    return n == 0\n",
    "\n",
    "def method_6_check_list(n):\n",
    "    # Check in list of even numbers (0–100 for demo)\n",
    "    even_numbers = set(range(0, 101, 2))\n",
    "    return n in even_numbers\n",
    "\n",
    "# Input\n",
    "number = int(input(\"Enter a number: \"))\n",
    "\n",
    "# Print results\n",
    "print(\"Method 1 - Divide by 2:\", \"Even\" if method_1_division_check(number) else \"Odd\")\n",
    "print(\"Method 2 - Check last digit manually:\", \"Even\" if method_2_last_digit_manual(number) else \"Odd\")\n",
    "print(\"Method 3 - Modulus operator (%):\", \"Even\" if method_3_modulus(number) else \"Odd\")\n",
    "print(\"Method 4 - Convert to string:\", \"Even\" if method_4_string_last_char(number) else \"Odd\")\n",
    "print(\"Method 5 - Subtract until 0 or 1:\", \"Even\" if method_5_subtract_until_end(number) else \"Odd\")\n",
    "print(\"Method 6 - Check against even list:\", \"Even\" if method_6_check_list(number) else \"Odd\")\n"
   ]
  },
  {
   "cell_type": "markdown",
   "id": "42289b40",
   "metadata": {},
   "source": [
    "Explained: Using the modulus operator (%), and checking the last digit is 0, 2, 4, 6, or 8 manually have O(1) time complexity, meaning they run in constant time regardless of the number’s size. They don’t require loops or extra memory, making them fast and optimal for quickly checking if a number is even or odd. Hence making these 2 strategies the most efficient option"
   ]
  },
  {
   "cell_type": "markdown",
   "id": "0f86050c",
   "metadata": {},
   "source": [
    "---"
   ]
  },
  {
   "cell_type": "markdown",
   "id": "b1e68fb4",
   "metadata": {},
   "source": [
    "## hack 2"
   ]
  },
  {
   "cell_type": "code",
   "execution_count": 4,
   "id": "f5a2a0a2",
   "metadata": {},
   "outputs": [
    {
     "name": "stdout",
     "output_type": "stream",
     "text": [
      "Testing with data size: 10000000\n",
      "Linear search: 0.402696 seconds\n",
      "Binary search: 0.000024 seconds\n",
      "Binary search is approximately 16723x faster\n"
     ]
    }
   ],
   "source": [
    "import time\n",
    "import random\n",
    "\n",
    "# Generate a large sorted list\n",
    "data_size = 10000000\n",
    "sorted_data = sorted(random.sample(range(100000000), data_size))\n",
    "\n",
    "# Target to find (worst case for linear search)\n",
    "target = sorted_data[-1]  # Last element\n",
    "\n",
    "# O(n) - Linear Search\n",
    "def linear_search(arr, target):\n",
    "    for i, element in enumerate(arr):\n",
    "        if element == target:\n",
    "            return i\n",
    "    return -1\n",
    "\n",
    "# O(log n) - Binary Search\n",
    "def binary_search(arr, target):\n",
    "    left, right = 0, len(arr) - 1\n",
    "    \n",
    "    while left <= right:\n",
    "        mid = (left + right) // 2\n",
    "        if arr[mid] == target:\n",
    "            return mid\n",
    "        elif arr[mid] < target:\n",
    "            left = mid + 1\n",
    "        else:\n",
    "            right = mid - 1\n",
    "    \n",
    "    return -1\n",
    "\n",
    "# Compare performance\n",
    "print(\"Testing with data size:\", data_size)\n",
    "\n",
    "start = time.time()\n",
    "linear_result = linear_search(sorted_data, target)\n",
    "linear_time = time.time() - start\n",
    "print(f\"Linear search: {linear_time:.6f} seconds\")\n",
    "\n",
    "start = time.time()\n",
    "binary_result = binary_search(sorted_data, target)\n",
    "binary_time = time.time() - start\n",
    "print(f\"Binary search: {binary_time:.6f} seconds\")\n",
    "\n",
    "print(f\"Binary search is approximately {linear_time/binary_time:.0f}x faster\")\n",
    "\n",
    "  "
   ]
  },
  {
   "cell_type": "markdown",
   "id": "12d8de94",
   "metadata": {},
   "source": [
    "### 1. complexity of each algorithm\n",
    "**Linear Search – O(n):**\n",
    "Linear search goes through each element one by one until it finds the target. If the element is at the end of a dataset, it has to check every element, so the time it takes increases directly with the size of the data.\n",
    "\n",
    "**Binary Search – O(log n):**\n",
    "Binary search works only on sorted data and repeatedly cuts the list in half to find the target. This means that even for very large lists, the number of steps it takes grows very slowly compared to the size of the list. **(Much more time efficent)**\n",
    "\n",
    "### 2. How many times faster is binary search than linear search\n",
    "The line `print(f\"Binary search is approximately {linear_time/binary_time:.0f}x faster\")` calculates how many times faster binary search is. in this case its **16723x faster**\n",
    "\n",
    "### 3. What happens if you increase data_size to 20000000?\n",
    "- **Linear Search**: Will take about **2× longer**, since it is directly proportional to the list size.\n",
    "- **Binary Search**: Will take **only slightly longer**, because the time grows logarithmically (log base 2 of 20 million is just a bit more than for 10 million)."
   ]
  },
  {
   "cell_type": "markdown",
   "id": "502af897",
   "metadata": {},
   "source": [
    "---"
   ]
  },
  {
   "cell_type": "markdown",
   "id": "6802263b",
   "metadata": {},
   "source": [
    "# HOMEWORK HACKS"
   ]
  },
  {
   "cell_type": "markdown",
   "id": "a88de7f2",
   "metadata": {},
   "source": [
    "## Hack 1"
   ]
  },
  {
   "cell_type": "code",
   "execution_count": 6,
   "id": "d8fc940d",
   "metadata": {},
   "outputs": [
    {
     "name": "stdout",
     "output_type": "stream",
     "text": [
      "Bubble Sort Time: 0.000161 seconds\n",
      "Merge Sort Time: 0.000082 seconds\n",
      "Merge Sort is faster.\n"
     ]
    }
   ],
   "source": [
    "import time\n",
    "import random\n",
    "\n",
    "# Bubble Sort\n",
    "def bubble_sort(arr):\n",
    "    n = len(arr)\n",
    "    for i in range(n):\n",
    "        for j in range(0, n - i - 1):\n",
    "            if arr[j] > arr[j + 1]:\n",
    "                arr[j], arr[j + 1] = arr[j + 1], arr[j]\n",
    "\n",
    "# Merge Sort\n",
    "def merge_sort(arr):\n",
    "    if len(arr) > 1:\n",
    "        mid = len(arr) // 2\n",
    "        left = arr[:mid]\n",
    "        right = arr[mid:]\n",
    "\n",
    "        merge_sort(left)\n",
    "        merge_sort(right)\n",
    "\n",
    "        i = j = k = 0\n",
    "        # Merge the two halves\n",
    "        while i < len(left) and j < len(right):\n",
    "            if left[i] < right[j]:\n",
    "                arr[k] = left[i]\n",
    "                i += 1\n",
    "            else:\n",
    "                arr[k] = right[j]\n",
    "                j += 1\n",
    "            k += 1\n",
    "\n",
    "        # Copy remaining elements\n",
    "        while i < len(left):\n",
    "            arr[k] = left[i]\n",
    "            i += 1\n",
    "            k += 1\n",
    "        while j < len(right):\n",
    "            arr[k] = right[j]\n",
    "            j += 1\n",
    "            k += 1\n",
    "\n",
    "# Generate list\n",
    "original_list = random.sample(range(1, 1001), 100)  # Unique random numbers between 1 and 1000\n",
    "\n",
    "# Copy list for each algorithm\n",
    "list_for_bubble = original_list.copy()\n",
    "list_for_merge = original_list.copy()\n",
    "\n",
    "# Time Bubble Sort\n",
    "start = time.time()\n",
    "bubble_sort(list_for_bubble)\n",
    "bubble_time = time.time() - start\n",
    "print(f\"Bubble Sort Time: {bubble_time:.6f} seconds\")\n",
    "\n",
    "# Time Merge Sort\n",
    "start = time.time()\n",
    "merge_sort(list_for_merge)\n",
    "merge_time = time.time() - start\n",
    "print(f\"Merge Sort Time: {merge_time:.6f} seconds\")\n",
    "\n",
    "# Compare\n",
    "if merge_time < bubble_time:\n",
    "    print(\"Merge Sort is faster.\")\n",
    "else:\n",
    "    print(\"Bubble Sort is faster.\")"
   ]
  },
  {
   "cell_type": "markdown",
   "id": "57d860c5",
   "metadata": {},
   "source": [
    "### Question\n",
    "**Why does Merge Sort consistently outperform Bubble Sort?**\n",
    "\n",
    "- Merge Sort has a time complexity of O(n log n), which is much more efficient than Bubble Sort’s O(n^2) for larger lists. \n",
    "- Merge Sort divides the list and combines them in a sorted manner, reducing the number of comparisons and swaps significantly.\n"
   ]
  },
  {
   "cell_type": "markdown",
   "id": "e597f923",
   "metadata": {},
   "source": [
    "---"
   ]
  },
  {
   "cell_type": "code",
   "execution_count": 7,
   "id": "792f2280",
   "metadata": {},
   "outputs": [
    {
     "name": "stdout",
     "output_type": "stream",
     "text": [
      "Target: 51672\n",
      "Linear Search Comparisons: 51672\n",
      "Binary Search Comparisons: 16\n"
     ]
    }
   ],
   "source": [
    "import random\n",
    "\n",
    "# Linear Search (O(n))\n",
    "def linear_search(arr, target):\n",
    "    count = 0\n",
    "    for i in range(len(arr)):\n",
    "        count += 1\n",
    "        if arr[i] == target:\n",
    "            return count\n",
    "    return -1\n",
    "\n",
    "# Binary Search (O(log n))\n",
    "def binary_search(arr, target):\n",
    "    left, right = 0, len(arr) - 1\n",
    "    count = 0\n",
    "    while left <= right:\n",
    "        count += 1\n",
    "        mid = (left + right) // 2\n",
    "        if arr[mid] == target:\n",
    "            return count\n",
    "        elif arr[mid] < target:\n",
    "            left = mid + 1\n",
    "        else:\n",
    "            right = mid - 1\n",
    "    return -1\n",
    "\n",
    "# Generate sorted list\n",
    "data = list(range(1, 100001))\n",
    "\n",
    "# Pick random target\n",
    "target = random.choice(data)\n",
    "print(f\"Target: {target}\")\n",
    "\n",
    "# Perform both searches\n",
    "linear_comparisons = linear_search(data, target)\n",
    "binary_comparisons = binary_search(data, target)\n",
    "\n",
    "print(f\"Linear Search Comparisons: {linear_comparisons}\")\n",
    "print(f\"Binary Search Comparisons: {binary_comparisons}\")"
   ]
  },
  {
   "cell_type": "markdown",
   "id": "d1d2cb80",
   "metadata": {},
   "source": [
    "### Questions:\n",
    "\n",
    "1. **Which search algorithm is faster, and why?**\n",
    "\n",
    "   Binary Search is faster because it uses a divide-and-conquer strategy, reducing the search space by half each time (O(log n)), while Linear Search checks every item one by one (O(n)).\n",
    "\n",
    "2. **What happens if you run both searches on an unsorted list?**\n",
    "\n",
    "   Binary Search may return incorrect results or fail, because it only works correctly on sorted data. Linear Search still works, as it doesn’t rely on order."
   ]
  }
 ],
 "metadata": {
  "kernelspec": {
   "display_name": "venv",
   "language": "python",
   "name": "python3"
  },
  "language_info": {
   "codemirror_mode": {
    "name": "ipython",
    "version": 3
   },
   "file_extension": ".py",
   "mimetype": "text/x-python",
   "name": "python",
   "nbconvert_exporter": "python",
   "pygments_lexer": "ipython3",
   "version": "3.12.5"
  }
 },
 "nbformat": 4,
 "nbformat_minor": 5
}
