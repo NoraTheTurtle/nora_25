{
 "cells": [
  {
   "cell_type": "markdown",
   "metadata": {},
   "source": [
    "---\n",
    "title: Digital Divide lesson\n",
    "description: homework/popcorn hacks\n",
    "layout: post\n",
    "type: hacks\n",
    "comments: true\n",
    "toc: false\n",
    "courses: { compsci: {week: 26} }\n",
    "---"
   ]
  },
  {
   "cell_type": "markdown",
   "metadata": {},
   "source": [
    "# POPCORN HACKS\n",
    "\n",
    "### hack 1\n",
    "Digital divide in education is a big facotr in lack of education to impovrished families and communities because they cant do school/homework without acsess to internet\n",
    "\n",
    "### hack 2\n",
    "voice assistants excluding/not working for people with strong or foreign accsents, hence creating divide between people"
   ]
  },
  {
   "cell_type": "markdown",
   "metadata": {},
   "source": [
    "---"
   ]
  },
  {
   "cell_type": "markdown",
   "metadata": {},
   "source": [
    "# HOMEWORK HACK"
   ]
  },
  {
   "cell_type": "markdown",
   "metadata": {},
   "source": [
    "### 5 sentences\n",
    "\n",
    "In my community, I’ve noticed that some of my friends, and other students from low-income families don’t always have personal laptops or good internet access at home, making it difficult to collaborate on many online projects together. Some kids have to do homework on their phones instead or go to places like libraries/cafes just to get reliable free Wi-Fi. People who live in rural areas farther from cities have even less access to fast internet and tech support due to a lack of finances and adequate infrastructure. I can help by donating old devices and helping others learn how to use technology better, in order to bridge the gap economic as well as intellectual differences when it comes to technology. I also want to spread awareness at school and support programs that give free tech help to families who need it."
   ]
  }
 ],
 "metadata": {
  "language_info": {
   "name": "python"
  }
 },
 "nbformat": 4,
 "nbformat_minor": 2
}
