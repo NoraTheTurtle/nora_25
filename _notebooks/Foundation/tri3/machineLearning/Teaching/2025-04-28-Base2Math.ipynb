{
 "cells": [
  {
   "cell_type": "markdown",
   "id": "7a640807",
   "metadata": {},
   "source": [
    "---\n",
    "title: Base 2 Math\n",
    "description: popcorn/homework hacks\n",
    "layout: post\n",
    "type: hacks\n",
    "comments: true\n",
    "toc: false\n",
    "courses: { compsci: {week: 30} }\n",
    "---"
   ]
  },
  {
   "cell_type": "markdown",
   "id": "73f21390",
   "metadata": {},
   "source": [
    "# POPCORN HACKS"
   ]
  },
  {
   "cell_type": "markdown",
   "id": "cc7dc302",
   "metadata": {},
   "source": [
    "## Hack 1\n",
    "\n",
    "Example 1: 101010 = **YES BINARY**\n",
    "\n",
    "Example 2: 12301 = **NO BINARY**\n",
    "\n",
    "Example 3: 11001 = **YES BINARY**"
   ]
  },
  {
   "cell_type": "markdown",
   "id": "22bb96ac",
   "metadata": {},
   "source": [
    "## Hack 2\n",
    "\n",
    "Example 1 (Adding): 101 + 110 = **1011**\n",
    "\n",
    "Example 2 (Subtracting): 1101 - 1011 = **010**\n",
    "\n",
    "Example 3 (Adding): 111 + 1001 = **1110**"
   ]
  },
  {
   "cell_type": "markdown",
   "id": "604de31f",
   "metadata": {},
   "source": [
    "## Hack 3"
   ]
  },
  {
   "cell_type": "markdown",
   "id": "885d0807",
   "metadata": {},
   "source": [
    "### Part 1\n",
    "\n",
    "What will be the result of this expression? ---> True or False and False\n",
    "\n",
    "**Result: True**\n",
    "\n",
    "### Part 2\n",
    "\n",
    "What will be the result of this expression? ---> not True and False\n",
    "\n",
    "**Result: False**\n",
    "\n",
    "### Part 3\n",
    "\n",
    "What will be the result of this expression? ---> True or False and not False\n",
    "\n",
    "**Result: True**"
   ]
  },
  {
   "cell_type": "markdown",
   "id": "6cf3bee2",
   "metadata": {},
   "source": [
    "---"
   ]
  },
  {
   "cell_type": "markdown",
   "id": "3b6c49af",
   "metadata": {},
   "source": [
    "# HOMEWORK HACKS"
   ]
  },
  {
   "cell_type": "markdown",
   "id": "ca63c7c5",
   "metadata": {},
   "source": [
    "## Hack 1"
   ]
  },
  {
   "cell_type": "code",
   "execution_count": 1,
   "id": "06c4f1c6",
   "metadata": {},
   "outputs": [
    {
     "name": "stdout",
     "output_type": "stream",
     "text": [
      "Decimal to Binary:\n",
      "10 -> 1010\n",
      "-10 -> -1010\n",
      "0 -> 0\n",
      "\n",
      "Binary to Decimal:\n",
      "1010 -> 10\n",
      "-1010 -> -10\n",
      "0 -> 0\n"
     ]
    }
   ],
   "source": [
    "def decimal_to_binary(decimal_number):\n",
    "    \"\"\"Converts a decimal number to its binary representation.\"\"\"\n",
    "    if decimal_number == 0:\n",
    "        return '0'\n",
    "    is_negative = decimal_number < 0\n",
    "    decimal_number = abs(decimal_number)\n",
    "    binary = ''\n",
    "    while decimal_number > 0:\n",
    "        binary = str(decimal_number % 2) + binary\n",
    "        decimal_number = decimal_number // 2\n",
    "    if is_negative:\n",
    "        binary = '-' + binary\n",
    "    return binary\n",
    "\n",
    "def binary_to_decimal(binary_string):\n",
    "    \"\"\"Converts a binary string to its decimal equivalent.\"\"\"\n",
    "    if binary_string.startswith('-'):\n",
    "        return -int(binary_string[1:], 2)\n",
    "    return int(binary_string, 2)\n",
    "\n",
    "# Testing\n",
    "print(\"Decimal to Binary:\")\n",
    "print(f\"10 -> {decimal_to_binary(10)}\")     # Should print 1010\n",
    "print(f\"-10 -> {decimal_to_binary(-10)}\")   # Should print -1010\n",
    "print(f\"0 -> {decimal_to_binary(0)}\")       # Should print 0\n",
    "\n",
    "print(\"\\nBinary to Decimal:\")\n",
    "print(f\"1010 -> {binary_to_decimal('1010')}\")    # Should print 10\n",
    "print(f\"-1010 -> {binary_to_decimal('-1010')}\")  # Should print -10\n",
    "print(f\"0 -> {binary_to_decimal('0')}\")          # Should print 0"
   ]
  },
  {
   "cell_type": "markdown",
   "id": "bf71aaac",
   "metadata": {},
   "source": [
    "## Hack 2"
   ]
  },
  {
   "cell_type": "code",
   "execution_count": 2,
   "id": "ab64ed14",
   "metadata": {},
   "outputs": [
    {
     "name": "stdout",
     "output_type": "stream",
     "text": [
      "Difficulty set to: easy\n"
     ]
    }
   ],
   "source": [
    "import time\n",
    "\n",
    "difficulty = input(\"Enter difficulty (easy, medium, hard): \").lower().strip()\n",
    "\n",
    "while difficulty not in [\"easy\", \"medium\", \"hard\"]:\n",
    "    print(\"Please enter a valid difficulty level.\")\n",
    "    difficulty = input(\"Enter difficulty (easy, medium, hard): \").lower().strip()\n",
    "    time.sleep(0.5)\n",
    "\n",
    "print(\"Difficulty set to:\", difficulty)\n"
   ]
  }
 ],
 "metadata": {
  "kernelspec": {
   "display_name": "venv",
   "language": "python",
   "name": "python3"
  },
  "language_info": {
   "codemirror_mode": {
    "name": "ipython",
    "version": 3
   },
   "file_extension": ".py",
   "mimetype": "text/x-python",
   "name": "python",
   "nbconvert_exporter": "python",
   "pygments_lexer": "ipython3",
   "version": "3.12.5"
  }
 },
 "nbformat": 4,
 "nbformat_minor": 5
}
