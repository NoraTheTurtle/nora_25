{
 "cells": [
  {
   "cell_type": "markdown",
   "id": "1d9c0ff3",
   "metadata": {},
   "source": [
    "---\n",
    "title: MCQ reflection\n",
    "description: reflection + how 2 study for AP test\n",
    "layout: post\n",
    "type: hacks\n",
    "comments: true\n",
    "toc: false\n",
    "courses: { compsci: {week: 29} }\n",
    "---"
   ]
  },
  {
   "cell_type": "markdown",
   "id": "ca1aa57a",
   "metadata": {},
   "source": [
    "![Score]({{site.baseurl}}/images/MCQ3.png)"
   ]
  },
  {
   "cell_type": "markdown",
   "id": "cba9e510",
   "metadata": {},
   "source": [
    "## Percentage Breakdown\n",
    "\n",
    "![BigIdeas]({{site.baseurl}}/images/percent3.png)"
   ]
  },
  {
   "cell_type": "markdown",
   "id": "0e3d2d39",
   "metadata": {},
   "source": [
    "## Comparrison to last MC (40 --> 48!)\n",
    "\n",
    "| **Concept** | **Test 1** | **Test 2** | **Percent Change** | **Questions**|\n",
    "|----------------|-----------------|------------------------------------------------|----------------|----------------|\n",
    "| **Big Idea: APP (ALGORITHMS AND PROGRAMMING)** | 45%  | 58%  | + 13% | -14 |\n",
    "| **Big Idea: DAT (DATA)** | 77%  | 79%  | + 2%  | +1 |\n",
    "| **Big Idea: CRD (CREATIVE DEVELOPMENT)** | 56% | 57%  | + 1% | -2  |\n",
    "| **Big Idea: CSN (COMPUTING SYSTEMS AND NETWORKS)**| 83% | 78% | -5% | +3 |\n",
    "| **Big Idea: IOC (IMPACT OF COMPUTING)**| 89%  | 75%  | -14% | +7 |"
   ]
  },
  {
   "cell_type": "markdown",
   "id": "f4d3b231",
   "metadata": {},
   "source": [
    "## Areas of focus\n",
    "\n",
    "**Creative Development** --> lack of big improvment on the concept, and my lowest score on the big ideas\n",
    "\n",
    "**Algorithms and programming** --> Improvment from last test, but there was decreased number of questions, and it was still my 2nd lowest score\n",
    "\n",
    "**Impact of computing** --> increased questions decreased percent, showing a minimal understanding of the concept, need to study/refresh on that"
   ]
  },
  {
   "cell_type": "markdown",
   "id": "9168ec13",
   "metadata": {},
   "source": [
    "## Practice Questions 4 Review"
   ]
  },
  {
   "cell_type": "markdown",
   "id": "0ed4d725",
   "metadata": {},
   "source": [
    "**CREATIVE DEVELOPMENT**\n",
    "![CreativeDevelopment]({{site.baseurl}}/images/Q44.png)\n",
    "\n",
    "\n",
    "**ALGORITHMS AND PROGRAMMING**\n",
    "![Alogrithms]({{site.baseurl}}/images/Q55.png)\n",
    "\n",
    "\n",
    "**IMPACT OF COMPUTING**\n",
    "![ImpactoComputing]({{site.baseurl}}/images/Q60.png)"
   ]
  }
 ],
 "metadata": {
  "language_info": {
   "name": "python"
  }
 },
 "nbformat": 4,
 "nbformat_minor": 5
}
