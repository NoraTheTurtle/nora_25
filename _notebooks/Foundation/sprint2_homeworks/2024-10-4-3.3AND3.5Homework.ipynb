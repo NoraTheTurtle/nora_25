{
 "cells": [
  {
   "cell_type": "markdown",
   "metadata": {},
   "source": [
    "---\n",
    "layout: post\n",
    "title: 3.3 & 3.5 hacks\n",
    "courses: {compsci: {week: 7}}\n",
    "type: hacks\n",
    "toc: true\n",
    "---"
   ]
  },
  {
   "cell_type": "markdown",
   "metadata": {},
   "source": [
    "## Lesson 3.3.1-4 popcorn hacks"
   ]
  },
  {
   "cell_type": "code",
   "execution_count": 24,
   "metadata": {},
   "outputs": [
    {
     "name": "stdout",
     "output_type": "stream",
     "text": [
      "21\n"
     ]
    }
   ],
   "source": [
    "#python popcorn hack (#3)\n",
    "\n",
    "number = int(input())\n",
    "total_sum = 0\n",
    "for i in range (1, number +1):\n",
    "        total_sum += i\n",
    "\n",
    "print (total_sum)"
   ]
  },
  {
   "cell_type": "code",
   "execution_count": 62,
   "metadata": {
    "vscode": {
     "languageId": "javascript"
    }
   },
   "outputs": [
    {
     "data": {
      "application/javascript": "//Javascript popcorn hack (easy)\n\n\nfunction calculate() {\n    return (2 * 3) ** 2 - 6 + 2 /1; //uses multiplication, exponents, subtraction, addition, and division\n}\n\nconsole.log(calculate()); // Output: 32\n",
      "text/plain": [
       "<IPython.core.display.Javascript object>"
      ]
     },
     "metadata": {},
     "output_type": "display_data"
    }
   ],
   "source": [
    "%%js\n",
    "//Javascript popcorn hack (easy)\n",
    "\n",
    "\n",
    "function calculate() {\n",
    "    return (2 * 3) ** 2 - 6 + 2 /1; //uses multiplication, exponents, subtraction, addition, and division\n",
    "}\n",
    "\n",
    "console.log(calculate()); // Output: 32"
   ]
  },
  {
   "cell_type": "markdown",
   "metadata": {},
   "source": [
    "## Lesson 3.3.3 python big hacks"
   ]
  },
  {
   "cell_type": "code",
   "execution_count": 60,
   "metadata": {},
   "outputs": [
    {
     "name": "stdout",
     "output_type": "stream",
     "text": [
      "Arithmetic Mean: 15.6\n",
      "Median: 14\n"
     ]
    }
   ],
   "source": [
    "#PYTHON HACK 1\n",
    "\n",
    "#Define a list of integers\n",
    "integers = [2, 8, 14, 21, 33]\n",
    "\n",
    "#Function to calculate arithmetic mean\n",
    "def calculate_mean(numbers):\n",
    "    return sum(numbers) / len(numbers)\n",
    "\n",
    "#Function to calculate median\n",
    "def calculate_median(numbers):\n",
    "    sorted_numbers = sorted(numbers)\n",
    "    mid_index = len(sorted_numbers) // 2\n",
    "    \n",
    "    #use the middle element\n",
    "    return sorted_numbers[mid_index]\n",
    "\n",
    "#Calculate mean and median\n",
    "mean = calculate_mean(integers)\n",
    "median = calculate_median(integers)\n",
    "\n",
    "#Print the results\n",
    "print(\"Arithmetic Mean:\", mean)\n",
    "print(\"Median:\", median)\n"
   ]
  },
  {
   "cell_type": "code",
   "execution_count": 61,
   "metadata": {},
   "outputs": [
    {
     "name": "stdout",
     "output_type": "stream",
     "text": [
      "[7, 22, 11, 34, 17, 52, 26, 13, 40, 20, 10, 5, 16, 8, 4, 2, 1]\n"
     ]
    }
   ],
   "source": [
    "# PYTHON HACK 2\n",
    "\n",
    "def collatz_sequence(a):\n",
    "    sequence = [a]  #Initialize the list with the starting value 'a'\n",
    "    \n",
    "    #Continue until the value reaches 1\n",
    "    while a != 1:  \n",
    "        if a % 2 == 0:\n",
    "            a = a // 2  #If even, divide by 2\n",
    "        else:\n",
    "            a = 3 * a + 1  #If odd, multiply by 3 and add 1\n",
    "        sequence.append(a)  #Add the new value to the sequence\n",
    "    \n",
    "    #Print the resulting sequence\n",
    "    print(sequence)\n",
    "\n",
    "#plug in 7 to test\n",
    "collatz_sequence(7) "
   ]
  },
  {
   "cell_type": "markdown",
   "metadata": {},
   "source": [
    "## Lesson 3.3.4 Javascript big hacks"
   ]
  },
  {
   "cell_type": "code",
   "execution_count": 59,
   "metadata": {
    "vscode": {
     "languageId": "javascript"
    }
   },
   "outputs": [
    {
     "data": {
      "application/javascript": "// JAVASCRIPT HACK 1\n\n// Function to find the GCD of two numbers\nfunction findGCD(a, b) {\n    while (b !== 0) {\n        [a, b] = [b, a % b];  // Swap the values of a and b\n    }\n    return a;  // When b becomes 0, a is the GCD\n}\n\n// Function to find the LCM of two numbers\nfunction findLCM(a, b) {\n    return Math.abs(a * b) / findGCD(a, b); // a * b / GCD = LCM\n}\n\n// Function to return both GCD and LCM as an object\nfunction gcdAndLcm(a, b) {\n    const gcd = findGCD(a, b);  // Find GCD\n    const lcm = findLCM(a, b);  // Find LCM\n    return { GCD: gcd, LCM: lcm };  // Return both as an object\n}\n\n// Define a and b\nlet a = 1;\nlet b = 7;\n\n// Call the function and print the result\nconsole.log(gcdAndLcm(a, b));\n",
      "text/plain": [
       "<IPython.core.display.Javascript object>"
      ]
     },
     "metadata": {},
     "output_type": "display_data"
    }
   ],
   "source": [
    "%%js\n",
    "//JAVASCRIPT HACK 1\n",
    "\n",
    "//Function to find the GCD of two numbers\n",
    "function findGCD(a, b) {\n",
    "    while (b !== 0) {\n",
    "        [a, b] = [b, a % b];  //Swap the values of a and b\n",
    "    }\n",
    "    return a;  //When b becomes 0, a is the GCD\n",
    "}\n",
    "\n",
    "//Function to find the LCM of two numbers\n",
    "function findLCM(a, b) {\n",
    "    return Math.abs(a * b) / findGCD(a, b); // a * b / GCD = LCM\n",
    "}\n",
    "\n",
    "//Function to return both GCD and LCM as an object\n",
    "function gcdAndLcm(a, b) {\n",
    "    const gcd = findGCD(a, b);  //Find GCD\n",
    "    const lcm = findLCM(a, b);  //Find LCM\n",
    "    return { GCD: gcd, LCM: lcm };  //Return both as an object\n",
    "}\n",
    "\n",
    "//Define a and b\n",
    "let a = 1;\n",
    "let b = 7;\n",
    "\n",
    "//Call the function and print the result\n",
    "console.log(gcdAndLcm(a, b)); //output {GCD: 1, LCM: 14}"
   ]
  },
  {
   "cell_type": "code",
   "execution_count": 63,
   "metadata": {
    "vscode": {
     "languageId": "javascript"
    }
   },
   "outputs": [
    {
     "data": {
      "application/javascript": "//JAVASCRIPT HACK 2\n\nfunction findPrimeFactors() {\n    let n = 14;\n    let primeFactors = [];\n    \n    // Check for number of 2s that divide n\n    while (n % 2 === 0) {\n        primeFactors.push(2); //use .push to add to array\n        n = n / 2;\n    }\n    \n    //now that n is odd\n    for (let i = 3; i <= Math.sqrt(n); i += 2) {\n        while (n % i === 0) {\n            primeFactors.push(i); //use .push to add to array\n            n = n / i;\n        }\n    }\n    \n    //check if n is a prime number > 2\n    if (n > 2) {\n        primeFactors.push(n);\n    }\n\n    return primeFactors;\n}\n\nconsole.log(findPrimeFactors()); // Output: [ 2, 7 ]\n",
      "text/plain": [
       "<IPython.core.display.Javascript object>"
      ]
     },
     "metadata": {},
     "output_type": "display_data"
    }
   ],
   "source": [
    "%%js\n",
    "//JAVASCRIPT HACK 2\n",
    "\n",
    "function findPrimeFactors() {\n",
    "    let n = 14;\n",
    "    let primeFactors = [];\n",
    "    \n",
    "    // Check for number of 2s that divide n\n",
    "    while (n % 2 === 0) {\n",
    "        primeFactors.push(2); //use .push to add to array\n",
    "        n = n / 2;\n",
    "    }\n",
    "    \n",
    "    //now that n is odd\n",
    "    for (let i = 3; i <= Math.sqrt(n); i += 2) {\n",
    "        while (n % i === 0) {\n",
    "            primeFactors.push(i); //use .push to add to array\n",
    "            n = n / i;\n",
    "        }\n",
    "    }\n",
    "    \n",
    "    //check if n is a prime number > 2\n",
    "    if (n > 2) {\n",
    "        primeFactors.push(n);\n",
    "    }\n",
    "\n",
    "    return primeFactors;\n",
    "}\n",
    "\n",
    "console.log(findPrimeFactors()); // Output: [ 2, 7 ]\n"
   ]
  },
  {
   "cell_type": "markdown",
   "metadata": {},
   "source": [
    "## 3.5.1-4 Popcorn Hacks"
   ]
  },
  {
   "cell_type": "code",
   "execution_count": 6,
   "metadata": {},
   "outputs": [
    {
     "name": "stdout",
     "output_type": "stream",
     "text": [
      "non-negitive\n"
     ]
    }
   ],
   "source": [
    "#POPCORN HACK 1\n",
    "def check():\n",
    "    number = float(input(\"Enter a number: \")) #prompt to enter number\n",
    "    if number < 0:\n",
    "        print(\"negitive number\") #if < 0\n",
    "    else:\n",
    "        print (\"non-negitive\") #if > 0\n",
    "check ()"
   ]
  },
  {
   "cell_type": "code",
   "execution_count": 10,
   "metadata": {},
   "outputs": [
    {
     "name": "stdout",
     "output_type": "stream",
     "text": [
      "'y' is not a vowel\n"
     ]
    }
   ],
   "source": [
    "#POPCORN HACK 2\n",
    "def is_vowel(char): #char = charecter\n",
    "    vowels = 'aeiou'\n",
    "    if char.lower() in vowels:\n",
    "        print(f\"'{char}' is a vowel\")\n",
    "    else:\n",
    "        print(f\"'{char}' is not a vowel\")\n",
    "\n",
    "char = input(\"Enter a character: \")\n",
    "\n",
    "if len(char) == 1:\n",
    "    is_vowel(char)\n",
    "else:\n",
    "    print(\"Please enter a single character.\")"
   ]
  },
  {
   "cell_type": "code",
   "execution_count": 27,
   "metadata": {
    "vscode": {
     "languageId": "javascript"
    }
   },
   "outputs": [
    {
     "data": {
      "application/javascript": "//POPCORN HACK 3 (javascript hack)\nfunction checkEvenOrOdd(number) {\n    // Use the modulus operator (%) to determine if the number is even or odd\n    if (number % 2 === 0) {\n        console.log(number + \" is even.\");\n    } else {\n        console.log(number + \" is odd.\");\n    }\n}\n\n// Example usage:\ncheckEvenOrOdd(4); // Plug in number to () ex: 4\n",
      "text/plain": [
       "<IPython.core.display.Javascript object>"
      ]
     },
     "metadata": {},
     "output_type": "display_data"
    }
   ],
   "source": [
    "%%js\n",
    "//POPCORN HACK 3 (javascript hack)\n",
    "function checkEvenOrOdd(number) {\n",
    "    // determine if the number is even or odd\n",
    "    if (number % 2 === 0) {\n",
    "        console.log(number + \" is even.\");\n",
    "    } else {\n",
    "        console.log(number + \" is odd.\");\n",
    "    }\n",
    "}\n",
    "\n",
    "// Example usage:\n",
    "checkEvenOrOdd(4); // Plug in number to () ex: 4\n"
   ]
  },
  {
   "cell_type": "markdown",
   "metadata": {},
   "source": [
    "## 3.5.3 Python big hacks"
   ]
  },
  {
   "cell_type": "code",
   "execution_count": 15,
   "metadata": {},
   "outputs": [
    {
     "name": "stdout",
     "output_type": "stream",
     "text": [
      "A | B | (A and B) or not A\n",
      "-----------------------------\n",
      "False | False | True\n",
      "False | True | True\n",
      "True | False | False\n",
      "True | True | True\n"
     ]
    }
   ],
   "source": [
    "#PYTHON HACK 1\n",
    "def generate_truth_table(variables, expression):\n",
    "\n",
    "    # Number of rows is 2 to power of # of variables!\n",
    "    num_rows = 2 ** len(variables)\n",
    "\n",
    "    # Print header\n",
    "    print(f\"{' | '.join(variables)} | {expression}\")\n",
    "    print('-' * (len(variables) * 4 + len(expression) + 3))\n",
    "\n",
    "    # Loop through each row (from 0 to 2^n - 1)\n",
    "    for i in range(num_rows):\n",
    "        # Generate binary values (0 or 1) for each variable\n",
    "        values = [(i >> j) & 1 for j in range(len(variables) - 1, -1, -1)]\n",
    "\n",
    "        # truth values\n",
    "        truth_values = [bool(val) for val in values]\n",
    "\n",
    "        # dictionary of variable values\n",
    "        value_dict = dict(zip(variables, truth_values))\n",
    "\n",
    "        # look at expression using the variable values\n",
    "        result = eval(expression, {}, value_dict)\n",
    "\n",
    "        # Print the rows of the truth table\n",
    "        row = ' | '.join(str(value_dict[var]) for var in variables)\n",
    "        print(f\"{row} | {result}\")\n",
    "\n",
    "# tet variables\n",
    "variables = ['A', 'B']\n",
    "expression = '(A and B) or not A'\n",
    "generate_truth_table(variables, expression)\n"
   ]
  },
  {
   "cell_type": "code",
   "execution_count": 18,
   "metadata": {},
   "outputs": [
    {
     "name": "stdout",
     "output_type": "stream",
     "text": [
      "Welcome to the De Morgan's Law Game!\n",
      "Question 1: Is fire cold?\n",
      "Correct!\n",
      "Question 2: Is 2 + 2 equal to 4?\n",
      "Incorrect.\n",
      "Question 3: Is the sky green?\n",
      "Correct!\n",
      "Game over! Your score: 2/3\n"
     ]
    }
   ],
   "source": [
    "#PYTHON HACK 2\n",
    "\n",
    "# using De Morgan's Law to check answer\n",
    "def check_answer(question, player_answer):\n",
    "    if question == \"Is 2 + 2 equal to 4?\":\n",
    "        # Correct answer yes\n",
    "        return not (player_answer != \"yes\")  # Applying De Morgan's Law: not (A and B) is the same as (not A) or (not B)\n",
    "    elif question == \"Is the sky green?\":\n",
    "        # Correct answer no\n",
    "        return not (player_answer != \"no\")  # Applying De Morgan's Law here to simplify logic\n",
    "    elif question == \"Is fire cold?\":\n",
    "        # Correct answer no\n",
    "        return not (player_answer != \"no\")  # Another example of simplifying with De Morgan's Law\n",
    "    else:\n",
    "        # If the question is unknown, just return False\n",
    "        return False\n",
    "\n",
    "# List of questions\n",
    "questions = [\n",
    "    \"Is 2 + 2 equal to 4?\",\n",
    "    \"Is the sky green?\",\n",
    "    \"Is fire cold?\"\n",
    "]\n",
    "\n",
    "# Game logic\n",
    "def game():\n",
    "    print(\"Welcome to the De Morgan's Law Game!\")\n",
    "    score = 0\n",
    "    total_questions = len(questions)\n",
    "\n",
    "    # Ask each question\n",
    "    for i in range(total_questions):\n",
    "        question = random.choice(questions)\n",
    "        print(f\"Question {i+1}: {question}\")\n",
    "        player_answer = input(\"Answer (yes/no): \").lower()\n",
    "        \n",
    "        # Ensure valid input\n",
    "        if player_answer not in [\"yes\", \"no\"]:\n",
    "            print(\"Invalid answer! Please enter 'yes' or 'no'.\")\n",
    "            continue\n",
    "        \n",
    "        # Check the answer using De Morgan's Law logic\n",
    "        if check_answer(question, player_answer):\n",
    "            print(\"Correct!\")\n",
    "            score += 1\n",
    "        else:\n",
    "            print(\"Incorrect.\")\n",
    "\n",
    "    # End of the game\n",
    "    print(f\"Game over! Your score: {score}/{total_questions}\")\n",
    "\n",
    "# Start the game\n",
    "if __name__ == \"__main__\":\n",
    "    game()\n"
   ]
  },
  {
   "cell_type": "markdown",
   "metadata": {},
   "source": [
    "## 3.5.4 Javascript big hacks"
   ]
  },
  {
   "cell_type": "code",
   "execution_count": 23,
   "metadata": {
    "vscode": {
     "languageId": "javascript"
    }
   },
   "outputs": [
    {
     "data": {
      "application/javascript": "//JAVASCRIPT HACK 1\n\nfunction checkPassword(password) {\n    // Check length\n    if (password.length < 10) {\n        return \"Password must be at least 10 characters long.\";\n    }\n\n    // Check uppercase letters\n    if (!/[A-Z]/.test(password)) {\n        return \"Password must contain at least one uppercase letter.\";\n    }\n\n    // Check lowercase letters\n    if (!/[a-z]/.test(password)) {\n        return \"Password must contain at least one lowercase letter.\";\n    }\n\n    // Check numbers\n    if (!/[0-9]/.test(password)) {\n        return \"Password must contain at least one number.\";\n    }\n\n    // Check spaces\n    if (/\\s/.test(password)) {\n        return \"Password cannot contain spaces.\";\n    }\n\n    return \"Password accepted!\";\n}\n\nlet password = \"TestPassword1\";  // put in password here to test\n\nlet result = checkPassword(password);\nconsole.log(result);\n",
      "text/plain": [
       "<IPython.core.display.Javascript object>"
      ]
     },
     "metadata": {},
     "output_type": "display_data"
    }
   ],
   "source": [
    "%%js\n",
    "//JAVASCRIPT HACK 1\n",
    "\n",
    "function checkPassword(password) {\n",
    "    // Check length\n",
    "    if (password.length < 10) {\n",
    "        return \"Password must be at least 10 characters long.\";\n",
    "    }\n",
    "\n",
    "    // Check uppercase letters\n",
    "    if (!/[A-Z]/.test(password)) {\n",
    "        return \"Password must contain at least one uppercase letter.\";\n",
    "    }\n",
    "\n",
    "    // Check lowercase letters\n",
    "    if (!/[a-z]/.test(password)) {\n",
    "        return \"Password must contain at least one lowercase letter.\";\n",
    "    }\n",
    "\n",
    "    // Check numbers\n",
    "    if (!/[0-9]/.test(password)) {\n",
    "        return \"Password must contain at least one number.\";\n",
    "    }\n",
    "\n",
    "    // Check spaces\n",
    "    if (/\\s/.test(password)) {\n",
    "        return \"Password cannot contain spaces.\";\n",
    "    }\n",
    "\n",
    "    return \"Password accepted!\";\n",
    "}\n",
    "\n",
    "let password = \"TestPassword1\";  // put in password here to test\n",
    "\n",
    "let result = checkPassword(password);\n",
    "console.log(result);"
   ]
  },
  {
   "cell_type": "code",
   "execution_count": 25,
   "metadata": {
    "vscode": {
     "languageId": "javascript"
    }
   },
   "outputs": [
    {
     "data": {
      "application/javascript": "//JAVASCRIPT HACK 2\n\nfunction personalityQuiz() {\n    let score = 0;\n\n    // Array of 10 questions\n    const questions = [\n        \"1. How do you prefer to spend your free time?\\n1. Reading a book\\n2. Hanging out with friends\\n3. Exploring outdoors\",\n        \"2. Which describes you best?\\n1. Calm and thoughtful\\n2. Social and outgoing\\n3. Adventurous and active\",\n        \"3. What is your favorite type of movie?\\n1. Documentaries or dramas\\n2. Comedies or romantic movies\\n3. Action or adventure\",\n        \"4. How do you handle stress?\\n1. Stay calm and think it through\\n2. Talk to friends\\n3. Do something active to blow off steam\",\n        \"5. What do you value most?\\n1. Knowledge\\n2. Relationships\\n3. Freedom\",\n        \"6. Which activity sounds the most fun to you?\\n1. Solving a puzzle\\n2. Attending a party\\n3. Going hiking\",\n        \"7. What is your ideal vacation?\\n1. Visiting a museum or historical site\\n2. Going on a group tour with friends\\n3. An outdoor adventure like camping or climbing\",\n        \"8. How do you make decisions?\\n1. Carefully weigh all options\\n2. Ask for advice from others\\n3. Go with your gut instinct\",\n        \"9. What motivates you?\\n1. Learning something new\\n2. Connecting with people\\n3. Experiencing excitement\",\n        \"10. How would your friends describe you?\\n1. Thoughtful\\n2. Fun-loving\\n3. Adventurous\"\n    ];\n\n    // Ask each question and update score\n    for (let i = 0; i < questions.length; i++) {\n        let answer = prompt(questions[i]);\n        score += parseInt(answer); // Add the user's answer to the total score\n    }\n\n    // Personality result based on score\n    if (score <= 15) {\n        console.log(\"You are introspective and prefer quiet environments. You enjoy thinking deeply and spending time in calm, peaceful settings.\");\n    } else if (score <= 25) {\n        console.log(\"You are social and enjoy spending time with others. You thrive in group settings and enjoy being around people.\");\n    } else {\n        console.log(\"You are adventurous and always seeking excitement! You love trying new things and exploring the world around you.\");\n    }\n}\n\npersonalityQuiz();\n//when run it will promp you to awsner all the questions entering a number for your awsner\n//it will add up all the scores to show your final score/personality\n",
      "text/plain": [
       "<IPython.core.display.Javascript object>"
      ]
     },
     "metadata": {},
     "output_type": "display_data"
    }
   ],
   "source": [
    "%%js\n",
    "//JAVASCRIPT HACK 2\n",
    "\n",
    "function personalityQuiz() {\n",
    "    let score = 0;\n",
    "\n",
    "    // Array of 10 questions\n",
    "    const questions = [\n",
    "        \"1. How do you prefer to spend your free time?\\n1. Reading a book\\n2. Hanging out with friends\\n3. Exploring outdoors\",\n",
    "        \"2. Which describes you best?\\n1. Calm and thoughtful\\n2. Social and outgoing\\n3. Adventurous and active\",\n",
    "        \"3. What is your favorite type of movie?\\n1. Documentaries or dramas\\n2. Comedies or romantic movies\\n3. Action or adventure\",\n",
    "        \"4. How do you handle stress?\\n1. Stay calm and think it through\\n2. Talk to friends\\n3. Do something active to blow off steam\",\n",
    "        \"5. What do you value most?\\n1. Knowledge\\n2. Relationships\\n3. Freedom\",\n",
    "        \"6. Which activity sounds the most fun to you?\\n1. Solving a puzzle\\n2. Attending a party\\n3. Going hiking\",\n",
    "        \"7. What is your ideal vacation?\\n1. Visiting a museum or historical site\\n2. Going on a group tour with friends\\n3. An outdoor adventure like camping or climbing\",\n",
    "        \"8. How do you make decisions?\\n1. Carefully weigh all options\\n2. Ask for advice from others\\n3. Go with your gut instinct\",\n",
    "        \"9. What motivates you?\\n1. Learning something new\\n2. Connecting with people\\n3. Experiencing excitement\",\n",
    "        \"10. How would your friends describe you?\\n1. Thoughtful\\n2. Fun-loving\\n3. Adventurous\"\n",
    "    ];\n",
    "\n",
    "    // Ask each question and update score\n",
    "    for (let i = 0; i < questions.length; i++) {\n",
    "        let answer = prompt(questions[i]);\n",
    "        score += parseInt(answer); // Add the user's answer to the total score\n",
    "    }\n",
    "\n",
    "    // Personality result based on score\n",
    "    if (score <= 15) {\n",
    "        console.log(\"You are introspective and prefer quiet environments. You enjoy thinking deeply and spending time in calm, peaceful settings.\");\n",
    "    } else if (score <= 25) {\n",
    "        console.log(\"You are social and enjoy spending time with others. You thrive in group settings and enjoy being around people.\");\n",
    "    } else {\n",
    "        console.log(\"You are adventurous and always seeking excitement! You love trying new things and exploring the world around you.\");\n",
    "    }\n",
    "}\n",
    "\n",
    "personalityQuiz();\n",
    "//when run it will promp you to awsner all the questions entering a number for your awsner\n",
    "//it will add up all the scores to show your final score/personality"
   ]
  }
 ],
 "metadata": {
  "kernelspec": {
   "display_name": "venv",
   "language": "python",
   "name": "python3"
  },
  "language_info": {
   "codemirror_mode": {
    "name": "ipython",
    "version": 3
   },
   "file_extension": ".py",
   "mimetype": "text/x-python",
   "name": "python",
   "nbconvert_exporter": "python",
   "pygments_lexer": "ipython3",
   "version": "3.12.5"
  }
 },
 "nbformat": 4,
 "nbformat_minor": 2
}
