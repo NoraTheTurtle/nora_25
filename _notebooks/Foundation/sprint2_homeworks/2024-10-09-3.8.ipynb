{
 "cells": [
  {
   "cell_type": "markdown",
   "metadata": {},
   "source": [
    "---\n",
    "layout: post\n",
    "title: 3.6 & 3.7 hacks\n",
    "courses: {compsci: {week: 7}}\n",
    "type: hacks\n",
    "toc: true\n",
    "---"
   ]
  },
  {
   "cell_type": "markdown",
   "metadata": {},
   "source": [
    "## POPCORN HACKZ"
   ]
  },
  {
   "cell_type": "markdown",
   "metadata": {},
   "source": [
    "3.8.1 popcorn hack #1"
   ]
  },
  {
   "cell_type": "code",
   "execution_count": 4,
   "metadata": {},
   "outputs": [
    {
     "name": "stdout",
     "output_type": "stream",
     "text": [
      "hello\n",
      "hello\n",
      "hello\n",
      "hello\n",
      "hello\n"
     ]
    }
   ],
   "source": [
    "#start at 0\n",
    "counter = 0\n",
    "#untill it reaches 5 keep writing hello\n",
    "while counter < 5:\n",
    "    print(\"hello\")\n",
    "    counter += 1"
   ]
  },
  {
   "cell_type": "markdown",
   "metadata": {},
   "source": [
    "3.8.2 popcorn hack #2"
   ]
  },
  {
   "cell_type": "code",
   "execution_count": 6,
   "metadata": {},
   "outputs": [
    {
     "name": "stdout",
     "output_type": "stream",
     "text": [
      "Nora\n",
      "Emelya\n",
      "Emelya\n",
      "Ahadian\n",
      "Ahadian\n",
      "Ahadian\n",
      "Nora\n",
      "Emelya\n",
      "Emelya\n",
      "Ahadian\n",
      "Ahadian\n",
      "Ahadian\n",
      "Nora\n",
      "Emelya\n",
      "Emelya\n",
      "Ahadian\n",
      "Ahadian\n",
      "Ahadian\n",
      "Nora\n",
      "Emelya\n",
      "Emelya\n",
      "Ahadian\n",
      "Ahadian\n",
      "Ahadian\n"
     ]
    }
   ],
   "source": [
    "#Define names\n",
    "first_name = \"Nora\"\n",
    "middle_name = \"Emelya\"\n",
    "last_name = \"Ahadian\"\n",
    "\n",
    "for _ in range(4): #repeat 4 times\n",
    "    print(first_name)  # Print first name 1 time\n",
    "    for _ in range(2):\n",
    "        print(middle_name)  # Print middle 2 times\n",
    "    for _ in range(3):\n",
    "        print(last_name)  # Print last name 3 times\n"
   ]
  },
  {
   "cell_type": "markdown",
   "metadata": {},
   "source": [
    "3.8.3 popcorn hack #3"
   ]
  },
  {
   "cell_type": "code",
   "execution_count": 7,
   "metadata": {},
   "outputs": [
    {
     "name": "stdout",
     "output_type": "stream",
     "text": [
      "N\n",
      "o\n",
      "r\n",
      "a\n"
     ]
    }
   ],
   "source": [
    "#Define name\n",
    "name = \"Nora\"\n",
    "\n",
    "#tell the code to spell it out by letter\n",
    "for letter in name:\n",
    "    print(letter)"
   ]
  },
  {
   "cell_type": "markdown",
   "metadata": {},
   "source": [
    "3.8.4 popcorn hack #4"
   ]
  },
  {
   "cell_type": "code",
   "execution_count": 12,
   "metadata": {
    "vscode": {
     "languageId": "javascript"
    }
   },
   "outputs": [
    {
     "data": {
      "application/javascript": "\n//define items for dictionary\nconst student_info = {\n    'nora': 15,\n    'joanna': 17,\n    'maryam': 17,\n    'kushi': 15\n};\n\n//Log the info as items\nconsole.log(Object.entries(student_info));\n\n//Iterate over key-value pairs with for loop!\nfor (let [name, age] of Object.entries(student_info)) {\n    console.log(name, \" is \", age);\n}\n",
      "text/plain": [
       "<IPython.core.display.Javascript object>"
      ]
     },
     "metadata": {},
     "output_type": "display_data"
    }
   ],
   "source": [
    "%%js\n",
    "\n",
    "//define items for dictionary\n",
    "const student_info = {\n",
    "    'nora': 15,\n",
    "    'joanna': 17,\n",
    "    'maryam': 17,\n",
    "    'kushi': 15\n",
    "};\n",
    "\n",
    "//Log the info as items\n",
    "console.log(Object.entries(student_info));\n",
    "\n",
    "//Iterate over key-value pairs with for loop!\n",
    "for (let [name, age] of Object.entries(student_info)) {\n",
    "    console.log(name, \" is \", age);\n",
    "}"
   ]
  },
  {
   "cell_type": "markdown",
   "metadata": {},
   "source": [
    "## 3.8.5 BIG HACKZ"
   ]
  },
  {
   "cell_type": "markdown",
   "metadata": {},
   "source": [
    "hack 1"
   ]
  },
  {
   "cell_type": "code",
   "execution_count": null,
   "metadata": {},
   "outputs": [
    {
     "name": "stdout",
     "output_type": "stream",
     "text": [
      "Incorrect password. Please try again.\n",
      "Password is correct.\n"
     ]
    }
   ],
   "source": [
    "# Correct password\n",
    "password = \"PaaSword123\"\n",
    "\n",
    "while True:\n",
    "    # Prompt user for password\n",
    "    user_input = input(\"Enter password: \")\n",
    "\n",
    "    # Check if password is correct\n",
    "    if user_input == password:\n",
    "        print(\"Password is correct.\")\n",
    "    else:\n",
    "        print(\"Incorrect password. Please try again.\")\n"
   ]
  },
  {
   "cell_type": "markdown",
   "metadata": {},
   "source": [
    "Hack 2"
   ]
  },
  {
   "cell_type": "code",
   "execution_count": 1,
   "metadata": {},
   "outputs": [
    {
     "name": "stdout",
     "output_type": "stream",
     "text": [
      "n\n",
      "o\n",
      "r\n",
      "a\n"
     ]
    }
   ],
   "source": [
    "#Prompt user for their name\n",
    "name = input(\"Please enter your name: \")\n",
    "\n",
    "#Print each letter\n",
    "for letter in name:\n",
    "    print(letter)"
   ]
  },
  {
   "cell_type": "markdown",
   "metadata": {},
   "source": [
    "Hack 3"
   ]
  },
  {
   "cell_type": "code",
   "execution_count": 4,
   "metadata": {},
   "outputs": [
    {
     "name": "stdout",
     "output_type": "stream",
     "text": [
      "Apple\n",
      "Banana\n",
      "Orange\n",
      "Mango\n",
      "Grapes\n",
      "Pineapple\n",
      "Strawberry\n"
     ]
    }
   ],
   "source": [
    "# make list of fruits\n",
    "fruits = ['Apple', 'Banana', 'Orange', 'Mango', 'Grapes', 'Pineapple', 'Strawberry']\n",
    "\n",
    "# Loop through the list and print each fruit\n",
    "for fruits in fruits:\n",
    "    print(fruits)"
   ]
  }
 ],
 "metadata": {
  "kernelspec": {
   "display_name": "venv",
   "language": "python",
   "name": "python3"
  },
  "language_info": {
   "codemirror_mode": {
    "name": "ipython",
    "version": 3
   },
   "file_extension": ".py",
   "mimetype": "text/x-python",
   "name": "python",
   "nbconvert_exporter": "python",
   "pygments_lexer": "ipython3",
   "version": "3.12.5"
  }
 },
 "nbformat": 4,
 "nbformat_minor": 2
}
