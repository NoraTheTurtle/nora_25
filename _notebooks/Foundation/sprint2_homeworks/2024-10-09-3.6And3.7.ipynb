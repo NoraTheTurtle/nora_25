{
 "cells": [
  {
   "cell_type": "markdown",
   "metadata": {},
   "source": [
    "---\n",
    "layout: post\n",
    "title: 3.6 & 3.7 hacks\n",
    "courses: {compsci: {week: 7}}\n",
    "type: hacks\n",
    "toc: true\n",
    "---"
   ]
  },
  {
   "cell_type": "code",
   "execution_count": 18,
   "metadata": {},
   "outputs": [
    {
     "name": "stdout",
     "output_type": "stream",
     "text": [
      "It's a warm day\n"
     ]
    }
   ],
   "source": [
    "#3.6.1 POPCORN HACK 1\n",
    "#use temp to check if it works!\n",
    "temperature = 70\n",
    "\n",
    "#hot day\n",
    "if temperature >= 80:\n",
    "    print(\"It's a hot day\")\n",
    "#warm day\n",
    "elif 60 <= temperature <= 79:\n",
    "    print(\"It's a warm day\")\n",
    "#cold day\n",
    "else:\n",
    "    print(\"It's a cold day\")"
   ]
  },
  {
   "cell_type": "markdown",
   "metadata": {},
   "source": [
    "### Explanation:\n",
    "I used elif to add another 'else if' stating that if it is between 60 and 79 degrees then it is a warm day"
   ]
  },
  {
   "cell_type": "code",
   "execution_count": 60,
   "metadata": {
    "vscode": {
     "languageId": "javascript"
    }
   },
   "outputs": [
    {
     "data": {
      "application/javascript": "//3.6.2 POPCORN HACK 1\n\n//plug in numbers to score to test outcomes\nlet score = 55;\n\nif (score >= 60) {\n    console.log(\"You passed yahoo!\");\n}\n//an an else to say that you failed\nelse (score >= 59){\n    console.log(\"uh oh you failed (stupid)\")\n}\n",
      "text/plain": [
       "<IPython.core.display.Javascript object>"
      ]
     },
     "metadata": {},
     "output_type": "display_data"
    }
   ],
   "source": [
    "%%js\n",
    "//3.6.2 POPCORN HACK 1\n",
    "\n",
    "//plug in numbers to score to test outcomes\n",
    "let score = 55;\n",
    "\n",
    "if (score >= 60) {\n",
    "    console.log(\"You passed yahoo!\");\n",
    "}\n",
    "//an an else to say that you failed\n",
    "else (score >= 59){\n",
    "    console.log(\"uh oh you failed (stupid)\")\n",
    "}"
   ]
  },
  {
   "cell_type": "markdown",
   "metadata": {},
   "source": [
    "### Explanation:\n",
    "I added an else to the condition where if the score is less then or equal to 59 then you failed (and your stupid)"
   ]
  },
  {
   "cell_type": "code",
   "execution_count": 59,
   "metadata": {
    "vscode": {
     "languageId": "javascript"
    }
   },
   "outputs": [
    {
     "data": {
      "application/javascript": "//3.7.2 POPCORN HACK 1\n\nlet weather = \"sunny\";\nlet transportation = \"available\";\nlet boots = \"not present\";\nlet energy = \"energized\"; //new condition\n\nconsole.log(\"The weather is \" + weather);\nconsole.log(\"Your transportation is \" + transportation);\nconsole.log(\"Your boots are \" + boots);\nconsole.log(\"you are feeling \" + energy) \n\nif (weather === \"sunny\") {\n    if (transportation === \"available\") {\n        if (boots === \"present\") {\n            if (energy == \"energized\"){\n                console.log(\"you are ready to go hiking!\")\n            } else {\n            console.log(\"you are too tired to go hiking\")\n            }\n        } else {\n        console.log(\"You need to find your boots first.\");\n        }\n    } else {\n    console.log(\"You need to arrange transportation.\");\n    }\n} else {\nconsole.log(\"It's not good weather for hiking.\");\n}\n",
      "text/plain": [
       "<IPython.core.display.Javascript object>"
      ]
     },
     "metadata": {},
     "output_type": "display_data"
    }
   ],
   "source": [
    "%%js\n",
    "//3.7.2 POPCORN HACK 1\n",
    "\n",
    "let weather = \"sunny\";\n",
    "let transportation = \"available\";\n",
    "let boots = \"not present\";\n",
    "let energy = \"energized\"; //new condition\n",
    "\n",
    "console.log(\"The weather is \" + weather);\n",
    "console.log(\"Your transportation is \" + transportation);\n",
    "console.log(\"Your boots are \" + boots);\n",
    "console.log(\"you are feeling \" + energy) \n",
    "\n",
    "if (weather === \"sunny\") {\n",
    "    if (transportation === \"available\") {\n",
    "        if (boots === \"present\") {\n",
    "            if (energy == \"energized\"){\n",
    "                console.log(\"you are ready to go hiking!\")\n",
    "            } else {\n",
    "            console.log(\"you are too tired to go hiking\")\n",
    "            }\n",
    "        } else {\n",
    "        console.log(\"You need to find your boots first.\");\n",
    "        }\n",
    "    } else {\n",
    "    console.log(\"You need to arrange transportation.\");\n",
    "    }\n",
    "} else {\n",
    "console.log(\"It's not good weather for hiking.\");\n",
    "}"
   ]
  },
  {
   "cell_type": "markdown",
   "metadata": {},
   "source": [
    "### Explanation:\n",
    "I used javascript formating to indent the else statments.  Then I added in my new energy conditional into the variables and in the function"
   ]
  },
  {
   "cell_type": "code",
   "execution_count": 32,
   "metadata": {},
   "outputs": [
    {
     "name": "stdout",
     "output_type": "stream",
     "text": [
      "The weather is sunny\n",
      "Your transportation is available\n",
      "Your boots are not present\n",
      "you are feeling energized\n",
      "You need to arrange transportation.\n"
     ]
    }
   ],
   "source": [
    "#3.7.2 POPCORN HACK 1\n",
    "\n",
    "weather = \"sunny\"\n",
    "transportation = \"available\"\n",
    "boots = \"not present\"\n",
    "energy = \"energized\" #new condition\n",
    "\n",
    "print(\"The weather is \" + weather)\n",
    "print(\"Your transportation is \" + transportation)\n",
    "print(\"Your boots are \" + boots)\n",
    "print(\"you are feeling \" + energy) \n",
    "\n",
    "\n",
    "if weather == \"sunny\":\n",
    "    if transportation == \"available\":\n",
    "        if boots == \"present\":\n",
    "            if energy == \"energized\":\n",
    "                print(\"You are ready to go hiking!\")\n",
    "            else:\n",
    "                print(\"You need to find your boots first.\")\n",
    "        else:\n",
    "            print(\"You need to arrange transportation.\")\n",
    "    else:\n",
    "        print(\"It's not good weather for hiking.\")\n",
    "else: \n",
    "    print(\"you dont have enough energy\") #added conditional based on your energy level\n"
   ]
  },
  {
   "cell_type": "markdown",
   "metadata": {},
   "source": [
    "### Explanation: \n",
    "I added another conditional that checks your energy levels.  If you are energized you can go hiking, if your tired you need to rest"
   ]
  },
  {
   "cell_type": "markdown",
   "metadata": {},
   "source": [
    "# BIG HACKS 3.6.3 "
   ]
  },
  {
   "cell_type": "code",
   "execution_count": 39,
   "metadata": {},
   "outputs": [
    {
     "name": "stdout",
     "output_type": "stream",
     "text": [
      "Odd\n",
      "Even\n"
     ]
    }
   ],
   "source": [
    "#HACK 1\n",
    "#if its divisible by 2 then it is even if not then it is odd\n",
    "def check_odd_even(number):\n",
    "    if number % 2 == 0:\n",
    "        return \"Even\"\n",
    "    else:\n",
    "        return \"Odd\"\n",
    "\n",
    "\n",
    "print(check_odd_even(3))  # check odd number\n",
    "print(check_odd_even(12))  # check even number"
   ]
  },
  {
   "cell_type": "code",
   "execution_count": 40,
   "metadata": {},
   "outputs": [
    {
     "name": "stdout",
     "output_type": "stream",
     "text": [
      "Leap Year\n",
      "Not a Leap Year\n"
     ]
    }
   ],
   "source": [
    "#HACK 2\n",
    " #Check if the year is divisible by 4 but not by 100, or divisible by 400\n",
    "def is_leap_year(year):\n",
    "    if (year % 4 == 0 and year % 100 != 0) or (year % 400 == 0):\n",
    "        return \"Leap Year\"\n",
    "    else:\n",
    "        return \"Not a Leap Year\"\n",
    "\n",
    "# Testing the function with different years\n",
    "print(is_leap_year(2000))  # check leap year\n",
    "print(is_leap_year(1900))  # check not leap Year\n"
   ]
  },
  {
   "cell_type": "code",
   "execution_count": 47,
   "metadata": {},
   "outputs": [
    {
     "name": "stdout",
     "output_type": "stream",
     "text": [
      "It's a warm day\n"
     ]
    }
   ],
   "source": [
    "#HACK 3\n",
    "\n",
    "#hot day\n",
    "if temperature >= 85:\n",
    "    print(\"It's a hot day\")\n",
    "#warm day\n",
    "elif 60 <= temperature <= 70:\n",
    "    print(\"It's a warm day\")\n",
    "#cold day\n",
    "else:\n",
    "    print(\"It's a cold day\")\n",
    "\n",
    "#plug in a tempreture to check if it works!\n",
    "temperature = 60"
   ]
  },
  {
   "cell_type": "markdown",
   "metadata": {},
   "source": [
    "# BIG HACKS 3.6.4 "
   ]
  },
  {
   "cell_type": "code",
   "execution_count": 48,
   "metadata": {
    "vscode": {
     "languageId": "javascript"
    }
   },
   "outputs": [
    {
     "data": {
      "application/javascript": "\nfunction checkVotingEligibility(age) {\n    // Check if the age is 18 or older\n    if (age >= 18) {\n        return \"You are eligible to vote\";\n    } else {\n        return \"You are not eligible to vote\";\n    }\n}\n\n// Testing the function with different age values\nconsole.log(checkVotingEligibility(15));  // check eligible to vote\nconsole.log(checkVotingEligibility(18));  // check eligible to vote\n",
      "text/plain": [
       "<IPython.core.display.Javascript object>"
      ]
     },
     "metadata": {},
     "output_type": "display_data"
    }
   ],
   "source": [
    "%%js\n",
    "//HACK 1\n",
    "function checkVotingEligibility(age) {\n",
    "    // Check if the age is 18 or older\n",
    "    if (age >= 18) {\n",
    "        return \"You are eligible to vote\";\n",
    "    } else {\n",
    "        return \"You are not eligible to vote\";\n",
    "    }\n",
    "}\n",
    "\n",
    "// Testing the function with different age values\n",
    "console.log(checkVotingEligibility(15));  // check eligible to vote\n",
    "console.log(checkVotingEligibility(18));  // check eligible to vote\n"
   ]
  },
  {
   "cell_type": "code",
   "execution_count": 50,
   "metadata": {
    "vscode": {
     "languageId": "javascript"
    }
   },
   "outputs": [
    {
     "data": {
      "application/javascript": "\nfunction getGrade(score) {\n    // determine letter grade based on inequalities\n    if (score >= 90) {\n        return \"Grade: A\";\n    } else if (score >= 80 && score < 90) {\n        return \"Grade: B\";\n    } else if (score >= 70 && score < 80) {\n        return \"Grade: C\";\n    } else {\n        return \"Grade: F\";\n    }\n}\n\n// Testing all letters\nconsole.log(getGrade(95));  // Grade A\nconsole.log(getGrade(85));  // Grade B\nconsole.log(getGrade(75));  // Grade C\nconsole.log(getGrade(65));  // Grade F\n",
      "text/plain": [
       "<IPython.core.display.Javascript object>"
      ]
     },
     "metadata": {},
     "output_type": "display_data"
    }
   ],
   "source": [
    "%%js\n",
    "//HACK 2\n",
    "function getGrade(score) {\n",
    "    // determine letter grade based on inequalities\n",
    "    if (score >= 90) {\n",
    "        return \"Grade: A\";\n",
    "    } else if (score >= 80 && score < 90) {\n",
    "        return \"Grade: B\";\n",
    "    } else if (score >= 70 && score < 80) {\n",
    "        return \"Grade: C\";\n",
    "    } else {\n",
    "        return \"Grade: F\";\n",
    "    }\n",
    "}\n",
    "\n",
    "// Testing all letters\n",
    "console.log(getGrade(95));  // Grade A\n",
    "console.log(getGrade(85));  // Grade B\n",
    "console.log(getGrade(75));  // Grade C\n",
    "console.log(getGrade(65));  // Grade F"
   ]
  },
  {
   "cell_type": "code",
   "execution_count": 55,
   "metadata": {
    "vscode": {
     "languageId": "javascript"
    }
   },
   "outputs": [
    {
     "data": {
      "application/javascript": "//HACK 3\nfunction convertTemperature(value, scale) {\n    //check farenheight or celcius and convert the temp\n    if (scale === \"C\") {\n        // Convert Celsius --> Fahrenheit\n        const fahrenheit = (value * 9/5) + 32;\n        return fahrenheit + \"°F\";\n    } else if (scale === \"F\") {\n        // Convert Fahrenheit --> Celsius\n        const celsius = (value - 32) * 5/9;\n        return celsius.toFixed(2) + \"°C\"; // Rounding to two decimal places\n    } else {\n        return \"Error: Invalid scale. Use 'C' for Celsius or 'F' for Fahrenheit.\";\n    }\n}\n\nconsole.log(convertTemperature(0, \"C\"));   // 32 degrees farenheight\nconsole.log(convertTemperature(32, \"F\"));  // 0 degrees celcius\n",
      "text/plain": [
       "<IPython.core.display.Javascript object>"
      ]
     },
     "metadata": {},
     "output_type": "display_data"
    }
   ],
   "source": [
    "%%js\n",
    "//HACK 3\n",
    "function convertTemperature(value, scale) {\n",
    "    //check farenheight or celcius and convert the temp\n",
    "    if (scale === \"C\") {\n",
    "        // Convert Celsius --> Fahrenheit\n",
    "        const fahrenheit = (value * 9/5) + 32;\n",
    "        return fahrenheit + \"°F\";\n",
    "    } else if (scale === \"F\") {\n",
    "        // Convert Fahrenheit --> Celsius\n",
    "        const celsius = (value - 32) * 5/9;\n",
    "        return celsius.toFixed(2) + \"°C\"; // Rounding to two decimal places\n",
    "    } else {\n",
    "        return \"Error: Invalid scale. Use 'C' for Celsius or 'F' for Fahrenheit.\";\n",
    "    }\n",
    "}\n",
    "\n",
    "console.log(convertTemperature(0, \"C\"));   // 32 degrees farenheight\n",
    "console.log(convertTemperature(32, \"F\"));  // 0 degrees celcius\n"
   ]
  },
  {
   "cell_type": "markdown",
   "metadata": {},
   "source": [
    "# BIG HACKS 3.7.3"
   ]
  },
  {
   "cell_type": "markdown",
   "metadata": {},
   "source": [
    "HACK 1 (conditions to go to the beach)\n",
    "\n",
    "    The weather must be warm.\n",
    "    You must wear a swimsuit.\n",
    "    You must bring enough food.\n",
    "\n",
    "    If all conditions are met, print you are ready to go the beach.\n",
    "    If the weather is not warm, print it is a bad day to go to the beach.\n",
    "    If you don't have a swimsuit, print you need to buy a swimsuit.\n",
    "    If you don't bring enough food, print you need to buy/bring more food.\n",
    "    "
   ]
  },
  {
   "cell_type": "markdown",
   "metadata": {},
   "source": [
    "Hack 2 (Conditions to adopt a pet)\n",
    "\n",
    "    You must be 18 years or have a gaurdian.\n",
    "    you must have the finances to afford animal supplies and care for the animal.\n",
    "    You must have the time to care for an animal.\n",
    "\n",
    "    If all conditions are met, print you can adopt a pet.\n",
    "    If you are not old enough or have a gaurdian, print you must be 18 or older to adopt a pet.\n",
    "    If you dont have the finances to care for a pet, print you need more money to care for a pet.\n",
    "    If you do not have the time, print you need more time to care for an animal."
   ]
  },
  {
   "cell_type": "markdown",
   "metadata": {
    "vscode": {
     "languageId": "javascript"
    }
   },
   "source": [
    "Hack 3 (conditions to partisipate in a marathon)\n",
    "\n",
    "    The weather must be clear.\n",
    "    You must have running shoes.\n",
    "    You must have practiced for at least 10 days.\n",
    "\n",
    "    If all conditions are met, print you are ready to do a marathon.\n",
    "    If you don’t have running shoes, print you need to buy shoes first.\n",
    "    If you haven’t practiced enough, print you need to practice more first.\n",
    "    If the weather is not clear, print it is not the right weather to do a marathon."
   ]
  },
  {
   "cell_type": "markdown",
   "metadata": {},
   "source": [
    "## Python Quiz Awsners"
   ]
  },
  {
   "cell_type": "markdown",
   "metadata": {},
   "source": [
    "Question 1: C. \"you are too young to enter\"\n",
    "\n",
    "Question 2: B. \"x is positive but y is not\"\n",
    "\n",
    "Question 3: C. \"its too cold\""
   ]
  },
  {
   "cell_type": "markdown",
   "metadata": {},
   "source": [
    "# BIG HACKS 3.7.4"
   ]
  },
  {
   "cell_type": "markdown",
   "metadata": {
    "vscode": {
     "languageId": "bat"
    }
   },
   "source": [
    "Hack 1 (conditions to study for an exam)\n",
    "\n",
    "    You must have your material (notebooks, textbooks, etc...).\n",
    "    You must have a quiet enviroment to study.\n",
    "    You must be energized enoguh to study.\n",
    "\n",
    "    If all conditions are met, log you are ready to study.\n",
    "    If you do not have study materials, log you must first gather your materials.\n",
    "    If you do not have a quiet enviroment, log you must first find a quiet place to study.\n",
    "    If you do not have energy, log you need to take a nap before studying."
   ]
  },
  {
   "cell_type": "markdown",
   "metadata": {},
   "source": [
    "Hack 2 (conditions to bake a cake)\n",
    "\n",
    "    You must have all the ingredients (flour, eggs, sugar, etc...).\n",
    "    you must have a working oven\n",
    "    you must have a minimum of 2 hours of free time\n",
    "\n",
    "    If all conditions are met, log you can bake a cake.\n",
    "    If you do not have all ingredients, log you need to buy ingredients.\n",
    "    If you do not have a working oven, log you must fix or replease your oven.\n",
    "    If you dont have a minimum of 2 hours to bake, log you need more time to bake a cake."
   ]
  },
  {
   "cell_type": "markdown",
   "metadata": {},
   "source": [
    "Hack 3 (conditions to go camping)\n",
    "\n",
    "    The weather must be clear.\n",
    "    You must have shelter (a tent or cabin).\n",
    "    You must have enough food and water.\n",
    "\n",
    "    If all conditions are met, log you are ready to go camping.\n",
    "    If the weather is not clear, log it is not the right day to go camping.\n",
    "    If you dont have shelter, log purchase a tent or cabin before going camping\n",
    "    If you dont have enough food and water, log you need to pack more food and water before going camping."
   ]
  },
  {
   "cell_type": "markdown",
   "metadata": {},
   "source": [
    "## Javascript Quiz Awsners"
   ]
  },
  {
   "cell_type": "markdown",
   "metadata": {},
   "source": [
    "Question 1: B. \"Grade: B\"\n",
    "\n",
    "Question 2: B. \"Member discount applies\"\n",
    "\n",
    "Question 3: A. \"lets go to the park!\""
   ]
  }
 ],
 "metadata": {
  "kernelspec": {
   "display_name": "venv",
   "language": "python",
   "name": "python3"
  },
  "language_info": {
   "codemirror_mode": {
    "name": "ipython",
    "version": 3
   },
   "file_extension": ".py",
   "mimetype": "text/x-python",
   "name": "python",
   "nbconvert_exporter": "python",
   "pygments_lexer": "ipython3",
   "version": "3.12.5"
  }
 },
 "nbformat": 4,
 "nbformat_minor": 2
}
