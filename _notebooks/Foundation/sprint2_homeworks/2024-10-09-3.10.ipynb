{
 "cells": [
  {
   "cell_type": "markdown",
   "metadata": {},
   "source": [
    "---\n",
    "layout: post\n",
    "title: 3.10 (1) hacks\n",
    "courses: {compsci: {week: 7}}\n",
    "type: hacks\n",
    "toc: true\n",
    "---"
   ]
  },
  {
   "cell_type": "markdown",
   "metadata": {},
   "source": [
    "## Poporn Hacks"
   ]
  },
  {
   "cell_type": "code",
   "execution_count": 21,
   "metadata": {},
   "outputs": [
    {
     "name": "stdout",
     "output_type": "stream",
     "text": [
      "Items in the list:\n",
      "Banananana\n",
      "Ganananana\n",
      "Lanananana\n",
      "Ranananana\n"
     ]
    }
   ],
   "source": [
    "#3.10.1 Popcorn Hack 1\n",
    "def append_and_print():\n",
    "    a_list = []\n",
    "    \n",
    "    while True:\n",
    "        user_input = input(\"Enter an item to append (or type 'q' to quit): \")\n",
    "        if user_input.lower() == 'q':\n",
    "            break\n",
    "        a_list.append(user_input)\n",
    "    \n",
    "    print(\"Items in list:\")\n",
    "    for item in a_list:\n",
    "        print(item)\n",
    "\n",
    "append_and_print()\n"
   ]
  },
  {
   "cell_type": "code",
   "execution_count": 10,
   "metadata": {},
   "outputs": [
    {
     "name": "stdout",
     "output_type": "stream",
     "text": [
      "Original list: ['mat', 'pat', 'cat', 'hat']\n",
      "new list after deleting second item: ['mat', 'cat', 'hat']\n"
     ]
    }
   ],
   "source": [
    "#3.10.2 Popcorn Hack 2\n",
    "items = []\n",
    "while True:\n",
    "    #promp user for items\n",
    "    user_input = input(\"Enter an item you want (or 'q' to quit): \")\n",
    "    if user_input.lower() == 'q':\n",
    "        break\n",
    "    items.append(user_input)\n",
    "\n",
    "    #show list of items\n",
    "print(\"Original list:\", items)\n",
    "\n",
    "# Deleting the second item\n",
    "if len(items) > 1:\n",
    "    del items[1]\n",
    "\n",
    "    #reprint\n",
    "    print(\"new list after deleting second item:\", items)\n",
    "else:\n",
    "    print(\"uh oh there is no seccond item to print! :(\")\n"
   ]
  },
  {
   "cell_type": "code",
   "execution_count": 24,
   "metadata": {},
   "outputs": [
    {
     "name": "stdout",
     "output_type": "stream",
     "text": [
      "number of favorite foods: 7\n",
      "list of favorite foods: ['Pizza', 'Pasta', 'Garlic bread', 'Meatballs', 'Cheese', 'Tiramisu', 'Gelato']\n"
     ]
    }
   ],
   "source": [
    "#3.10.3 Popcorn Hack 3\n",
    "\n",
    "#original list of foods\n",
    "favorite_foods = [\"Pizza\", \"Pasta\", \"Garlic bread\", \"Meatballs\", \"Cheese\"]\n",
    "\n",
    "#use .apend() to add 2 more foods to the list\n",
    "favorite_foods.append(\"Tiramisu\")\n",
    "favorite_foods.append(\"Gelato\")\n",
    "\n",
    "#print total number of items\n",
    "total_items = len(favorite_foods)\n",
    "print(\"number of favorite foods:\", total_items)\n",
    "\n",
    "#print updated list with added foods\n",
    "print(\"list of favorite foods:\", favorite_foods)\n"
   ]
  },
  {
   "cell_type": "code",
   "execution_count": 28,
   "metadata": {
    "vscode": {
     "languageId": "javascript"
    }
   },
   "outputs": [
    {
     "data": {
      "application/javascript": "let fruits = [\"apple\", \"banana\", \"orange\"];\n//define banana as fruit I wanna check for\nlet elementToCheck = \"banana\";\n\n//check if banana is shown in the list\nif (fruits.includes(elementToCheck)) {\n    console.log(`${elementToCheck} exists in the array`);\n} else {\n    console.log(`${elementToCheck} does not exist in the array`);\n}\n",
      "text/plain": [
       "<IPython.core.display.Javascript object>"
      ]
     },
     "metadata": {},
     "output_type": "display_data"
    }
   ],
   "source": [
    "%%js\n",
    "//3.10.4 Popcorn Hack 4\n",
    "\n",
    "let fruits = [\"apple\", \"banana\", \"orange\"];\n",
    "\n",
    "//define banana as fruit I wanna check for\n",
    "let checkElement = \"banana\";\n",
    "\n",
    "//check if banana is shown in the list\n",
    "if (fruits.includes(checkElement)) {\n",
    "    console.log(`${checkElement} exists in the array`);\n",
    "} else {\n",
    "    console.log(`${checkElement} does not exist in the array`);\n",
    "}"
   ]
  },
  {
   "cell_type": "markdown",
   "metadata": {},
   "source": [
    "## 3.10.4 Big Hacks"
   ]
  },
  {
   "cell_type": "code",
   "execution_count": 30,
   "metadata": {},
   "outputs": [
    {
     "name": "stdout",
     "output_type": "stream",
     "text": [
      "The second number is: 20\n"
     ]
    }
   ],
   "source": [
    "#Hack 1\n",
    "\n",
    "#Make list of numbers\n",
    "numbers = [10, 20, 30, 40, 50]\n",
    "\n",
    "#Print the second element in the list (number 20)\n",
    "print(\"The second number is:\", numbers[1])"
   ]
  },
  {
   "cell_type": "code",
   "execution_count": 31,
   "metadata": {
    "vscode": {
     "languageId": "javascript"
    }
   },
   "outputs": [
    {
     "data": {
      "application/javascript": "//Hack 2\n\n//Make list of numbers\nlet numbers = [10, 20, 30, 40, 50];\n\n//log the second element in the list (number 20)\nconsole.log(\"The second element is:\", numbers[1]);\n",
      "text/plain": [
       "<IPython.core.display.Javascript object>"
      ]
     },
     "metadata": {},
     "output_type": "display_data"
    }
   ],
   "source": [
    "%%js\n",
    "//Hack 2\n",
    "\n",
    "//Make list of numbers\n",
    "let numbers = [10, 20, 30, 40, 50];\n",
    "\n",
    "//log the second element in the list (number 20)\n",
    "console.log(\"The second element is:\", numbers[1]);"
   ]
  },
  {
   "cell_type": "code",
   "execution_count": 4,
   "metadata": {},
   "outputs": [
    {
     "name": "stdout",
     "output_type": "stream",
     "text": [
      "\n",
      "1. View To-Do List\n",
      "2. Add Item\n",
      "3. Remove Item\n",
      "4. Exit\n",
      "\n",
      "Your list is empty.\n",
      "\n",
      "1. View To-Do List\n",
      "2. Add Item\n",
      "3. Remove Item\n",
      "4. Exit\n"
     ]
    }
   ],
   "source": [
    "#Hack 3\n",
    "\n",
    "#show the menu of options\n",
    "def show_menu():\n",
    "    print(\"\\n1. View To-Do List\\n2. Add Item\\n3. Remove Item\\n4. Exit\")\n",
    "\n",
    "#show the todo list (if empty go back to the main menu)\n",
    "def view_list(todo_list):\n",
    "    print(\"\\nYour To-Do List:\" if todo_list else \"\\nYour list is empty.\")\n",
    "    for i, item in enumerate(todo_list, 1):\n",
    "        print(f\"{i}. {item}\")\n",
    "\n",
    "#prompt the user to choose options\n",
    "def main():\n",
    "    todo_list = []\n",
    "    while True:\n",
    "        show_menu()\n",
    "        choice = input(\"\\nChoose an option: \")\n",
    "        if choice == \"1\":\n",
    "            view_list(todo_list)\n",
    "        elif choice == \"2\":\n",
    "            todo_list.append(input(\"Enter a task: \"))\n",
    "        elif choice == \"3\":\n",
    "            view_list(todo_list)\n",
    "            if todo_list:\n",
    "                try:\n",
    "                    todo_list.pop(int(input(\"Remove which item? \")) - 1)\n",
    "                except (ValueError, IndexError):\n",
    "                    print(\"Invalid number.\")\n",
    "        elif choice == \"4\":\n",
    "            break\n",
    "        else:\n",
    "            print(\"Invalid option.\")\n",
    "\n",
    "if __name__ == \"__main__\":\n",
    "    main()\n"
   ]
  },
  {
   "cell_type": "code",
   "execution_count": 6,
   "metadata": {
    "vscode": {
     "languageId": "javascript"
    }
   },
   "outputs": [
    {
     "data": {
      "application/javascript": "\nconst workouts = [];\n\n//show optipns to choose from\nfunction showMenu() {\n    console.log(\"\\n1. View Workouts\\n2. Add Workout\\n3. Exit\");\n}\n\n//if view workouts is chosen\nfunction viewWorkouts() {\n    if (workouts.length === 0) {\n        console.log(\"\\nNo workouts logged.\");\n    } else {\n        console.log(\"\\nYour Workouts:\");\n        workouts.forEach((w, i) => console.log(`${i + 1}. ${w.type}, ${w.duration} mins, ${w.calories} kcal`));\n    }\n}\n\n//if add workouts is chosen\nfunction addWorkout() {\n    const type = prompt(\"Workout type:\");\n    const duration = prompt(\"Duration (minutes):\");\n    const calories = prompt(\"Calories burned:\");\n\n    if (type && duration && calories) {\n        workouts.push({ type, duration, calories });\n        console.log(\"Workout added!\");\n    } else {\n        console.log(\"Invalid input. Try again.\");\n    }\n}\n\n//if main menu is chosen\nfunction main() {\n    while (true) {\n        showMenu();\n        const choice = prompt(\"Choose an option:\");\n        if (choice === \"1\") viewWorkouts();\n        else if (choice === \"2\") addWorkout();\n        else if (choice === \"3\") break;\n        else console.log(\"Invalid choice.\");\n    }\n}\n\nmain();\n",
      "text/plain": [
       "<IPython.core.display.Javascript object>"
      ]
     },
     "metadata": {},
     "output_type": "display_data"
    }
   ],
   "source": [
    "%%js\n",
    "\n",
    "const workouts = [];\n",
    "\n",
    "//show optipns to choose from\n",
    "function showMenu() {\n",
    "    console.log(\"\\n1. View Workouts\\n2. Add Workout\\n3. Exit\");\n",
    "}\n",
    "\n",
    "//if view workouts is chosen\n",
    "function viewWorkouts() {\n",
    "    if (workouts.length === 0) {\n",
    "        console.log(\"\\nNo workouts logged.\");\n",
    "    } else {\n",
    "        console.log(\"\\nYour Workouts:\");\n",
    "        workouts.forEach((w, i) => console.log(`${i + 1}. ${w.type}, ${w.duration} mins, ${w.calories} kcal`));\n",
    "    }\n",
    "}\n",
    "\n",
    "//if add workouts is chosen\n",
    "function addWorkout() {\n",
    "    const type = prompt(\"Workout type:\");\n",
    "    const duration = prompt(\"Duration (minutes):\");\n",
    "    const calories = prompt(\"Calories burned:\");\n",
    "\n",
    "    if (type && duration && calories) {\n",
    "        workouts.push({ type, duration, calories });\n",
    "        console.log(\"Workout added!\");\n",
    "    } else {\n",
    "        console.log(\"Invalid input. Try again.\");\n",
    "    }\n",
    "}\n",
    "\n",
    "//if main menu is chosen\n",
    "function main() {\n",
    "    while (true) {\n",
    "        showMenu();\n",
    "        const choice = prompt(\"Choose an option:\");\n",
    "        if (choice === \"1\") viewWorkouts();\n",
    "        else if (choice === \"2\") addWorkout();\n",
    "        else if (choice === \"3\") break;\n",
    "        else console.log(\"Invalid choice.\");\n",
    "    }\n",
    "}\n",
    "\n",
    "main();\n"
   ]
  }
 ],
 "metadata": {
  "kernelspec": {
   "display_name": "venv",
   "language": "python",
   "name": "python3"
  },
  "language_info": {
   "codemirror_mode": {
    "name": "ipython",
    "version": 3
   },
   "file_extension": ".py",
   "mimetype": "text/x-python",
   "name": "python",
   "nbconvert_exporter": "python",
   "pygments_lexer": "ipython3",
   "version": "3.12.5"
  }
 },
 "nbformat": 4,
 "nbformat_minor": 2
}
