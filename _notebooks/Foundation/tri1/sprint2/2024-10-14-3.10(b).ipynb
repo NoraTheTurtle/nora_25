{
 "cells": [
  {
   "cell_type": "markdown",
   "metadata": {},
   "source": [
    "---\n",
    "layout: post\n",
    "title: 3.10 (b) hacks\n",
    "courses: {compsci: {week: 6}}\n",
    "type: hacks\n",
    "toc: true\n",
    "---"
   ]
  },
  {
   "cell_type": "markdown",
   "metadata": {},
   "source": [
    "## 3.10.1"
   ]
  },
  {
   "cell_type": "code",
   "execution_count": 16,
   "metadata": {
    "vscode": {
     "languageId": "javascript"
    }
   },
   "outputs": [
    {
     "data": {
      "application/javascript": "//POPCORN HACK 1\n\n// Create an array of numbers\nlet numbers = [10, 20, 30, 40, 50];\n\n// Reverse the array using the reverse() method\nnumbers.reverse();\n\n// Print the reversed array\nconsole.log(\"Reversed array:\", numbers);\n",
      "text/plain": [
       "<IPython.core.display.Javascript object>"
      ]
     },
     "metadata": {},
     "output_type": "display_data"
    }
   ],
   "source": [
    "%%js\n",
    "//POPCORN HACK 1\n",
    "\n",
    "//array of numbers\n",
    "let numbers = [10, 20, 30, 40, 50];\n",
    "\n",
    "//reverse using reverse()\n",
    "numbers.reverse();\n",
    "\n",
    "// Print reversed array\n",
    "console.log(\"Reversed array:\", numbers);\n"
   ]
  },
  {
   "cell_type": "code",
   "execution_count": 15,
   "metadata": {
    "vscode": {
     "languageId": "javascript"
    }
   },
   "outputs": [
    {
     "data": {
      "application/javascript": "//POPCORN HACK 2\n\n// Create an array of numbers\nlet numbers = [20, 30, 40, 50];\n\n// Use the unshift() method to add a new element at the beginning of the array\nlet new_number = 10;\nnumbers.unshift(new_number);\n\n// Print the updated array\nconsole.log(\"Array after unshift operation:\", numbers);\n",
      "text/plain": [
       "<IPython.core.display.Javascript object>"
      ]
     },
     "metadata": {},
     "output_type": "display_data"
    }
   ],
   "source": [
    "%%js\n",
    "//POPCORN HACK 2\n",
    "\n",
    "//array of numbers\n",
    "let numbers = [20, 30, 40, 50];\n",
    "\n",
    "//use unshift() to add a new element at the beginning of the array\n",
    "let new_number = 10;\n",
    "numbers.unshift(new_number);\n",
    "\n",
    "//Print updated array\n",
    "console.log(\"Array after unshift operation:\", numbers);\n"
   ]
  },
  {
   "cell_type": "code",
   "execution_count": 6,
   "metadata": {
    "vscode": {
     "languageId": "javascript"
    }
   },
   "outputs": [
    {
     "data": {
      "application/javascript": "//POPCORN HACK 3\n\n// Create an array of numbers\nlet numbers = [10, 15, 20, 25, 30, 35, 40];\n\n// Use the filter() method to filter out only the even numbers\nlet even_numbers = numbers.filter(number => number % 2 === 0);\n\n// Print the filtered array (list of even numbers)\nconsole.log(\"Filtered array with even numbers:\", even_numbers);\n",
      "text/plain": [
       "<IPython.core.display.Javascript object>"
      ]
     },
     "metadata": {},
     "output_type": "display_data"
    }
   ],
   "source": [
    "%%js\n",
    "//POPCORN HACK 3\n",
    "\n",
    "//array of numbers\n",
    "let numbers = [10, 15, 20, 25, 30, 35, 40];\n",
    "\n",
    "//Use filter() to filter only even numbers\n",
    "let even_numbers = numbers.filter(number => number % 2 === 0);\n",
    "\n",
    "// Print the filtered array (list of even numbers)\n",
    "console.log(\"Filtered array with even numbers:\", even_numbers);\n"
   ]
  },
  {
   "cell_type": "markdown",
   "metadata": {},
   "source": [
    "## 3.10.2"
   ]
  },
  {
   "cell_type": "code",
   "execution_count": 17,
   "metadata": {},
   "outputs": [
    {
     "name": "stdout",
     "output_type": "stream",
     "text": [
      "Updated list: ['Apple', 'Banana', 'Grapes', 'Orange', 'Mango']\n"
     ]
    }
   ],
   "source": [
    "#POPCORN HACK 1\n",
    "\n",
    "# Create a list of strings/fruits\n",
    "fruits = [\"Apple\", \"Banana\", \"Mango\"]\n",
    "\n",
    "# Use the insert() method with negative indexes to add values\n",
    "fruits.insert(-1, \"Orange\")  # Insert at the second-to-last position\n",
    "fruits.insert(-2, \"Grapes\")  # Insert at the third-to-last position\n",
    "\n",
    "# Print updated list\n",
    "print(\"Updated list:\", fruits)\n"
   ]
  },
  {
   "cell_type": "code",
   "execution_count": 18,
   "metadata": {},
   "outputs": [
    {
     "name": "stdout",
     "output_type": "stream",
     "text": [
      "Combined list: [1, 2, 3, 4, 5, 6]\n"
     ]
    }
   ],
   "source": [
    "#POPCORN HACK 2\n",
    "\n",
    "# Create two lists\n",
    "list1 = [1, 2, 3]\n",
    "list2 = [4, 5, 6]\n",
    "\n",
    "# Use the extend() method to add list2 to list1\n",
    "list1.extend(list2)\n",
    "\n",
    "# Print the combined list\n",
    "print(\"Combined list:\", list1)"
   ]
  },
  {
   "cell_type": "code",
   "execution_count": 19,
   "metadata": {},
   "outputs": [
    {
     "name": "stdout",
     "output_type": "stream",
     "text": [
      "Updated list: ['Cherry', 'Elderberry', 'Fig']\n"
     ]
    }
   ],
   "source": [
    "#POPCORN HACK 3\n",
    "\n",
    "# Create a list of items\n",
    "my_list = [\"Apple\", \"Banana\", \"Cherry\", \"Date\", \"Fig\", \"pinapple\"]\n",
    "\n",
    "# Method 1: Using remove()\n",
    "my_list.remove(\"Banana\")\n",
    "\n",
    "# Method 2: Using pop()\n",
    "my_list.pop(2)\n",
    "\n",
    "# Method 3: Using del\n",
    "del my_list[0]\n",
    "\n",
    "# Print the updated list\n",
    "print(\"Updated list:\", my_list)\n"
   ]
  },
  {
   "cell_type": "markdown",
   "metadata": {},
   "source": [
    "# HOMEWORK HACKS"
   ]
  },
  {
   "cell_type": "markdown",
   "metadata": {},
   "source": [
    "## 3.10.3"
   ]
  },
  {
   "cell_type": "code",
   "execution_count": 21,
   "metadata": {},
   "outputs": [
    {
     "name": "stdout",
     "output_type": "stream",
     "text": [
      "\n",
      "Current Grocery List:\n",
      "['apple', 'cereal', 'banana']\n",
      "\n",
      "Sorted Grocery List:\n",
      "['apple', 'banana', 'cereal']\n",
      "\n",
      "Updated Grocery List after removal:\n",
      "['banana', 'cereal']\n"
     ]
    }
   ],
   "source": [
    "# HOMEWORK 1\n",
    "\n",
    "#Create an empty list to store grocery items\n",
    "grocery_list = []\n",
    "\n",
    "#Input three grocery items\n",
    "for i in range(3):\n",
    "    item = input(f\"Enter grocery item {i+1}: \")\n",
    "    grocery_list.append(item)\n",
    "\n",
    "#Display the current grocery list\n",
    "print(\"\\nCurrent Grocery List:\")\n",
    "print(grocery_list)\n",
    "\n",
    "#Sort the list alphabetically and print\n",
    "grocery_list.sort()\n",
    "print(\"\\nSorted Grocery List:\")\n",
    "print(grocery_list)\n",
    "\n",
    "#Remove one item with user input\n",
    "item_to_remove = input(\"\\nEnter the item you want to remove: \")\n",
    "if item_to_remove in grocery_list:\n",
    "    grocery_list.remove(item_to_remove)\n",
    "    print(\"\\nUpdated Grocery List after removal:\")\n",
    "    print(grocery_list)\n",
    "else:\n",
    "    print(f\"\\nItem '{item_to_remove}' not found in the list.\")\n"
   ]
  },
  {
   "cell_type": "code",
   "execution_count": 27,
   "metadata": {},
   "outputs": [
    {
     "name": "stdout",
     "output_type": "stream",
     "text": [
      "Original List:\n",
      "[1, 2, 3, 4, 5, 6, 7, 8, 9, 10, 11, 12, 13, 14, 15, 16, 17, 18, 19]\n",
      "\n",
      "List of Even Numbers:\n",
      "[2, 4, 6, 8, 10, 12, 14, 16, 18]\n"
     ]
    }
   ],
   "source": [
    "#HOMEWORK 2\n",
    "\n",
    "#Create a list of integers from 1 to 20\n",
    "numbers = list(range(1, 21))\n",
    "\n",
    "#Print original list\n",
    "print(\"Original List:\")\n",
    "print(numbers)\n",
    "\n",
    "#take out only even numbers\n",
    "even_numbers = [num for num in numbers if num % 2 == 0]\n",
    "\n",
    "#Print new list\n",
    "print(\"\\nList of Even Numbers:\")\n",
    "print(even_numbers)\n"
   ]
  },
  {
   "cell_type": "code",
   "execution_count": 28,
   "metadata": {},
   "outputs": [
    {
     "name": "stdout",
     "output_type": "stream",
     "text": [
      "All grades: [50, 70, 99]\n",
      "Passing Grades: [70, 99]\n"
     ]
    }
   ],
   "source": [
    "#HOMEWORK 3\n",
    "\n",
    "#Create empty list\n",
    "grades = []\n",
    "\n",
    "#Input three grades to add to list\n",
    "for i in range(3):\n",
    "    grade = int(input(f\"Enter grade {i + 1}: \"))\n",
    "    grades.append(grade)\n",
    "\n",
    "#Print the list of grades\n",
    "print(\"All grades:\", grades)\n",
    "\n",
    "#Create a new list with only grades > 60\n",
    "passing_grades = [grade for grade in grades if grade > 60]\n",
    "\n",
    "#Print list of passing grades\n",
    "print(\"Passing Grades:\", passing_grades)\n"
   ]
  },
  {
   "cell_type": "code",
   "execution_count": 25,
   "metadata": {},
   "outputs": [
    {
     "name": "stdout",
     "output_type": "stream",
     "text": [
      "Original list: [1, 2, 3, 4, 5, 6, 7, 8, 9, 10]\n",
      "List in descending order: [10, 9, 8, 7, 6, 5, 4, 3, 2, 1]\n",
      "First five numbers: [10, 9, 8, 7, 6]\n",
      "List in ascending order: [1, 2, 3, 4, 5, 6, 7, 8, 9, 10]\n"
     ]
    }
   ],
   "source": [
    "#HOMEWORK 4\n",
    "\n",
    "#Create a list of numbers from 1 to 10\n",
    "numbers = list(range(1, 11))\n",
    "\n",
    "#Print original list\n",
    "print(\"Original list:\", numbers)\n",
    "\n",
    "#Sort the list highest to lowest\n",
    "numbers.sort(reverse=True)\n",
    "print(\"List in descending order:\", numbers)\n",
    "\n",
    "#Slice the list to the first five numbers and print\n",
    "first_five = numbers[:5]\n",
    "print(\"First five numbers:\", first_five)\n",
    "\n",
    "#Sort the list from lowest to highest\n",
    "numbers.sort()\n",
    "print(\"List in ascending order:\", numbers)"
   ]
  },
  {
   "cell_type": "markdown",
   "metadata": {},
   "source": [
    "## 3.10.4 "
   ]
  },
  {
   "cell_type": "code",
   "execution_count": null,
   "metadata": {
    "vscode": {
     "languageId": "javascript"
    }
   },
   "outputs": [],
   "source": [
    "%%js\n",
    "\n",
    "//HOMEWORK 1\n",
    "\n",
    "//Create an array of 5 values\n",
    "let myArray = [10, 20, 30, 40, 50];\n",
    "\n",
    "//Display original array\n",
    "console.log(\"Original array:\", myArray);\n",
    "\n",
    "//Reverse the array with reverse()\n",
    "myArray.reverse();\n",
    "\n",
    "//Display reversed array\n",
    "console.log(\"Reversed array:\", myArray);\n"
   ]
  },
  {
   "cell_type": "code",
   "execution_count": null,
   "metadata": {
    "vscode": {
     "languageId": "javascript"
    }
   },
   "outputs": [],
   "source": [
    "%%js\n",
    "//HOMEWORK 2\n",
    "\n",
    "//Initialize array\n",
    "let sports = [\"soccer\", \"football\", \"basketball\", \"wrestling\", \"swimming\"];\n",
    "\n",
    "//Display \"soccer\" and \"wrestling\" using their indexes\n",
    "console.log(sports[0]);  // soccer at index 0\n",
    "console.log(sports[3]);  // wrestling at index 3\n"
   ]
  },
  {
   "cell_type": "code",
   "execution_count": null,
   "metadata": {
    "vscode": {
     "languageId": "javascript"
    }
   },
   "outputs": [],
   "source": [
    "%%js\n",
    "//HOMEWORK 3\n",
    "\n",
    "//Initialize the array of four items\n",
    "let choresList = [\"dishes\", \"laundry\", \"vacuum\", \"groceries\"];\n",
    "\n",
    "//Display original list\n",
    "console.log(\"Original list:\", choresList);\n",
    "\n",
    "//Use push() to add item to list\n",
    "choresList.push(\"take out trash\");\n",
    "console.log(\"After push (add 'take out trash'):\", choresList);\n",
    "\n",
    "//Use shift() to remove first item\n",
    "choresList.shift();\n",
    "console.log(\"After shift (remove first item):\", choresList);\n",
    "\n",
    "//Use pop() to remove the last item\n",
    "choresList.pop();\n",
    "console.log(\"After pop (remove last item):\", choresList);\n",
    "\n",
    "//Use unshift() to add a item to the beginning of the array\n",
    "choresList.unshift(\"make bed\");\n",
    "console.log(\"After unshift (add 'make bed'):\", choresList);\n",
    "\n",
    "//Use push() to add multiple values at once\n",
    "choresList.push(...[\"clean windows\", \"mop floor\", \"dust furniture\"]);\n",
    "console.log(\"After using push() and spread operator to add multiple items:\", choresList);\n"
   ]
  },
  {
   "cell_type": "code",
   "execution_count": 26,
   "metadata": {
    "vscode": {
     "languageId": "javascript"
    }
   },
   "outputs": [
    {
     "data": {
      "application/javascript": "//HOMEWORK 4\n\n// Create an array with ten random numbers (even and odd)\nlet randomNumbers = [12, 5, 8, 21, 34, 7, 18, 13, 26, 9];\n\n// Function to count how many even numbers are in the array\nfunction countEvenNumbers(arr) {\n    let evenCount = 0;\n    \n    // Iterate through the array and count even numbers\n    for (let i = 0; i < arr.length; i++) {\n        if (arr[i] % 2 === 0) {\n            evenCount++;\n        }\n    }\n    \n    // Return the count of even numbers\n    return evenCount;\n}\n\n// Call the function and display the result\nlet evenNumberCount = countEvenNumbers(randomNumbers);\nconsole.log(\"Count of even numbers:\", evenNumberCount);\n",
      "text/plain": [
       "<IPython.core.display.Javascript object>"
      ]
     },
     "metadata": {},
     "output_type": "display_data"
    }
   ],
   "source": [
    "%%js\n",
    "//HOMEWORK 4\n",
    "\n",
    "//Create array with ten numbers\n",
    "let randomNumbers = [12, 5, 8, 21, 34, 7, 18, 13, 26, 9];\n",
    "\n",
    "//Function to count how many even numbers are in the array\n",
    "function countEvenNumbers(arr) {\n",
    "    let evenCount = 0;\n",
    "    \n",
    "    // Iterate through the array and count even numbers\n",
    "    for (let i = 0; i < arr.length; i++) {\n",
    "        if (arr[i] % 2 === 0) {\n",
    "            evenCount++;\n",
    "        }\n",
    "    }\n",
    "    \n",
    "    //Return the count of even numbers\n",
    "    return evenCount;\n",
    "}\n",
    "\n",
    "//Call the function and display the result\n",
    "let evenNumberCount = countEvenNumbers(randomNumbers);\n",
    "console.log(\"Count of even numbers:\", evenNumberCount);\n"
   ]
  },
  {
   "cell_type": "markdown",
   "metadata": {},
   "source": [
    "### [LINK 2 JAVASCRIPT COMPILER TO TEST CODE](https://jsfiddle.net/)"
   ]
  }
 ],
 "metadata": {
  "kernelspec": {
   "display_name": "Python 3",
   "language": "python",
   "name": "python3"
  },
  "language_info": {
   "codemirror_mode": {
    "name": "ipython",
    "version": 3
   },
   "file_extension": ".py",
   "mimetype": "text/x-python",
   "name": "python",
   "nbconvert_exporter": "python",
   "pygments_lexer": "ipython3",
   "version": "3.9.6"
  }
 },
 "nbformat": 4,
 "nbformat_minor": 2
}
