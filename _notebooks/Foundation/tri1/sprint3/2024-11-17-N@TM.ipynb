{
 "cells": [
  {
   "cell_type": "markdown",
   "metadata": {},
   "source": [
    "---\n",
    "title: N@TM\n",
    "comments: true\n",
    "layout: post\n",
    "type: plans\n",
    "description: N@TM commentns/notes!\n",
    "courses: { compsci: {week: 12} }\n",
    "---"
   ]
  },
  {
   "cell_type": "markdown",
   "metadata": {},
   "source": [
    "### Night At The Museam!"
   ]
  },
  {
   "cell_type": "markdown",
   "metadata": {},
   "source": [
    "<img src=\"{{site.baseurl}}/images/N@TM.png\" alt=\"N@TM\" width=\"350\" height=\"400\">"
   ]
  },
  {
   "cell_type": "markdown",
   "metadata": {},
   "source": [
    "### [link 2 issue](https://github.com/NoraTheTurtle/nora_25/issues/6)"
   ]
  },
  {
   "cell_type": "markdown",
   "metadata": {},
   "source": [
    "---"
   ]
  },
  {
   "cell_type": "markdown",
   "metadata": {},
   "source": [
    "## Things to work on:\n",
    "\n",
    "- center elements on the page (csp)\n",
    "- add a line break (csp)\n",
    "- add comments on posts\n",
    "- make colors match houses"
   ]
  },
  {
   "cell_type": "markdown",
   "metadata": {},
   "source": [
    "---"
   ]
  },
  {
   "cell_type": "markdown",
   "metadata": {},
   "source": [
    "## Things that were good:\n",
    "\n",
    "- nice astetics\n",
    "- user friendly design with the buttons (csp)\n",
    "- cool data saving design\n",
    "- intresting color changing background (csp)"
   ]
  },
  {
   "cell_type": "markdown",
   "metadata": {},
   "source": [
    "---"
   ]
  }
 ],
 "metadata": {
  "language_info": {
   "name": "python"
  }
 },
 "nbformat": 4,
 "nbformat_minor": 2
}
