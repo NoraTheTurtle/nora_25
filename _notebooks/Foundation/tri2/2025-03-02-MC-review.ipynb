{
 "cells": [
  {
   "cell_type": "markdown",
   "metadata": {},
   "source": [
    "---\n",
    "toc: False\n",
    "comments: true\n",
    "title: MC review\n",
    "layout: post \n",
    "type: hacks\n",
    "description: Review of what I got on MC + comparrison to the one we took at the beginig of the tri \n",
    "courses: { compsci: {week: 23} }\n",
    "---"
   ]
  },
  {
   "cell_type": "markdown",
   "metadata": {},
   "source": [
    "<img src=\"{{site.baseurl}}/images/MC.png\" alt=\"MC score\">\n"
   ]
  },
  {
   "cell_type": "markdown",
   "metadata": {},
   "source": [
    "### Percentage Breakdown\n",
    "<img src=\"{{site.baseurl}}/images/percent.png\" alt=\"Percentage Breakdown\">\n"
   ]
  },
  {
   "cell_type": "markdown",
   "metadata": {},
   "source": [
    "## Comparrison to last MC (score mid 30s --> low 40s!)\n",
    "\n",
    "| **Concept** | **Test 1** | **Test 2** |\n",
    "|----------------|-----------------|------------------------------------------------|\n",
    "| **Big idea: IOC (impact of computing)** | 55% (lowest) | 89% (highest) |\n",
    "| **Big idea: DAT (data)** | 56% (2nd lowest)| 77% (3rd highest) |\n",
    "| **Practice: Algoritms involving abstractions** | 44% (lowest) | 57% (3rd highest) |\n",
    "| **Practice: Design/evaluate sollutions for a purpose**| 59% (2nd lowest) | 71% (2nd highest) |"
   ]
  },
  {
   "cell_type": "markdown",
   "metadata": {},
   "source": [
    "### Struggled Questions/Topics\n",
    "1. <img src=\"{{site.baseurl}}/images/variables.png\" alt=\"Percentage Breakdown\">\n",
    "**photo: switching values alpha and beta using var temp**\n",
    "\n",
    "Understanding the more complex code based problems specially with switching variables \n",
    "\n",
    "2.  <img src=\"{{site.baseurl}}/images/Height.png\" alt=\"Height algoritm\">\n",
    "**photo: creating an algorithm to find the average height of a group of people**\n",
    "\n",
    "Working with complex logic based algorithm without given code\n",
    "\n",
    "3. <img src=\"{{site.baseurl}}/images/binary.png\" alt=\"Height algoritm\">\n",
    "**photo: requierments for binary search algoritm on a list of numbers**\n",
    "\n",
    "Understanding how binary works numerically and within lists of numbers (as well as bits)"
   ]
  },
  {
   "cell_type": "markdown",
   "metadata": {},
   "source": [
    "### Things to work on\n",
    "1. Formating of code, indentations, arrows, and diffrent functon names (ex mod/%)\n",
    "2. Comprehending complex code/algoritm functionality and connecting that to real world problems\n",
    "3. Learning more about binary/bits and their application to code"
   ]
  }
 ],
 "metadata": {
  "language_info": {
   "name": "python"
  }
 },
 "nbformat": 4,
 "nbformat_minor": 2
}
