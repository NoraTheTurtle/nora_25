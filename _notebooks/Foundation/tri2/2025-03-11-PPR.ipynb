{
 "cells": [
  {
   "cell_type": "markdown",
   "metadata": {},
   "source": [
    "---\n",
    "toc: False\n",
    "comments: true\n",
    "title: PPR\n",
    "layout: post \n",
    "type: hacks\n",
    "description: Personal Project Requierments \n",
    "courses: { compsci: {week: 25} }\n",
    "---"
   ]
  },
  {
   "cell_type": "markdown",
   "metadata": {},
   "source": [
    "1. function\n",
    "2. call to function\n",
    "3. list\n",
    "4. list in use"
   ]
  },
  {
   "cell_type": "markdown",
   "metadata": {},
   "source": [
    "## Function (with sequencing, selection, and itteration)"
   ]
  },
  {
   "cell_type": "code",
   "execution_count": null,
   "metadata": {},
   "outputs": [],
   "source": [
    "@search_api.route(\"/increment_tag\", methods=[\"POST\"])\n",
    "@token_required()\n",
    "def increment_tag():\n",
    "    data = request.get_json()\n",
    "    if not data or \"name\" not in data:\n",
    "        return jsonify({\"error\": \"Invalid data\"}), 400\n",
    "\n",
    "    current_user = g.current_user  \n",
    "    item_name = data[\"name\"]\n",
    "\n",
    "    item = next((item for item in items if item[\"name\"].lower() == item_name.lower()), None)\n",
    "    if item:\n",
    "\n",
    "        for tag in item[\"tags\"]:\n",
    "            item[\"tags\"][tag] += 1\n",
    "\n",
    "        try:\n",
    "            search_entry = SearchHistory(\n",
    "                user=current_user.uid,\n",
    "                name=item[\"name\"],  \n",
    "                tags=item[\"tags\"],  \n",
    "                query=None \n",
    "            )\n",
    "            db.session.add(search_entry)\n",
    "            db.session.commit()\n",
    "\n",
    "            append_to_json(search_entry.read())\n",
    "        except IntegrityError as e:\n",
    "            db.session.rollback()\n",
    "            return jsonify({\"error\": f\"Failed to log item selection: {str(e)}\"}), 500\n",
    "\n",
    "        return jsonify({\n",
    "            \"message\": f\"Tags for '{item_name}' updated successfully!\",\n",
    "            \"tags\": item[\"tags\"]\n",
    "        }), 200\n",
    "\n",
    "    return jsonify({\"error\": \"Item not found!\"}), 404"
   ]
  },
  {
   "cell_type": "markdown",
   "metadata": {},
   "source": [
    "**Sequencing** --> checks if name of item you searched exsists in the lift of items,  checks logged in/connected user\n",
    "\n",
    "**selection** --> If item dosent exsist return with an error \"Item not found\",  If item exsists proceed with itteration\n",
    "\n",
    "**Iteration** --> Generates connected items when you type in searchbar, adds tags to items when item is clicked in search bar"
   ]
  },
  {
   "cell_type": "markdown",
   "metadata": {},
   "source": [
    "## Call To Function"
   ]
  },
  {
   "cell_type": "code",
   "execution_count": null,
   "metadata": {
    "vscode": {
     "languageId": "javascript"
    }
   },
   "outputs": [],
   "source": [
    "async function searchItems() {\n",
    "    const input = document.getElementById('searchInput').value.trim().toLowerCase();\n",
    "    const resultsDiv = document.getElementById('results');\n",
    "    resultsDiv.innerHTML = ''; \n",
    "\n",
    "    if (input) {\n",
    "      try {\n",
    "        const response = await fetch(`${pythonURI}/api/search?q=${encodeURIComponent(input)}`, {\n",
    "          ...fetchOptions,\n",
    "          method: 'GET',\n",
    "          headers: { 'Content-Type': 'application/json' }\n",
    "        });\n",
    "\n",
    "        if (!response.ok) {\n",
    "          throw new Error(`HTTP error! Status: ${response.status}`);\n",
    "        }\n",
    "\n",
    "        const items = await response.json();\n",
    "        if (items.length > 0) {\n",
    "          items.forEach(item => {\n",
    "            const resultDiv = document.createElement('div');\n",
    "            resultDiv.className = 'result';\n",
    "            resultDiv.textContent = item.name;\n",
    "            resultDiv.onclick = async () => {\n",
    "              await incrementTags(item.name);\n",
    "              window.location.href = item.link;\n",
    "            };\n",
    "            resultsDiv.appendChild(resultDiv);\n",
    "          });\n",
    "        } else {\n",
    "          resultsDiv.textContent = 'No results found.';\n",
    "        }\n",
    "      } catch (error) {\n",
    "        console.error('Error fetching search results:', error);\n",
    "        resultsDiv.textContent = 'An error occurred while searching. Please try again.';\n",
    "      }\n",
    "    }\n",
    "  }"
   ]
  },
  {
   "cell_type": "markdown",
   "metadata": {},
   "source": [
    "**Explination** \n",
    "- Call to function (above this code cell) when user inputs (clicks on item in searchbar) \n",
    "- Remove old results from previous inputs (with resultsDiv.innerHTML = ''; )\n",
    "- Fetch from api (to get item data)\n",
    "- Display item/item link or error depending on input"
   ]
  },
  {
   "cell_type": "markdown",
   "metadata": {},
   "source": [
    "## List"
   ]
  },
  {
   "cell_type": "markdown",
   "metadata": {},
   "source": [
    "#### DEFINING THE LIST"
   ]
  },
  {
   "cell_type": "code",
   "execution_count": null,
   "metadata": {
    "vscode": {
     "languageId": "javascript"
    }
   },
   "outputs": [],
   "source": [
    "items = [\n",
    "    {\"name\": \"Teddy Bear\", \"link\": \"/holiday_frontend/holiday/toys\", \"tags\": {\"all\": 1, \"teddy\": 0, \"bear\": 0, \"toys\": 0}},\n",
    "    {\"name\": \"Lego Set\", \"link\": \"/holiday_frontend/holiday/toys\", \"tags\": {\"all\": 1, \"lego\": 0, \"set\": 0, \"toys\": 0}},\n",
    "    {\"name\": \"Remote Control Car\", \"link\": \"/holiday_frontend/holiday/toys\", \"tags\": {\"all\": 1, \"remote\": 0, \"control\": 0, \"car\": 0, \"toys\": 0}},\n",
    "]"
   ]
  },
  {
   "cell_type": "markdown",
   "metadata": {},
   "source": [
    "Snipit of code from defined list that I am pulling data from"
   ]
  },
  {
   "cell_type": "markdown",
   "metadata": {},
   "source": [
    "#### ADDING DATA TO LIST/STORING DATA "
   ]
  },
  {
   "cell_type": "code",
   "execution_count": null,
   "metadata": {},
   "outputs": [],
   "source": [
    "@search_api.route(\"/increment_tag\", methods=[\"POST\"])\n",
    "@token_required()\n",
    "def increment_tag():\n",
    "    data = request.get_json()\n",
    "    if not data or \"name\" not in data:\n",
    "        return jsonify({\"error\": \"Invalid data\"}), 400\n",
    "\n",
    "    current_user = g.current_user  \n",
    "    item_name = data[\"name\"]\n",
    "\n",
    "    item = next((item for item in items if item[\"name\"].lower() == item_name.lower()), None)\n",
    "    if item:\n",
    "        for tag in item[\"tags\"]:\n",
    "            item[\"tags\"][tag] += 1  \n",
    "\n",
    "        try:\n",
    "            search_entry = SearchHistory(\n",
    "                user=current_user.uid,\n",
    "                name=item[\"name\"],  \n",
    "                tags=item[\"tags\"],  \n",
    "            )\n",
    "            db.session.add(search_entry)\n",
    "            db.session.commit()\n",
    "\n",
    "            append_to_json(search_entry.read())  \n",
    "        except IntegrityError as e:\n",
    "            db.session.rollback()\n",
    "            return jsonify({\"error\": f\"Failed to log item selection: {str(e)}\"}), 500\n",
    "\n",
    "        return jsonify({\n",
    "            \"message\": f\"Tags for '{item_name}' updated successfully!\",\n",
    "            \"tags\": item[\"tags\"]\n",
    "        }), 200\n",
    "\n",
    "    return jsonify({\"error\": \"Item not found!\"}), 404\n"
   ]
  },
  {
   "cell_type": "markdown",
   "metadata": {},
   "source": [
    "where im ading the data into the list by updating the tags and grabbing assosiated item name and user "
   ]
  },
  {
   "cell_type": "code",
   "execution_count": null,
   "metadata": {},
   "outputs": [],
   "source": [
    "[\n",
    "    {\n",
    "        \"id\": 2,\n",
    "        \"user\": \"nora\",\n",
    "        \"name\": \"Gourmet Cheese Set\",\n",
    "        \"tags\": {\n",
    "            \"all\": 2,\n",
    "            \"gourmet\": 1,\n",
    "            \"cheese\": 1,\n",
    "            \"set\": 1,\n",
    "            \"food\": 1\n",
    "        }\n",
    "    }\n",
    "]"
   ]
  },
  {
   "cell_type": "markdown",
   "metadata": {},
   "source": [
    "Where the data is stores into JSON file with updated tags"
   ]
  },
  {
   "cell_type": "markdown",
   "metadata": {},
   "source": [
    "Api endpoint to grab data from defined list and and create JSON file/database with added tags (when items are clicked on)\n",
    "\n",
    "**where im adding data to** \n",
    "1. SearchHistory SQLite database\n",
    "2. JSON file with saved tags "
   ]
  },
  {
   "cell_type": "markdown",
   "metadata": {},
   "source": [
    "## List In Use"
   ]
  },
  {
   "cell_type": "code",
   "execution_count": null,
   "metadata": {},
   "outputs": [],
   "source": [
    "import os\n",
    "import json\n",
    "import logging\n",
    "from flask import request, jsonify, Blueprint, g\n",
    "from sqlalchemy.exc import IntegrityError\n",
    "from model.search import SearchHistory, db\n",
    "from api.jwt_authorize import token_required\n",
    "\n",
    "JSON_FILE_PATH = os.path.join(os.path.dirname(__file__), \"../searchHistory.json\")\n",
    "\n",
    "def append_to_json(data):\n",
    "    try:\n",
    "        if os.path.exists(JSON_FILE_PATH):\n",
    "            with open(JSON_FILE_PATH, \"r\") as json_file:\n",
    "                existing_data = json.load(json_file)  \n",
    "        else:\n",
    "            existing_data = []\n",
    "\n",
    "        existing_entry = next((entry for entry in existing_data if entry[\"name\"] == data[\"name\"]), None)\n",
    "\n",
    "        if existing_entry:\n",
    "            existing_entry[\"tags\"] = data[\"tags\"]\n",
    "        else:\n",
    "            existing_data.append(data)\n",
    "\n",
    "        with open(JSON_FILE_PATH, \"w\") as json_file:\n",
    "            json.dump(existing_data, json_file, indent=4)\n",
    "\n",
    "    except Exception as e:\n",
    "        logging.error(f\"Error saving data to JSON file: {e}\")\n",
    "\n",
    "search_api = Blueprint(\"search_api\", __name__, url_prefix=\"/api/search\")\n",
    "\n",
    "@search_api.route(\"/increment_tag\", methods=[\"POST\"])\n",
    "@token_required()\n",
    "def increment_tag():\n",
    "    data = request.get_json()\n",
    "    if not data or \"name\" not in data:\n",
    "        return jsonify({\"error\": \"Invalid data\"}), 400\n",
    "\n",
    "    current_user = g.current_user  \n",
    "    item_name = data[\"name\"]\n",
    "\n",
    "    search_entry = SearchHistory.query.filter_by(name=item_name, user=current_user.uid).first()\n",
    "\n",
    "    if search_entry:\n",
    "        for tag in search_entry.tags:\n",
    "            search_entry.tags[tag] += 1\n",
    "    else:\n",
    "        item = next((item for item in items if item[\"name\"].lower() == item_name.lower()), None)\n",
    "        if not item:\n",
    "            return jsonify({\"error\": \"Item not found!\"}), 404\n",
    "\n",
    "        for tag in item[\"tags\"]:\n",
    "            item[\"tags\"][tag] += 1\n",
    "\n",
    "        search_entry = SearchHistory(\n",
    "            user=current_user.uid,\n",
    "            name=item[\"name\"],\n",
    "            tags=item[\"tags\"],\n",
    "            query=None\n",
    "        )\n",
    "        db.session.add(search_entry)\n",
    "\n",
    "    try:\n",
    "        db.session.commit()\n",
    "    except IntegrityError:\n",
    "        db.session.rollback()\n",
    "        return jsonify({\"error\": \"Failed to update tags in database\"}), 500\n",
    "\n",
    "    append_to_json(search_entry.read())\n",
    "\n",
    "    return jsonify({\n",
    "        \"message\": f\"Tags for '{item_name}' updated successfully!\",\n",
    "        \"tags\": search_entry.tags\n",
    "    }), 200\n",
    "\n",
    "class SearchHistory(db.Model):\n",
    "    __tablename__ = 'search_history'\n",
    "\n",
    "    id = db.Column(db.Integer, primary_key=True)\n",
    "    user = db.Column(db.String(255), nullable=False)\n",
    "    name = db.Column(db.String(255), nullable=False)  \n",
    "    query = db.Column(db.String(255), nullable=True)  \n",
    "    tags = db.Column(db.JSON, nullable=False)  \n",
    "\n",
    "    def __init__(self, user, name=None, query=None, tags=None):\n",
    "        self.user = user\n",
    "        self.name = name\n",
    "        self.query = query\n",
    "        self.tags = tags\n",
    "\n",
    "    def read(self):\n",
    "        return {\n",
    "            \"id\": self.id,\n",
    "            \"user\": self.user,\n",
    "            \"name\": self.name,\n",
    "            \"query\": self.query,\n",
    "            \"tags\": self.tags,\n",
    "        }\n",
    "\n",
    "    def update(self, data):\n",
    "        for key, value in data.items():\n",
    "            if hasattr(self, key) and key != 'id':\n",
    "                setattr(self, key, value)\n",
    "        try:\n",
    "            db.session.commit()\n",
    "        except IntegrityError:\n",
    "            db.session.rollback()\n"
   ]
  },
  {
   "cell_type": "markdown",
   "metadata": {},
   "source": [
    "**Explination** \n",
    "1. retrives data from JSON (list) request\n",
    "2. checks if item exsists in the database\n",
    "3. updates tags to alread exisiting items OR adds item and tags if not already exsisting\n",
    "4. add finalized items into JSON file and SQLite database"
   ]
  }
 ],
 "metadata": {
  "kernelspec": {
   "display_name": "Python 3",
   "language": "python",
   "name": "python3"
  },
  "language_info": {
   "codemirror_mode": {
    "name": "ipython",
    "version": 3
   },
   "file_extension": ".py",
   "mimetype": "text/x-python",
   "name": "python",
   "nbconvert_exporter": "python",
   "pygments_lexer": "ipython3",
   "version": "3.9.6"
  }
 },
 "nbformat": 4,
 "nbformat_minor": 2
}
