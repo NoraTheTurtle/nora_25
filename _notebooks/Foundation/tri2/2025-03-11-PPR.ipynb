{
 "cells": [
  {
   "cell_type": "markdown",
   "metadata": {},
   "source": [
    "---\n",
    "toc: False\n",
    "comments: true\n",
    "title: PPR\n",
    "layout: post \n",
    "type: hacks\n",
    "description: Personal Project Requierments\n",
    "courses: { compsci: {week: 23} }\n",
    "---"
   ]
  },
  {
   "cell_type": "markdown",
   "metadata": {},
   "source": [
    "1. function\n",
    "2. call to function\n",
    "3. list\n",
    "4. list in use"
   ]
  },
  {
   "cell_type": "markdown",
   "metadata": {},
   "source": [
    "## Function "
   ]
  },
  {
   "cell_type": "code",
   "execution_count": null,
   "metadata": {},
   "outputs": [],
   "source": [
    "@search_api.route(\"/increment_tag\", methods=[\"POST\"])\n",
    "@token_required()\n",
    "def increment_tag():\n",
    "    data = request.get_json()\n",
    "    if not data or \"name\" not in data:\n",
    "        return jsonify({\"error\": \"Invalid data\"}), 400\n",
    "\n",
    "    current_user = g.current_user  \n",
    "    item_name = data[\"name\"]\n",
    "\n",
    "    item = next((item for item in items if item[\"name\"].lower() == item_name.lower()), None)\n",
    "    if item:\n",
    "\n",
    "        for tag in item[\"tags\"]:\n",
    "            item[\"tags\"][tag] += 1\n",
    "\n",
    "        try:\n",
    "            search_entry = SearchHistory(\n",
    "                user=current_user.uid,\n",
    "                name=item[\"name\"],  \n",
    "                tags=item[\"tags\"],  \n",
    "                query=None \n",
    "            )\n",
    "            db.session.add(search_entry)\n",
    "            db.session.commit()\n",
    "\n",
    "            append_to_json(search_entry.read())\n",
    "        except IntegrityError as e:\n",
    "            db.session.rollback()\n",
    "            return jsonify({\"error\": f\"Failed to log item selection: {str(e)}\"}), 500\n",
    "\n",
    "        return jsonify({\n",
    "            \"message\": f\"Tags for '{item_name}' updated successfully!\",\n",
    "            \"tags\": item[\"tags\"]\n",
    "        }), 200\n",
    "\n",
    "    return jsonify({\"error\": \"Item not found!\"}), 404"
   ]
  },
  {
   "cell_type": "markdown",
   "metadata": {},
   "source": [
    "## Call To Function"
   ]
  },
  {
   "cell_type": "code",
   "execution_count": null,
   "metadata": {
    "vscode": {
     "languageId": "javascript"
    }
   },
   "outputs": [],
   "source": [
    "async function searchItems() {\n",
    "    const input = document.getElementById('searchInput').value.trim().toLowerCase();\n",
    "    const resultsDiv = document.getElementById('results');\n",
    "    resultsDiv.innerHTML = ''; // Clear previous results\n",
    "\n",
    "    if (input) {\n",
    "      try {\n",
    "        const response = await fetch(`${pythonURI}/api/search?q=${encodeURIComponent(input)}`, {\n",
    "          ...fetchOptions,\n",
    "          method: 'GET',\n",
    "          headers: { 'Content-Type': 'application/json' }\n",
    "        });\n",
    "\n",
    "        if (!response.ok) {\n",
    "          throw new Error(`HTTP error! Status: ${response.status}`);\n",
    "        }\n",
    "\n",
    "        const items = await response.json();\n",
    "        if (items.length > 0) {\n",
    "          items.forEach(item => {\n",
    "            const resultDiv = document.createElement('div');\n",
    "            resultDiv.className = 'result';\n",
    "            resultDiv.textContent = item.name;\n",
    "            resultDiv.onclick = async () => {\n",
    "              await incrementTags(item.name);\n",
    "              window.location.href = item.link;\n",
    "            };\n",
    "            resultsDiv.appendChild(resultDiv);\n",
    "          });\n",
    "        } else {\n",
    "          resultsDiv.textContent = 'No results found.';\n",
    "        }\n",
    "      } catch (error) {\n",
    "        console.error('Error fetching search results:', error);\n",
    "        resultsDiv.textContent = 'An error occurred while searching. Please try again.';\n",
    "      }\n",
    "    }\n",
    "  }"
   ]
  },
  {
   "cell_type": "markdown",
   "metadata": {},
   "source": [
    "## List"
   ]
  },
  {
   "cell_type": "code",
   "execution_count": null,
   "metadata": {
    "vscode": {
     "languageId": "javascript"
    }
   },
   "outputs": [],
   "source": [
    "items = [\n",
    "    {\"name\": \"Teddy Bear\", \"link\": \"/holiday_frontend/holiday/toys\", \"tags\": {\"all\": 1, \"teddy\": 0, \"bear\": 0, \"toys\": 0}},\n",
    "    {\"name\": \"Lego Set\", \"link\": \"/holiday_frontend/holiday/toys\", \"tags\": {\"all\": 1, \"lego\": 0, \"set\": 0, \"toys\": 0}},\n",
    "    {\"name\": \"Remote Control Car\", \"link\": \"/holiday_frontend/holiday/toys\", \"tags\": {\"all\": 1, \"remote\": 0, \"control\": 0, \"car\": 0, \"toys\": 0}},\n",
    "    {\"name\": \"Holiday Candles\", \"link\": \"/holiday_frontend/holiday/home-decor\", \"tags\": {\"all\": 1, \"holiday\": 0, \"candles\": 0, \"home-decor\": 0}},\n",
    "    {\"name\": \"Festive Wreath\", \"link\": \"/holiday_frontend/holiday/home-decor\", \"tags\": {\"all\": 1, \"festive\": 0, \"wreath\": 0, \"home-decor\": 0}},\n",
    "    {\"name\": \"Decorative Ornaments\", \"link\": \"/holiday_frontend/holiday/home-decor\", \"tags\": {\"all\": 1, \"decorative\": 0, \"ornaments\": 0, \"home-decor\": 0}},\n",
    "    {\"name\": \"Wireless Headphones\", \"link\": \"/holiday_frontend/holiday/electronics\", \"tags\": {\"all\": 1, \"wireless\": 0, \"headphones\": 0, \"electronics\": 0}},\n",
    "    {\"name\": \"Smartwatch\", \"link\": \"/holiday_frontend/holiday/electronics\", \"tags\": {\"all\": 1, \"smartwatch\": 0, \"electronics\": 0}},\n",
    "    {\"name\": \"Gaming Console\", \"link\": \"/holiday_frontend/holiday/electronics\", \"tags\": {\"all\": 1, \"gaming\": 0, \"console\": 0, \"electronics\": 0}},\n",
    "    {\"name\": \"Cozy Holiday Sweater\", \"link\": \"/holiday_frontend/holiday/clothes\", \"tags\": {\"all\": 1, \"cozy\": 0, \"holiday\": 0, \"sweater\": 0, \"clothes\": 0}},\n",
    "    {\"name\": \"Woolen Scarf\", \"link\": \"/holiday_frontend/holiday/clothes\", \"tags\": {\"all\": 1, \"woolen\": 0, \"scarf\": 0, \"clothes\": 0}},\n",
    "    {\"name\": \"Winter Gloves\", \"link\": \"/holiday_frontend/holiday/clothes\", \"tags\": {\"all\": 1, \"winter\": 0, \"gloves\": 0, \"clothes\": 0}},\n",
    "    {\"name\": \"Holiday Cookies\", \"link\": \"/holiday_frontend/holiday/food\", \"tags\": {\"all\": 1, \"holiday\": 0, \"cookies\": 0, \"food\": 0}},\n",
    "    {\"name\": \"Chocolate Gift Box\", \"link\": \"/holiday_frontend/holiday/food\", \"tags\": {\"all\": 1, \"chocolate\": 0, \"gift\": 0, \"box\": 0, \"food\": 0}},\n",
    "    {\"name\": \"Gourmet Cheese Set\", \"link\": \"/holiday_frontend/holiday/food\", \"tags\": {\"all\": 1, \"gourmet\": 0, \"cheese\": 0, \"set\": 0, \"food\": 0}},\n",
    "    {\"name\": \"Scented Candle\", \"link\": \"/holiday_frontend/holiday/scented\", \"tags\": {\"all\": 1, \"candle\": 0, \"scented\": 0}},\n",
    "    {\"name\": \"Aromatic Diffuser\", \"link\": \"/holiday_frontend/holiday/scented\", \"tags\": {\"all\": 1, \"aromatic\": 0, \"diffuser\": 0, \"scented\": 0}},\n",
    "    {\"name\": \"Perfume Gift Set\", \"link\": \"/holiday_frontend/holiday/scented\", \"tags\": {\"all\": 1, \"perfume\": 0, \"gift\": 0, \"set\": 0, \"scented\": 0}}\n",
    "]"
   ]
  },
  {
   "cell_type": "markdown",
   "metadata": {},
   "source": [
    "## List In Use"
   ]
  },
  {
   "cell_type": "code",
   "execution_count": null,
   "metadata": {},
   "outputs": [],
   "source": [
    "@search_api.route(\"\", methods=[\"GET\"])\n",
    "@token_required()\n",
    "def search_items():\n",
    "    query = request.args.get(\"q\", \"\").lower()\n",
    "    if not query:\n",
    "        return jsonify([])\n",
    "\n",
    "    results = [\n",
    "        {\"name\": item[\"name\"], \"link\": item[\"link\"], \"tags\": item[\"tags\"]}\n",
    "        for item in items if query in item[\"name\"].lower()\n",
    "    ]\n",
    "    return jsonify(results), 200"
   ]
  }
 ],
 "metadata": {
  "language_info": {
   "name": "python"
  }
 },
 "nbformat": 4,
 "nbformat_minor": 2
}
