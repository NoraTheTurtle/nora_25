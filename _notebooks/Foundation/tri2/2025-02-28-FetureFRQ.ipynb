{
 "cells": [
  {
   "cell_type": "markdown",
   "metadata": {},
   "source": [
    "---\n",
    "toc: False\n",
    "comments: true\n",
    "title: Feature FRQ\n",
    "layout: post \n",
    "type: hacks\n",
    "description: My feature + submitted files for FRQ requierments \n",
    "courses: { compsci: {week: 23} }\n",
    "---"
   ]
  },
  {
   "cell_type": "markdown",
   "metadata": {},
   "source": [
    "## Summary of Code/examples\n",
    "\n",
    "| Category                         | Explanation & Code Example |\n",
    "|----------------------------------|---------------------------|\n",
    "| **List/Other Collection Type**   | Uses a **list of dictionaries** (`items`) to store gift data with **tags**. |\n",
    "| **Procedure Type & Return Type** | `search_items()` **filters** matching items and **returns JSON data**. |\n",
    "| **Parameters**                   | Takes a **query string (`q`)** as input to filter results. |\n",
    "| **Algorithm**                     | Uses **sequencing (extract query, search, return results), selection (match query to item names), and iteration (loop through items)**. |\n",
    "| **Procedure Call**               | Triggered by `oninput=\"searchItems()\"` in the search bar. |\n",
    "| **Instructions for Output**      | Displays **matching items or an error message** dynamically. |"
   ]
  },
  {
   "cell_type": "markdown",
   "metadata": {
    "vscode": {
     "languageId": "plaintext"
    }
   },
   "source": [
    "---\n",
    "\n",
    "## List/collection type\n",
    "\n",
    "Uses a list of dictionaries to store item data, including names, links, and associated tags."
   ]
  },
  {
   "cell_type": "code",
   "execution_count": null,
   "metadata": {
    "vscode": {
     "languageId": "javascript"
    }
   },
   "outputs": [],
   "source": [
    "// example items pulled from list is api/search.py\n",
    "items = [\n",
    "   {\"name\": \"Teddy Bear\", \"link\": \"/holiday_frontend/holiday/toys\", \"tags\": {\"all\": 1, \"teddy\": 0, \"bear\": 0, \"toys\": 0}},\n",
    "   {\"name\": \"Lego Set\", \"link\": \"/holiday_frontend/holiday/toys\", \"tags\": {\"all\": 1, \"lego\": 0, \"set\": 0, \"toys\": 0}}\n",
    "]"
   ]
  },
  {
   "cell_type": "markdown",
   "metadata": {},
   "source": [
    "**type**: ditionary\n",
    "\n",
    "**purpose**: store items, links, tags\n",
    "\n",
    "**Use**: fetches from dictionary in frontend to link to pages, and fetches tags in model to add points when interacted with\n",
    "\n",
    "---"
   ]
  },
  {
   "cell_type": "markdown",
   "metadata": {},
   "source": [
    "## Procedure Type & Return Type\n",
    "Key procedure searchItems(), queries the item list and returns a JSON list of matching items."
   ]
  },
  {
   "cell_type": "code",
   "execution_count": null,
   "metadata": {
    "vscode": {
     "languageId": "javascript"
    }
   },
   "outputs": [],
   "source": [
    "// get function pulled from api/search.py (gets the query from searchbar and returns the name, link, and tags)\n",
    "@search_api.route(\"\", methods=[\"GET\"])\n",
    "@token_required()\n",
    "def search_items():\n",
    "    query = request.args.get(\"q\", \"\").lower()\n",
    "    if not query:\n",
    "        return jsonify([])\n",
    "\n",
    "    results = [\n",
    "        {\"name\": item[\"name\"], \"link\": item[\"link\"], \"tags\": item[\"tags\"]}\n",
    "        for item in items if query in item[\"name\"].lower()\n",
    "    ]\n",
    "    return jsonify(results), 200\n"
   ]
  },
  {
   "cell_type": "markdown",
   "metadata": {},
   "source": [
    "**Procedure Type**: Filters items based on search query\n",
    "\n",
    "**Return Type**: JSON list of matching items\n",
    "\n",
    "---\n"
   ]
  },
  {
   "cell_type": "markdown",
   "metadata": {},
   "source": [
    "## Algorithm (Sequencing, Selection, Iteration)\n"
   ]
  },
  {
   "cell_type": "markdown",
   "metadata": {},
   "source": [
    "**Sequencing**: extracting the query, earching for matches, returning results.\n",
    "\n",
    "**Selection**: The function checks if the query matches any item names.\n",
    "\n"
   ]
  },
  {
   "cell_type": "code",
   "execution_count": null,
   "metadata": {
    "vscode": {
     "languageId": "javascript"
    }
   },
   "outputs": [],
   "source": [
    "// query if the item name exsists in the dictionary (selection)\n",
    "if query in item[\"name\"].lower():"
   ]
  },
  {
   "cell_type": "markdown",
   "metadata": {},
   "source": [
    "--> If true, the item is added to the results list, If false, it is skipped."
   ]
  },
  {
   "cell_type": "markdown",
   "metadata": {},
   "source": [
    "**Iteration**: Loops through the item, finds matching results, builds the list of related data"
   ]
  },
  {
   "cell_type": "code",
   "execution_count": null,
   "metadata": {
    "vscode": {
     "languageId": "javascript"
    }
   },
   "outputs": [],
   "source": [
    "// itterating/applying results based on query from selection\n",
    "results = [\n",
    "    {\"name\": item[\"name\"], \"link\": item[\"link\"], \"tags\": item[\"tags\"]}\n",
    "    for item in items if query in item[\"name\"].lower()\n",
    "]"
   ]
  },
  {
   "cell_type": "markdown",
   "metadata": {},
   "source": [
    "--- \n",
    "\n",
    "## Call to the Procedure\n",
    "In frontend (index.md), the searchItems() function is triggered when a user types into the search bar.\n"
   ]
  },
  {
   "cell_type": "code",
   "execution_count": null,
   "metadata": {
    "vscode": {
     "languageId": "javascript"
    }
   },
   "outputs": [],
   "source": [
    "// when inputing into searchbar function calls\n",
    "<input \n",
    "  type=\"text\" \n",
    "  id=\"searchInput\" \n",
    "  placeholder=\"🔍 Search for an item or tag...\" \n",
    "  oninput=\"searchItems()\"\n",
    "/>"
   ]
  },
  {
   "cell_type": "markdown",
   "metadata": {},
   "source": [
    "**Event-Driven Execution**: Every time a user types (oninput), the search function is called (SearchItems())\n",
    "\n",
    "---"
   ]
  },
  {
   "cell_type": "markdown",
   "metadata": {},
   "source": [
    "## Instructions for Output Based on Input\n",
    "The search function outputs a list of matching items or an error message (depending on whether or not paramaters are met)"
   ]
  },
  {
   "cell_type": "code",
   "execution_count": null,
   "metadata": {
    "vscode": {
     "languageId": "javascript"
    }
   },
   "outputs": [],
   "source": [
    "// input into search bar (when user toby logged in)\n",
    "{    \"name\": \"Teddy Bear\"}"
   ]
  },
  {
   "cell_type": "code",
   "execution_count": null,
   "metadata": {
    "vscode": {
     "languageId": "javascript"
    }
   },
   "outputs": [],
   "source": [
    "// output for related input \n",
    "{\n",
    "    \"message\": \"Tags for 'Teddy Bear' updated successfully!\",\n",
    "    \"tags\": {\n",
    "        \"all\": 2,\n",
    "        \"bear\": 1,\n",
    "        \"teddy\": 1,\n",
    "        \"toys\": 1\n",
    "    }\n",
    "}"
   ]
  },
  {
   "cell_type": "code",
   "execution_count": null,
   "metadata": {
    "vscode": {
     "languageId": "javascript"
    }
   },
   "outputs": [],
   "source": [
    "// output if input is not found\n",
    "{\n",
    "    \"error\": \"Item not found!\"\n",
    "}"
   ]
  },
  {
   "cell_type": "code",
   "execution_count": null,
   "metadata": {
    "vscode": {
     "languageId": "javascript"
    }
   },
   "outputs": [],
   "source": [
    "//In the frontend, results are displayed dynamically (on the index page):\n",
    "\n",
    "const resultsDiv = document.getElementById('results');\n",
    "resultsDiv.innerHTML = ''; // Clear previous results\n",
    "\n",
    "if (items.length > 0) {\n",
    "    items.forEach(item => {\n",
    "        const resultDiv = document.createElement('div');\n",
    "        resultDiv.className = 'result';\n",
    "        resultDiv.textContent = item.name;\n",
    "        resultDiv.onclick = async () => {\n",
    "            await incrementTags(item.name);\n",
    "            window.location.href = item.link;\n",
    "        };\n",
    "        resultsDiv.appendChild(resultDiv);\n",
    "    });\n",
    "} else {\n",
    "    resultsDiv.textContent = 'No results found.';\n",
    "}\n"
   ]
  },
  {
   "cell_type": "markdown",
   "metadata": {},
   "source": [
    "**If items exist**, they are displayed as clickable elements.\n",
    "\n",
    "**If no matches**, \"No results found.\" is shown."
   ]
  }
 ],
 "metadata": {
  "language_info": {
   "name": "python"
  }
 },
 "nbformat": 4,
 "nbformat_minor": 2
}
