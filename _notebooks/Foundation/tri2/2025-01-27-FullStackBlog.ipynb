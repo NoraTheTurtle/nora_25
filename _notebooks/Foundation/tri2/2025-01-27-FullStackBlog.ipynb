{
 "cells": [
  {
   "cell_type": "markdown",
   "metadata": {},
   "source": [
    "---\n",
    "toc: True\n",
    "comments: true\n",
    "title: Fullstack blog reflection\n",
    "layout: post\n",
    "type: plans\n",
    "description: Reflection on frontend to backend fullstack connection!\n",
    "courses: { compsci: {week: 20} }\n",
    "---"
   ]
  },
  {
   "cell_type": "markdown",
   "metadata": {
    "vscode": {
     "languageId": "plaintext"
    }
   },
   "source": [
    "# **The Holiday Giftinator**"
   ]
  },
  {
   "cell_type": "markdown",
   "metadata": {},
   "source": [
    "## **Overall Purpose:**\n",
    "- Offer easy gift suggestions to people for their friends and family \n",
    "- Give organized gift suggestions for diffrent categories\n",
    "\n",
    "## **My Feture Purpose:** \n",
    "- Add values to users searched items \n",
    "- Create the connection between frontend --> backend to apply to diffrent codes\n",
    "    - apply tags to recomended page + user profile\n",
    "    - users can share prefrences in their profile to friends(implementation idea)\n",
    "    - users can search for simular items in reccomended page (implementation idea)"
   ]
  },
  {
   "cell_type": "markdown",
   "metadata": {},
   "source": [
    "## **Frontend to Backend Demo**\n",
    "- input --> user types in search bar for an item or assosiated tag and click on item\n",
    "<img src=\"{{site.baseurl}}/images/input.png\" alt=\"Input\" width=\"400\" />\n",
    "\n",
    "- Output --> Associated tags and name of items is added to the database\n",
    "<img src=\"{{site.baseurl}}/images/output.png\" alt=\"Output\" width=\"400\" />\n",
    "\n"
   ]
  },
  {
   "cell_type": "markdown",
   "metadata": {},
   "source": [
    "#### **Postman Code Demo**\n",
    "- input name of item (into search bar/body of postman)\n",
    "\n",
    "<img src=\"{{site.baseurl}}/images/postman.png\" alt=\"Postman\" width=\"400\" />\n",
    "\n",
    "- output associated tags + name of item saved"
   ]
  },
  {
   "cell_type": "markdown",
   "metadata": {},
   "source": [
    "## **Database + Dictionary Usage**\n",
    "1. dictionary in api to save items with associated name, tags, and link\n",
    "2. SQL lite database\n",
    "    - save username, name of item, and tags\n",
    "3. query  for items in the dictionary (located in search.py api file)"
   ]
  },
  {
   "cell_type": "code",
   "execution_count": null,
   "metadata": {},
   "outputs": [],
   "source": [
    "def search_items():\n",
    "    \"\"\"\n",
    "    Search for items based on a query string.\n",
    "    \"\"\"\n",
    "    query = request.args.get(\"q\", \"\").lower() # q is querying for itmes\n",
    "    current_user = g.current_user  # Get authenticated user\n",
    "    user_id = current_user.uid\n",
    "\n",
    "    if not query:\n",
    "        return jsonify([]) # Return an empty list if no query is provided\n",
    "\n",
    "    # Match items based on whether the query is in the name (case-insensitive, partial match)\n",
    "    results = [\n",
    "        {\"name\": item[\"name\"], \"link\": item[\"link\"], \"tags\": item[\"tags\"]} #find item name, link, and tag\n",
    "        for item in items if query in item[\"name\"].lower() #find item name to add into database\n",
    "    ]"
   ]
  },
  {
   "cell_type": "markdown",
   "metadata": {},
   "source": [
    "## **save data into json file (searchHistory.json)**"
   ]
  },
  {
   "cell_type": "code",
   "execution_count": null,
   "metadata": {},
   "outputs": [],
   "source": [
    "## function to append data to the json file \n",
    "def append_to_json(data):\n",
    "    try:\n",
    "        if os.path.exists(JSON_FILE_PATH):\n",
    "            with open(JSON_FILE_PATH, \"r\") as json_file:\n",
    "                existing_data = json.load(json_file)\n",
    "        else:\n",
    "            existing_data = []\n",
    "\n",
    "        existing_data.append(data) #append data to the json file\n",
    "\n",
    "        with open(JSON_FILE_PATH, \"w\") as json_file: \n",
    "            json.dump(existing_data, json_file, indent=4) #dump data to the json file\n",
    "    except Exception as e:\n",
    "        print(f\"Error saving data to JSON file: {e}\") #error catching"
   ]
  },
  {
   "cell_type": "markdown",
   "metadata": {},
   "source": [
    "## **Crud Operatios**\n",
    "\n",
    "**Create** --> Add tags of items into database (query to find item details)\n",
    "\n",
    "**Read** --> Read data from dictionary/in database (as well as in query to find item details above)\n",
    "\n",
    "**Update** --> Update tags when user click on an item again (+1 with each interaction)\n",
    "\n",
    "**Delete** --> Clear data from database"
   ]
  },
  {
   "cell_type": "markdown",
   "metadata": {},
   "source": [
    "## **Algorithmic Code (Post, Get, Put Functions)**"
   ]
  },
  {
   "cell_type": "markdown",
   "metadata": {},
   "source": [
    "**Post** --> Add item data into the table (each time u add it adds tags)\n",
    "\n",
    "**Get** --> Get the data of an item(name link tags)\n",
    "\n",
    "**Put** --> update name or tags of an item in database"
   ]
  },
  {
   "cell_type": "markdown",
   "metadata": {},
   "source": [
    "## **Method/Procedure**\n",
    "\n",
    "**Sequencing**\n",
    "1. check required feild (make sure there is userId and query for item n searchbar)\n",
    "2. type in search bar (query for item)\n",
    "3. click on item --> collect name tags and link assosiated to item\n",
    "4. display data into database depending on user input into searchbar\n",
    "\n",
    "**selection**\n",
    "- determine what action to take depending on input\n",
    "    - if any fields are missing display error message\n",
    "    - if all fields required are there then show items in search and display data in database\n",
    "\n",
    "**Iteration**\n",
    "- use GET to retrive data from query\n"
   ]
  },
  {
   "cell_type": "code",
   "execution_count": null,
   "metadata": {},
   "outputs": [],
   "source": [
    "#searching for items based on query string\n",
    "def search_items():\n",
    "    \"\"\"\n",
    "    Search for items based on a query string.\n",
    "    \"\"\"\n",
    "    query = request.args.get(\"q\", \"\").lower()\n",
    "    current_user = g.current_user  # Get authenticated user\n",
    "    user_id = current_user.uid\n",
    "\n",
    "    if not query:\n",
    "        return jsonify([])\n",
    "\n",
    "    # Match items based on whether the query is in the name (case-insensitive, partial match)\n",
    "    results = [\n",
    "        {\"name\": item[\"name\"], \"link\": item[\"link\"], \"tags\": item[\"tags\"]}\n",
    "        for item in items if query in item[\"name\"].lower()\n",
    "    ]\n",
    "\n",
    "    return jsonify(results), 200"
   ]
  }
 ],
 "metadata": {
  "language_info": {
   "name": "python"
  }
 },
 "nbformat": 4,
 "nbformat_minor": 2
}
