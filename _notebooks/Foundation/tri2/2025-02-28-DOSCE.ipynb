{
 "cells": [
  {
   "cell_type": "markdown",
   "metadata": {},
   "source": [
    "---\n",
    "toc: False\n",
    "comments: true\n",
    "title: DOSCE bullets\n",
    "layout: post \n",
    "type: plans\n",
    "description: my 5 DOSCE bullets + connecting my project to the CPT requierments\n",
    "courses: { compsci: {week: 23} }\n",
    "---"
   ]
  },
  {
   "cell_type": "markdown",
   "metadata": {},
   "source": [
    "## Dosce bullets \n",
    "\n",
    "1. Creating user stories: [issue](https://github.com/vibha1019/holiday_frontend/issues/3) \n",
    "2. saving data into SQL lite database (making APIs and Models) [issue](https://github.com/vibha1019/holiday_frontend/issues/25)\n",
    "3.  Full stack search bar/search history feature: [Issue](https://github.com/vibha1019/holiday_frontend/issues/27)\n",
    "4. Deploying website (making Nginx file + using Docker): [issue](https://github.com/vibha1019/holiday_frontend/issues/28)\n",
    "5. Mapping out website in a user-friendly way (reformatting frontend + backend homepages): [issue](https://github.com/vibha1019/holiday_frontend/issues/34)\n",
    "\n",
    "<br>\n",
    "\n",
    "---"
   ]
  },
  {
   "cell_type": "markdown",
   "metadata": {},
   "source": [
    "\n",
    "## CPT connection\n",
    "\n",
    "| **Requirement** | **My Feature Function** |\n",
    "|-----------------|------------------------------------------------|\n",
    "| **Input** |Typing into the search bar |\n",
    "| **Use of List/Collection Type** | SQLite Database (static data), dictionary in backend, JSON file|\n",
    "| **Procedure** | User inputs, Item appears, 'points' added to the item saved in static data|\n",
    "| **Algorithm** | 'Point' values are added to item so they can be referenced in future features with user preferences or recommended items (more points = higher value) |\n",
    "| **Output** |  link to page of typed in item appears and points are added when item is clicked |\n",
    "| **Functionality Demonstration** | User inputs, item is clicked, data is added into SQLite database  (full-stack connection from frontend to backend)|"
   ]
  }
 ],
 "metadata": {
  "language_info": {
   "name": "python"
  }
 },
 "nbformat": 4,
 "nbformat_minor": 2
}
