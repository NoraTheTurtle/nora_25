{
 "cells": [
  {
   "cell_type": "markdown",
   "metadata": {},
   "source": [
    "---\n",
    "toc: true\n",
    "comments: true\n",
    "title: Girls in CS lecture notes\n",
    "layout: post\n",
    "type: plans\n",
    "description: Notes on the women in CS lecture \n",
    "courses: { compsci: {week: 14} }\n",
    "---"
   ]
  },
  {
   "cell_type": "markdown",
   "metadata": {},
   "source": [
    "### Proof!\n",
    "\n",
    "<img src=\"{{site.baseurl}}/images/proof.jpg\" alt=\"Proof\" width=\"500\" height=\"330\">\n",
    "\n"
   ]
  },
  {
   "cell_type": "markdown",
   "metadata": {},
   "source": [
    "### Applying this too myself/my code\n",
    "\n",
    "1. Preparing mentally and being more organized before live reviews/ when explaining my work to teammates\n",
    "<br>\n",
    "\n",
    "2. Doccumenting/organizing project ideas better by staying consistant with kanban board or atempting to use flowcharts to plan out my ideas\n",
    "<br>\n",
    "\n",
    "3. Preparing now for collage admissions by taking summer courses/looking through collages to see all options"
   ]
  },
  {
   "cell_type": "markdown",
   "metadata": {},
   "source": [
    "### Main points/takeaways\n",
    "\n",
    "#### 1. Collaboration\n",
    "- breaking down code before presenting\n",
    "    - be concise/direct about each point I make\n",
    "    - plan poimts ahead \n",
    "- deliver myself well to teachers/interviewers in the future\n",
    "    - be confident/percise\n",
    "\n",
    "#### 2. Critical Thinking\n",
    "- apply agile methedology and OOP\n",
    "- plan out project ideas beforehand\n",
    "    - organize flowcharts + kanban boards\n",
    "\n",
    "#### 3. Collage admissions\n",
    "- mix technical and social aspects in essays\n",
    "    - project idea + aplicaton in real world\n",
    "- join clubs and make connections with people\n",
    "    - helpful in job aplications and internships\n",
    "- focus on hands on projects/skills more then GPA/grades"
   ]
  }
 ],
 "metadata": {
  "language_info": {
   "name": "python"
  }
 },
 "nbformat": 4,
 "nbformat_minor": 2
}
