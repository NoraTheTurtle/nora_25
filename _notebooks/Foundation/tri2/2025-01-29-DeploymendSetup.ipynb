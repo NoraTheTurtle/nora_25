{
 "cells": [
  {
   "cell_type": "markdown",
   "metadata": {},
   "source": [
    "---\n",
    "toc: False\n",
    "comments: true\n",
    "title: BIG IDEA 4 - Deployment Setup Lesson\n",
    "layout: post \n",
    "type: hacks\n",
    "description: Steps to start AWS deployment\n",
    "courses: { compsci: {week: 17} }\n",
    "---"
   ]
  },
  {
   "cell_type": "markdown",
   "metadata": {},
   "source": [
    "# **Deployment With AWS**"
   ]
  },
  {
   "cell_type": "markdown",
   "metadata": {},
   "source": [
    "# What I Learned From BIG IDEA 4 + What I Plan  To Do\n",
    "\n",
    "1. ### **Server Setup**\n",
    "- Connect to **AWS EC2** (Amazon's cloud servers)\n",
    "- Log in using **SSH** (secure shell)\n",
    "\n",
    "<br>\n",
    "\n",
    "2. ### **Docker** (a tool that packages apps/dependencys so they can run on all servers)\n",
    "- Create **Dockerfile** (defines app environment) \n",
    "- Create **docker-compose.yml** (automates container setup).\n",
    "\n",
    "<br>\n",
    "\n",
    "3.  ### **DNS** (domain name setup)\n",
    "- Configure **DNS** and setup a sub-domain for my teams website \n",
    "    - like mort's: **flask2025.nighthawkcodingsociety.com**\n",
    "\n",
    "<br>\n",
    "\n",
    "4. ### **Nginx Reverse Proxy** \n",
    "- Set up **Nginx** (webserver to forward requests to backend)\n",
    "- Congifure traffic to my application/server\n",
    "\n",
    "<br>\n",
    "\n",
    "5. ### **SSL/HTTPS**\n",
    "- user **certbot** to install **SSL** certificates (to prove it is a secure site)\n",
    "- use **HTTPS** (HyperText Transfer Protocol Secure) to encript data sent between servers "
   ]
  },
  {
   "cell_type": "markdown",
   "metadata": {},
   "source": [
    "# What I Hope To Achieve \n",
    "\n",
    "1. **Sucsessful Deployment**\n",
    "- Making the website acsessible between all computer with the use of HTTPS (secure data sharing)\n",
    "\n",
    "<br>\n",
    "\n",
    "2. **Familiarize my self with key consepts**\n",
    "\n",
    "- **AWS** --> remote servers to run applications/websites between devices **(amazon web servers)**\n",
    "\n",
    "- **Docker** --> a tool to run packages/dependinces through diffrent enviroments \n",
    "\n",
    "- **Nginx** --> a proxy to direct taffic through backend servers (a server that sits between 2 servers to handle requests and responces)\n",
    "\n",
    "- **DNS** --> a system to translate readable domain names into IP adresses for the computer **(domain name system)**\n",
    "\n",
    "- **SSL** Certificates --> a digital certificite to prove your website is secure in-order to obtain HTTPS ecripting in your website"
   ]
  }
 ],
 "metadata": {
  "language_info": {
   "name": "python"
  }
 },
 "nbformat": 4,
 "nbformat_minor": 2
}
