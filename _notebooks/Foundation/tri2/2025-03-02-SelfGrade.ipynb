{
 "cells": [
  {
   "cell_type": "markdown",
   "metadata": {},
   "source": [
    "---\n",
    "toc: False\n",
    "comments: true\n",
    "title: N@TM\n",
    "layout: post \n",
    "type: tangibles\n",
    "description: What I learned/projects I liked at N@TM\n",
    "courses: { compsci: {week: 23} }\n",
    "---"
   ]
  },
  {
   "cell_type": "markdown",
   "metadata": {},
   "source": [
    "| **Concept** | **Grade** | **Notes** |\n",
    "|----------------|-----------------|------------------------------------------------|\n",
    "| **Dosce bullets** | 5/5 | Added timeline accurate issues and burndown lists for each bullet |\n",
    "| **Fullstack Demo, CPT, N@TM future additions** | 1/2 | Needed more algorithmic code (future recomended page/user prefrences) |\n",
    "| **Feature + FRQ** | 1/1 | Into depth code snipits + summary for each FRQ section |\n",
    "| **MCQ reflection**| 1/1  | Reflected on test 1 vs 2 and areas for improvment |\n",
    "| **Presentation 10th point**| 1/1  | Talked about collaberation with others, sent agenda, self graded, intrests in CSA |\n",
    "| **Total**| 9/10  | |\n",
    "\n",
    "### Strengths:\n",
    "- Collaberating\n",
    "- Adding purpose to code\n",
    "\n",
    "### Weaknesses: \n",
    "- Adding extensive algoritms\n",
    "- Organizing my work/presenting orderally"
   ]
  }
 ],
 "metadata": {
  "language_info": {
   "name": "python"
  }
 },
 "nbformat": 4,
 "nbformat_minor": 2
}
