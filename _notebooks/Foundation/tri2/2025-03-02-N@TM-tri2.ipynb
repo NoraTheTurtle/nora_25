{
 "cells": [
  {
   "cell_type": "markdown",
   "metadata": {},
   "source": [
    "---\n",
    "toc: False\n",
    "comments: true\n",
    "title: N@TM\n",
    "layout: post \n",
    "type: plans\n",
    "description: What I learned/projects I liked at N@TM\n",
    "courses: { compsci: {week: 23} }\n",
    "---"
   ]
  },
  {
   "cell_type": "markdown",
   "metadata": {},
   "source": [
    "### My Group\n",
    "<img src=\"{{site.baseurl}}/images/N@TM2.png\" alt=\"Group Photo\">"
   ]
  },
  {
   "cell_type": "markdown",
   "metadata": {},
   "source": [
    "### Reviews \n",
    "<img src=\"{{site.baseurl}}/images/reviews.png\" alt=\"Reviews\">\n",
    "\n",
    "**ideas to implement from users**\n",
    "1. Making links of items go to websites that sell said item\n",
    "\n",
    "2. Adding more to the search bar feature by making user prefrences for items on profile page/recomended page of items\n",
    "\n",
    "3. Make all pages have consequtive styling/try downloading a style from the internet to implement on _config.yml"
   ]
  },
  {
   "cell_type": "markdown",
   "metadata": {},
   "source": [
    "### Top 3 Teams\n",
    "1. <img src=\"{{site.baseurl}}/images/binarySite.png\" alt=\"Binary Site\">\n",
    "**Useful application to my lack of binary understanding and for next trimesters data structures class**\n",
    "\n",
    "2. <img src=\"{{site.baseurl}}/images/byte.png\" alt=\"Byte\">\n",
    "**Intresting/cool design aspect plus fun to use and diversity in food dishes avalible**\n",
    "\n",
    "3. <img src=\"{{site.baseurl}}/images/possiden.png\" alt=\"Possiden\">\n",
    "**AI usage/implementation into code smoothly, included lots of features like reccordings to talk to bot**"
   ]
  },
  {
   "cell_type": "markdown",
   "metadata": {},
   "source": [
    "### Collaberation\n",
    "\n",
    "**In my group**: Connecting all the pages together to make the website seem less isolated and make all features interact with eachther\n",
    "\n",
    "**With classmates**: collaberating before/after live reviews to prepare blogs and demos together \n",
    "\n",
    "**Outside of class**: Making friends with people last tri and in diffrent periods/collaberaiting with other people to share knowlage together\n",
    "- **Jusin** teaching me about implementing models\n",
    "- **Xavier** helping with db_restore/db_backup code with me\n",
    "- **Maryam** helping look at UI and move the pages around to make more logical sense"
   ]
  }
 ],
 "metadata": {
  "language_info": {
   "name": "python"
  }
 },
 "nbformat": 4,
 "nbformat_minor": 2
}
