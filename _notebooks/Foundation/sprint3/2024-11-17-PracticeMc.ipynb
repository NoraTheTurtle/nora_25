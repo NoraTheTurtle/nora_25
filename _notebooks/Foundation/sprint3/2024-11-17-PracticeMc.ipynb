{
 "cells": [
  {
   "cell_type": "markdown",
   "metadata": {},
   "source": [
    "---\n",
    "title: Practice Mc Reflection\n",
    "comments: true\n",
    "layout: post\n",
    "type: hacks\n",
    "toc: true\n",
    "description: Reflection on practice MC\n",
    "courses: { compsci: {week: 12} }\n",
    "---"
   ]
  },
  {
   "cell_type": "markdown",
   "metadata": {},
   "source": [
    "## What have you learned from this quiz\n",
    "\n",
    "- From this quiz I learned a lot about the types of questions that will be presented on the multiple choice\n",
    "\n",
    "- I also learned the formating of the questions (how they are majority suedocode and not specific languages like js or html)\n",
    "\n",
    "- I learned how variables are declared (with arrows instead of let_ =) and the way that code is formated in the question\n",
    "\n",
    "- I also learned what I need to review and what questions I understand the most to give me a good understanding of what to study\n",
    "\n",
    "---"
   ]
  },
  {
   "cell_type": "markdown",
   "metadata": {
    "vscode": {
     "languageId": "plaintext"
    }
   },
   "source": [
    "## What type of questions do you feel you are weak on?\n",
    "\n",
    "- I felt the most weak on questions about specific definitions\n",
    "\n",
    "- I also felt confused on the questions about bits and about binary\n",
    "\n",
    "- I was confused on the implementation of coding on local communities like in question 3 aswell\n",
    "\n",
    "---"
   ]
  },
  {
   "cell_type": "markdown",
   "metadata": {},
   "source": [
    "## Corrections on things I got wrong\n",
    "- Q3: I got this wrong because I was unsure of weather they ment local or global use of citizin science.  Now I realized global use is more effective then local so that would be the correct awsner.\n",
    "\n",
    "- Q12: I got this wrong because I thought the graph was increasing lineraly, but using contex clues it was actually increating exponentially so the number would have been higher.\n",
    "\n",
    "- Q16: I got this wrong because I didnt know the rules of the Digital Millennium Copyright Act (DMCA).  Now I understand how that would be the wrong awsner because of the copyright act.\n",
    "\n",
    "- Q20: I got this wrong because I did not understand the formating of the code and how that effected the usage.  Changing the format changed the outcome and that is how I could have correctly awsnered this question.\n",
    "\n",
    "- Q28: I got this wrong because I lacked an understanding of binary. Reaserching the concept I understand why the correct awsner would be the largest.\n",
    "\n",
    "- Q29: I got this question wrong because I incorectly understood the flowchart.  Originally I chose the correct awsner but I changed it in the end, now I understand why my awsner was wrong.\n",
    "\n",
    "- Q30: I got this question wrong because I assumed the \"analyze\" function was only used once, if it was not then the correct awsner would be much higher then my chosen awsner.\n",
    "\n",
    "- Q31: I got this one wrong because I thought the question asked which was faster/more effective, but just asked which one worked.  If I read it correct then both of them would have worked eventually, making that the right awsner\n",
    "\n",
    "- Q36: I got this one wrong because I forgot the diffrence of floats and intergers, and how that implements into code.  Remebering that I realized that there was a restriction because the number was a float not an integer\n",
    "\n",
    "- Q42: I got this wrong because I forgot how the bit system worked. reworking it, it would be 2 to the power of 96 not just 96 alone\n",
    "\n",
    "- Q43: I got this question wrong because I read the awsners incorrect, and mixed up the one I chose resulting in my picking the wrong awsner\n",
    "\n",
    "- Q44: I got this question incorrect because again I was confused on the 4-bit stuff, and the 4-bit representation of integers.\n",
    "\n",
    "- Q45: I got this question wrong because I read the information wrong, giving me a false understanding of the NAND gate.\n",
    "\n",
    "- Q50: I got this one wrong because I got confused between binary and linear searches, now i know the difrence and understand which one would be correct for this senario\n",
    "\n",
    "- Q51: I got this one wrong because I didn't know how to spot symetric encription, so I couln't figure out what the correct awsner was. Reviewing the defentition I understand why I got it wrong\n",
    "\n",
    "- Q52: I got this wrong because I assumed there was only one correct awsner, when both awsner 2 and 3 were correct\n",
    "\n",
    "- Q56: I got this wrong because I didnt realize it started from 1 and not 0, shifting the whole loop up 1, with that in mind I realize why my awsner was incorrect and what the correct awsner would be\n",
    "\n",
    "- Q57: I got this wrong because didn't fully understand the guildlines provided on how the substring function worked.  I didnt realize the second number represented substring length so I ended up choosing the wrong awsner\n",
    "\n",
    "- Q60: I got 1/2 awsners incorrect because I didn't realize that changing repeated code into instances would be more effective then my given awsner, now I understand how that would work better.\n",
    "\n",
    "- Q61: I got 1/2 awsners incorrect because I didnt realize 100% of what the question was asking, I thought it was looking for the student with the most absences, not the avrage amount of absences across students, so I chose the wrong awsner.\n",
    "\n",
    "- Q64: I got 1/2 awsners incorrect because I forgot to also talk about the security concernes of cloud data, having it all saved to one space, so I chose the wrong awsner for the question.\n",
    "\n",
    "- Q65: I got 1/2 awsners incorrect because I read the values listen incorrectly, making me select the wrong awsner.\n",
    "\n",
    "- Q66: I got 1/2 awsners incorrect because I didnt correctly understand the function.  I didnt realize the effect of the starting number on the order causing me to choose the wrong list"
   ]
  }
 ],
 "metadata": {
  "language_info": {
   "name": "python"
  }
 },
 "nbformat": 4,
 "nbformat_minor": 2
}
