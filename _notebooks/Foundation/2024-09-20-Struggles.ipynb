{
 "cells": [
  {
   "cell_type": "markdown",
   "metadata": {},
   "source": [
    "---\n",
    "layout: post\n",
    "title: Sprint 1 (overall)\n",
    "type: plans\n",
    "comments: true\n",
    "courses: {compsci: {week: 5}}\n",
    "toc: false\n",
    "---"
   ]
  },
  {
   "cell_type": "markdown",
   "metadata": {},
   "source": [
    "## MY JOURNEY!\n",
    "\n",
    "Overall my journey into CSP so far has been really fun and exciting.  I learned to make new things using JS that I didn't know last year, as well as learning to make new games and add onto my old ones from CSSE.  I am really happy with my group so far, we get along well and help eachother with our work!  I am exciting to learn more about code and make new things to add onto my blog :D"
   ]
  },
  {
   "cell_type": "markdown",
   "metadata": {},
   "source": [
    "### struggles\n",
    "- Getting my nb convert to work\n",
    "- Getting utterences to function on my page\n",
    "- learning to add a submenu and learning to format everything on my page"
   ]
  },
  {
   "cell_type": "markdown",
   "metadata": {},
   "source": [
    "### Acomplishments\n",
    "- Changing snake game to WASD (and making it circles!)\n",
    "- changing the sass and coloring my theme/the words on my blog\n",
    "- added a submenu (for my princess playground project) and added buttons that linked to other pages/websites/videos!"
   ]
  }
 ],
 "metadata": {
  "language_info": {
   "name": "python"
  }
 },
 "nbformat": 4,
 "nbformat_minor": 2
}
