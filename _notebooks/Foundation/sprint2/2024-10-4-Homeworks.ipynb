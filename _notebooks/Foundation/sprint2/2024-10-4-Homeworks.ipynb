{
 "cells": [
  {
   "cell_type": "markdown",
   "metadata": {},
   "source": [
    "---\n",
    "layout: post\n",
    "title: Homeworks\n",
    "courses: {compsci: {week: 6}}\n",
    "type: hacks\n",
    "toc: false\n",
    "---"
   ]
  },
  {
   "cell_type": "markdown",
   "metadata": {},
   "source": [
    "### Lesson 3.3.1-4 popcorn hacks"
   ]
  },
  {
   "cell_type": "code",
   "execution_count": 24,
   "metadata": {},
   "outputs": [
    {
     "name": "stdout",
     "output_type": "stream",
     "text": [
      "21\n"
     ]
    }
   ],
   "source": [
    "#python popcorn hack (#3)\n",
    "\n",
    "number = int(input())\n",
    "total_sum = 0\n",
    "for i in range (1, number +1):\n",
    "        total_sum += i\n",
    "\n",
    "print (total_sum)"
   ]
  },
  {
   "cell_type": "code",
   "execution_count": 23,
   "metadata": {
    "vscode": {
     "languageId": "javascript"
    }
   },
   "outputs": [
    {
     "data": {
      "application/javascript": "//Javascript popcorn hack (easy)\n\n\nfunction calculate() {\n    return (2 * 3) ** 2 - 6 + 2 /1; //uses multiplication, exponents, subtraction, addition, and division\n}\n\nconsole.log(calculate()); // Output: 32\n",
      "text/plain": [
       "<IPython.core.display.Javascript object>"
      ]
     },
     "metadata": {},
     "output_type": "display_data"
    }
   ],
   "source": [
    "%%js\n",
    "//Javascript popcorn hack (easy)\n",
    "\n",
    "\n",
    "function calculate() {\n",
    "    return (2 * 3) ** 2 - 6 + 2 /1; //uses multiplication, exponents, subtraction, addition, and division\n",
    "}\n",
    "\n",
    "console.log(calculate()); // Output: 32"
   ]
  }
 ],
 "metadata": {
  "kernelspec": {
   "display_name": "venv",
   "language": "python",
   "name": "python3"
  },
  "language_info": {
   "codemirror_mode": {
    "name": "ipython",
    "version": 3
   },
   "file_extension": ".py",
   "mimetype": "text/x-python",
   "name": "python",
   "nbconvert_exporter": "python",
   "pygments_lexer": "ipython3",
   "version": "3.12.5"
  }
 },
 "nbformat": 4,
 "nbformat_minor": 2
}
