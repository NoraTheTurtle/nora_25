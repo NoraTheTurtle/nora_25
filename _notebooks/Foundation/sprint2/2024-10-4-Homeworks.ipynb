{
 "cells": [
  {
   "cell_type": "markdown",
   "metadata": {},
   "source": [
    "---\n",
    "layout: post\n",
    "title: Homeworks\n",
    "courses: {compsci: {week: 6}}\n",
    "type: hacks\n",
    "toc: false\n",
    "---"
   ]
  },
  {
   "cell_type": "markdown",
   "metadata": {},
   "source": [
    "## Lesson 3.3.1-4 popcorn hacks"
   ]
  },
  {
   "cell_type": "code",
   "execution_count": 24,
   "metadata": {},
   "outputs": [
    {
     "name": "stdout",
     "output_type": "stream",
     "text": [
      "21\n"
     ]
    }
   ],
   "source": [
    "#python popcorn hack (#3)\n",
    "\n",
    "number = int(input())\n",
    "total_sum = 0\n",
    "for i in range (1, number +1):\n",
    "        total_sum += i\n",
    "\n",
    "print (total_sum)"
   ]
  },
  {
   "cell_type": "code",
   "execution_count": 62,
   "metadata": {
    "vscode": {
     "languageId": "javascript"
    }
   },
   "outputs": [
    {
     "data": {
      "application/javascript": "//Javascript popcorn hack (easy)\n\n\nfunction calculate() {\n    return (2 * 3) ** 2 - 6 + 2 /1; //uses multiplication, exponents, subtraction, addition, and division\n}\n\nconsole.log(calculate()); // Output: 32\n",
      "text/plain": [
       "<IPython.core.display.Javascript object>"
      ]
     },
     "metadata": {},
     "output_type": "display_data"
    }
   ],
   "source": [
    "%%js\n",
    "//Javascript popcorn hack (easy)\n",
    "\n",
    "\n",
    "function calculate() {\n",
    "    return (2 * 3) ** 2 - 6 + 2 /1; //uses multiplication, exponents, subtraction, addition, and division\n",
    "}\n",
    "\n",
    "console.log(calculate()); // Output: 32"
   ]
  },
  {
   "cell_type": "markdown",
   "metadata": {},
   "source": [
    "## Lesson 3.3.1-4 python big hacks"
   ]
  },
  {
   "cell_type": "code",
   "execution_count": 60,
   "metadata": {},
   "outputs": [
    {
     "name": "stdout",
     "output_type": "stream",
     "text": [
      "Arithmetic Mean: 15.6\n",
      "Median: 14\n"
     ]
    }
   ],
   "source": [
    "#PYTHON HACK 1\n",
    "\n",
    "#Define a list of integers\n",
    "integers = [2, 8, 14, 21, 33]\n",
    "\n",
    "#Function to calculate arithmetic mean\n",
    "def calculate_mean(numbers):\n",
    "    return sum(numbers) / len(numbers)\n",
    "\n",
    "#Function to calculate median\n",
    "def calculate_median(numbers):\n",
    "    sorted_numbers = sorted(numbers)\n",
    "    mid_index = len(sorted_numbers) // 2\n",
    "    \n",
    "    #use the middle element\n",
    "    return sorted_numbers[mid_index]\n",
    "\n",
    "#Calculate mean and median\n",
    "mean = calculate_mean(integers)\n",
    "median = calculate_median(integers)\n",
    "\n",
    "#Print the results\n",
    "print(\"Arithmetic Mean:\", mean)\n",
    "print(\"Median:\", median)\n"
   ]
  },
  {
   "cell_type": "code",
   "execution_count": 61,
   "metadata": {},
   "outputs": [
    {
     "name": "stdout",
     "output_type": "stream",
     "text": [
      "[7, 22, 11, 34, 17, 52, 26, 13, 40, 20, 10, 5, 16, 8, 4, 2, 1]\n"
     ]
    }
   ],
   "source": [
    "# PYTHON HACK 2\n",
    "\n",
    "def collatz_sequence(a):\n",
    "    sequence = [a]  #Initialize the list with the starting value 'a'\n",
    "    \n",
    "    #Continue until the value reaches 1\n",
    "    while a != 1:  \n",
    "        if a % 2 == 0:\n",
    "            a = a // 2  #If even, divide by 2\n",
    "        else:\n",
    "            a = 3 * a + 1  #If odd, multiply by 3 and add 1\n",
    "        sequence.append(a)  #Add the new value to the sequence\n",
    "    \n",
    "    #Print the resulting sequence\n",
    "    print(sequence)\n",
    "\n",
    "#plug in 7 to test\n",
    "collatz_sequence(7) "
   ]
  },
  {
   "cell_type": "markdown",
   "metadata": {},
   "source": [
    "## Lesson 3.3.1-4 Javascript big hacks"
   ]
  },
  {
   "cell_type": "code",
   "execution_count": 59,
   "metadata": {
    "vscode": {
     "languageId": "javascript"
    }
   },
   "outputs": [
    {
     "data": {
      "application/javascript": "// JAVASCRIPT HACK 1\n\n// Function to find the GCD of two numbers\nfunction findGCD(a, b) {\n    while (b !== 0) {\n        [a, b] = [b, a % b];  // Swap the values of a and b\n    }\n    return a;  // When b becomes 0, a is the GCD\n}\n\n// Function to find the LCM of two numbers\nfunction findLCM(a, b) {\n    return Math.abs(a * b) / findGCD(a, b); // a * b / GCD = LCM\n}\n\n// Function to return both GCD and LCM as an object\nfunction gcdAndLcm(a, b) {\n    const gcd = findGCD(a, b);  // Find GCD\n    const lcm = findLCM(a, b);  // Find LCM\n    return { GCD: gcd, LCM: lcm };  // Return both as an object\n}\n\n// Define a and b\nlet a = 1;\nlet b = 7;\n\n// Call the function and print the result\nconsole.log(gcdAndLcm(a, b));\n",
      "text/plain": [
       "<IPython.core.display.Javascript object>"
      ]
     },
     "metadata": {},
     "output_type": "display_data"
    }
   ],
   "source": [
    "%%js\n",
    "//JAVASCRIPT HACK 1\n",
    "\n",
    "//Function to find the GCD of two numbers\n",
    "function findGCD(a, b) {\n",
    "    while (b !== 0) {\n",
    "        [a, b] = [b, a % b];  //Swap the values of a and b\n",
    "    }\n",
    "    return a;  //When b becomes 0, a is the GCD\n",
    "}\n",
    "\n",
    "//Function to find the LCM of two numbers\n",
    "function findLCM(a, b) {\n",
    "    return Math.abs(a * b) / findGCD(a, b); // a * b / GCD = LCM\n",
    "}\n",
    "\n",
    "//Function to return both GCD and LCM as an object\n",
    "function gcdAndLcm(a, b) {\n",
    "    const gcd = findGCD(a, b);  //Find GCD\n",
    "    const lcm = findLCM(a, b);  //Find LCM\n",
    "    return { GCD: gcd, LCM: lcm };  //Return both as an object\n",
    "}\n",
    "\n",
    "//Define a and b\n",
    "let a = 1;\n",
    "let b = 7;\n",
    "\n",
    "//Call the function and print the result\n",
    "console.log(gcdAndLcm(a, b)); //output {GCD: 1, LCM: 14}"
   ]
  },
  {
   "cell_type": "code",
   "execution_count": 63,
   "metadata": {
    "vscode": {
     "languageId": "javascript"
    }
   },
   "outputs": [
    {
     "data": {
      "application/javascript": "//JAVASCRIPT HACK 2\n\nfunction findPrimeFactors() {\n    let n = 14;\n    let primeFactors = [];\n    \n    // Check for number of 2s that divide n\n    while (n % 2 === 0) {\n        primeFactors.push(2); //use .push to add to array\n        n = n / 2;\n    }\n    \n    //now that n is odd\n    for (let i = 3; i <= Math.sqrt(n); i += 2) {\n        while (n % i === 0) {\n            primeFactors.push(i); //use .push to add to array\n            n = n / i;\n        }\n    }\n    \n    //check if n is a prime number > 2\n    if (n > 2) {\n        primeFactors.push(n);\n    }\n\n    return primeFactors;\n}\n\nconsole.log(findPrimeFactors()); // Output: [ 2, 7 ]\n",
      "text/plain": [
       "<IPython.core.display.Javascript object>"
      ]
     },
     "metadata": {},
     "output_type": "display_data"
    }
   ],
   "source": [
    "%%js\n",
    "//JAVASCRIPT HACK 2\n",
    "\n",
    "function findPrimeFactors() {\n",
    "    let n = 14;\n",
    "    let primeFactors = [];\n",
    "    \n",
    "    // Check for number of 2s that divide n\n",
    "    while (n % 2 === 0) {\n",
    "        primeFactors.push(2); //use .push to add to array\n",
    "        n = n / 2;\n",
    "    }\n",
    "    \n",
    "    //now that n is odd\n",
    "    for (let i = 3; i <= Math.sqrt(n); i += 2) {\n",
    "        while (n % i === 0) {\n",
    "            primeFactors.push(i); //use .push to add to array\n",
    "            n = n / i;\n",
    "        }\n",
    "    }\n",
    "    \n",
    "    //check if n is a prime number > 2\n",
    "    if (n > 2) {\n",
    "        primeFactors.push(n);\n",
    "    }\n",
    "\n",
    "    return primeFactors;\n",
    "}\n",
    "\n",
    "console.log(findPrimeFactors()); // Output: [ 2, 7 ]\n"
   ]
  }
 ],
 "metadata": {
  "kernelspec": {
   "display_name": "venv",
   "language": "python",
   "name": "python3"
  },
  "language_info": {
   "codemirror_mode": {
    "name": "ipython",
    "version": 3
   },
   "file_extension": ".py",
   "mimetype": "text/x-python",
   "name": "python",
   "nbconvert_exporter": "python",
   "pygments_lexer": "ipython3",
   "version": "3.12.5"
  }
 },
 "nbformat": 4,
 "nbformat_minor": 2
}
