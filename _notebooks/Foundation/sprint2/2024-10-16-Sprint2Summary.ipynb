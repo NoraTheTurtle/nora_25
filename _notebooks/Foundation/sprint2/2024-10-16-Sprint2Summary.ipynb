{
 "cells": [
  {
   "cell_type": "markdown",
   "metadata": {},
   "source": [
    "---\n",
    "layout: post\n",
    "title: Sprint 2 Summary\n",
    "courses: {compsci: {week: 6}}\n",
    "type: tangibles\n",
    "toc: true\n",
    "---"
   ]
  },
  {
   "cell_type": "markdown",
   "metadata": {},
   "source": [
    "---\n",
    "## Evidence of learning (our lesson!)"
   ]
  },
  {
   "cell_type": "markdown",
   "metadata": {},
   "source": [
    "#### - [My commits on the project](https://github.com/MaryamAbdul-Aziz/lesson/commits/main/?author=NoraTheTurtle)\n",
    "\n",
    "#### - [My teams pull requests](https://github.com/nighthawkcoders/portfolio_2025/pulls?q=is%3Apr+is%3Aclosed+author%3AMaryamAbdul-Aziz)\n",
    "\n",
    "#### - [detailed popcorn/homework hacks to teach the concepts (link to leson)](https://nighthawkcoders.github.io/portfolio_2025/csp/big-idea/p4/3-1-1)"
   ]
  },
  {
   "cell_type": "markdown",
   "metadata": {},
   "source": [
    "---\n",
    "## Evidence of learning (other lessons!)"
   ]
  },
  {
   "cell_type": "markdown",
   "metadata": {},
   "source": [
    "#### - [link to my notebook with all the lessons!](https://noratheturtle.github.io/nora_25/navigation/compsci.html)\n",
    "\n",
    "#### - completed all the hacks 100% and tried to incorperate what I learned throught all the lessons into my homework to practice!\n",
    "\n",
    "#### - Paid atention durring presentations and re-read lessons to ensure that I grasped the concept"
   ]
  },
  {
   "cell_type": "markdown",
   "metadata": {},
   "source": [
    "## Overall journey!"
   ]
  },
  {
   "cell_type": "markdown",
   "metadata": {},
   "source": [
    "COLLEGE BOARD\n",
    "- I finished all homework focausing on understanding instead of just complesion so I can understand the topics proposed by the college board\n",
    "\n",
    "MEMORY\n",
    "- When making our lesson I tried to make the popcorn hacks contain the main concpet of the lesson without making it too hard to understand\n",
    "\n",
    "- I remeber lesson 3.6 - 3.7 because of the kahhot and video they put that made their lesson stick in my mind\n",
    "\n",
    "RELEVENCY\n",
    "- I learned alot from lesson 3.6 because it went over the diffrent types of if and else statments, and the way that you have to organize the functions in each language (as its case sensitive)\n",
    "\n",
    "PERFUNCTORY\n",
    "- I Finished all hacks trying to add new things that I learned even when they werent required (like trying to apply the prompts to prompt user for input)"
   ]
  }
 ],
 "metadata": {
  "language_info": {
   "name": "python"
  }
 },
 "nbformat": 4,
 "nbformat_minor": 2
}
