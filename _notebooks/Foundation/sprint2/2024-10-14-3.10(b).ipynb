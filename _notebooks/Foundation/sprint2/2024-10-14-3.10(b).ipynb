{
 "cells": [
  {
   "cell_type": "markdown",
   "metadata": {},
   "source": [
    "---\n",
    "layout: post\n",
    "title: 3.10 (b) hacks\n",
    "courses: {compsci: {week: 6}}\n",
    "type: hacks\n",
    "toc: true\n",
    "---"
   ]
  },
  {
   "cell_type": "markdown",
   "metadata": {},
   "source": [
    "## 3.10.1"
   ]
  },
  {
   "cell_type": "code",
   "execution_count": 2,
   "metadata": {
    "vscode": {
     "languageId": "javascript"
    }
   },
   "outputs": [
    {
     "name": "stdout",
     "output_type": "stream",
     "text": [
      "Reversed array: [50, 40, 30, 20, 10]\n"
     ]
    }
   ],
   "source": [
    "%%js\n",
    "//POPCORN HACK 1\n",
    "\n",
    "// Create an array of numbers\n",
    "let numbers = [10, 20, 30, 40, 50];\n",
    "\n",
    "// Reverse the array using the reverse() method\n",
    "numbers.reverse();\n",
    "\n",
    "// Print the reversed array\n",
    "console.log(\"Reversed array:\", numbers);\n"
   ]
  },
  {
   "cell_type": "code",
   "execution_count": 1,
   "metadata": {
    "vscode": {
     "languageId": "javascript"
    }
   },
   "outputs": [
    {
     "name": "stdout",
     "output_type": "stream",
     "text": [
      "Array after unshift operation: [10, 20, 30, 40, 50]\n"
     ]
    }
   ],
   "source": [
    "%%js\n",
    "//POPCORN HACK 2\n",
    "\n",
    "// Create an array of numbers\n",
    "let numbers = [20, 30, 40, 50];\n",
    "\n",
    "// Use the unshift() method to add a new element at the beginning of the array\n",
    "let new_number = 10;\n",
    "numbers.unshift(new_number);\n",
    "\n",
    "// Print the updated array\n",
    "console.log(\"Array after unshift operation:\", numbers);\n"
   ]
  },
  {
   "cell_type": "code",
   "execution_count": null,
   "metadata": {
    "vscode": {
     "languageId": "javascript"
    }
   },
   "outputs": [],
   "source": [
    "%%js\n",
    "//POPCORN HACK 3\n",
    "\n",
    "// Create an array of numbers\n",
    "let numbers = [10, 15, 20, 25, 30, 35, 40];\n",
    "\n",
    "// Use the filter() method to filter out only the even numbers\n",
    "let even_numbers = numbers.filter(number => number % 2 === 0);\n",
    "\n",
    "// Print the filtered array (list of even numbers)\n",
    "console.log(\"Filtered array with even numbers:\", even_numbers);\n"
   ]
  },
  {
   "cell_type": "markdown",
   "metadata": {},
   "source": [
    "## 3.10.2"
   ]
  },
  {
   "cell_type": "code",
   "execution_count": 3,
   "metadata": {},
   "outputs": [
    {
     "name": "stdout",
     "output_type": "stream",
     "text": [
      "Updated list: ['Apple', 'Banana', 'Grapes', 'Orange', 'Mango']\n"
     ]
    }
   ],
   "source": [
    "#POPCORN HACK 1\n",
    "\n",
    "# Create a list of strings\n",
    "fruits = [\"Apple\", \"Banana\", \"Mango\"]\n",
    "\n",
    "# Use the insert() method with negative indexes to add values\n",
    "fruits.insert(-1, \"Orange\")  # Inserts \"Orange\" at the second-to-last position\n",
    "fruits.insert(-2, \"Grapes\")  # Inserts \"Grapes\" at the third-to-last position\n",
    "\n",
    "# Print the updated list\n",
    "print(\"Updated list:\", fruits)\n"
   ]
  },
  {
   "cell_type": "code",
   "execution_count": null,
   "metadata": {},
   "outputs": [],
   "source": [
    "#POPCORN HACK 2\n",
    "\n",
    "# Create two lists\n",
    "list1 = [1, 2, 3]\n",
    "list2 = [4, 5, 6]\n",
    "\n",
    "# Use the extend() method to add list2 to list1\n",
    "list1.extend(list2)\n",
    "\n",
    "# Print the combined list\n",
    "print(\"Combined list:\", list1)"
   ]
  },
  {
   "cell_type": "code",
   "execution_count": null,
   "metadata": {},
   "outputs": [],
   "source": [
    "#POPCORN HACK 3\n",
    "\n",
    "# Create a list of items\n",
    "my_list = [\"Apple\", \"Banana\", \"Cherry\", \"Date\", \"Elderberry\", \"Fig\"]\n",
    "\n",
    "# Method 1: Using remove() - removes the first occurrence of the specified item\n",
    "my_list.remove(\"Banana\")\n",
    "\n",
    "# Method 2: Using pop() - removes an item at a specified index (removes item at index 2)\n",
    "my_list.pop(2)\n",
    "\n",
    "# Method 3: Using del - removes an item at a specified index (removes item at index 0)\n",
    "del my_list[0]\n",
    "\n",
    "# Print the updated list after removing three items\n",
    "print(\"Updated list:\", my_list)\n"
   ]
  },
  {
   "cell_type": "markdown",
   "metadata": {},
   "source": [
    "# HOMEWORK HACKS"
   ]
  },
  {
   "cell_type": "markdown",
   "metadata": {},
   "source": [
    "## 3.10.3"
   ]
  },
  {
   "cell_type": "code",
   "execution_count": null,
   "metadata": {},
   "outputs": [],
   "source": [
    "# HOMEWORK 1\n",
    "\n",
    "# Step 1: Create an empty list to store grocery items\n",
    "grocery_list = []\n",
    "\n",
    "# Step 2: Input three grocery items and add them to the list\n",
    "for i in range(3):\n",
    "    item = input(f\"Enter grocery item {i+1}: \")\n",
    "    grocery_list.append(item)\n",
    "\n",
    "# Step 3: Display the current grocery list\n",
    "print(\"\\nCurrent Grocery List:\")\n",
    "print(grocery_list)\n",
    "\n",
    "# Step 4: Sort the list alphabetically and print the sorted list\n",
    "grocery_list.sort()\n",
    "print(\"\\nSorted Grocery List:\")\n",
    "print(grocery_list)\n",
    "\n",
    "# Step 5: Remove one item specified by the user and display the updated list\n",
    "item_to_remove = input(\"\\nEnter the item you want to remove: \")\n",
    "if item_to_remove in grocery_list:\n",
    "    grocery_list.remove(item_to_remove)\n",
    "    print(\"\\nUpdated Grocery List after removal:\")\n",
    "    print(grocery_list)\n",
    "else:\n",
    "    print(f\"\\nItem '{item_to_remove}' not found in the list.\")\n"
   ]
  },
  {
   "cell_type": "code",
   "execution_count": null,
   "metadata": {},
   "outputs": [],
   "source": [
    "#HOMEWORK 2\n",
    "\n",
    "# Step 1: Create a list of integers from 1 to 20\n",
    "numbers = list(range(1, 21))\n",
    "\n",
    "# Step 2: Print the original list\n",
    "print(\"Original List:\")\n",
    "print(numbers)\n",
    "\n",
    "# Step 3: Create a new list that contains only the even numbers using list comprehension\n",
    "even_numbers = [num for num in numbers if num % 2 == 0]\n",
    "\n",
    "# Step 4: Print the list of even numbers\n",
    "print(\"\\nList of Even Numbers:\")\n",
    "print(even_numbers)\n"
   ]
  }
 ],
 "metadata": {
  "kernelspec": {
   "display_name": "Python 3",
   "language": "python",
   "name": "python3"
  },
  "language_info": {
   "codemirror_mode": {
    "name": "ipython",
    "version": 3
   },
   "file_extension": ".py",
   "mimetype": "text/x-python",
   "name": "python",
   "nbconvert_exporter": "python",
   "pygments_lexer": "ipython3",
   "version": "3.9.6"
  }
 },
 "nbformat": 4,
 "nbformat_minor": 2
}
