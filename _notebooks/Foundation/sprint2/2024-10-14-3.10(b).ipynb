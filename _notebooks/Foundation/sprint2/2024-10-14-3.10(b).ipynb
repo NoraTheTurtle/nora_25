{
 "cells": [
  {
   "cell_type": "markdown",
   "metadata": {},
   "source": [
    "---\n",
    "layout: post\n",
    "title: 3.10 (b) hacks\n",
    "courses: {compsci: {week: 6}}\n",
    "type: hacks\n",
    "toc: true\n",
    "---"
   ]
  }
 ],
 "metadata": {
  "language_info": {
   "name": "python"
  }
 },
 "nbformat": 4,
 "nbformat_minor": 2
}
