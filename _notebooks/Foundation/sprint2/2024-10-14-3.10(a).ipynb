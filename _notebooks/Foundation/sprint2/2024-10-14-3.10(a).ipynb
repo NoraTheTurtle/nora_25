{
 "cells": [
  {
   "cell_type": "markdown",
   "metadata": {},
   "source": [
    "---\n",
    "layout: post\n",
    "title: 3.10 (a) hacks\n",
    "courses: {compsci: {week: 6}}\n",
    "type: hacks\n",
    "toc: true\n",
    "---"
   ]
  },
  {
   "cell_type": "code",
   "execution_count": 1,
   "metadata": {},
   "outputs": [
    {
     "name": "stdout",
     "output_type": "stream",
     "text": [
      "item 1\n",
      "item 2\n",
      "wow item 3\n"
     ]
    }
   ],
   "source": [
    "#POPCORN HACK 1\n",
    "\n",
    "a_list = []\n",
    "\n",
    "#append items to list\n",
    "user_input = input(\"Enter an item to add to the list: \")\n",
    "a_list.append(user_input)\n",
    "\n",
    "#prompt for input\n",
    "while True:\n",
    "    user_input = input(\"Enter another item or type 'q' to quit: \")\n",
    "    if user_input.lower() == 'q':\n",
    "        break\n",
    "    a_list.append(user_input)\n",
    "\n",
    "# Print each item in the list\n",
    "for item in a_list:\n",
    "    print(item)\n"
   ]
  },
  {
   "cell_type": "code",
   "execution_count": null,
   "metadata": {},
   "outputs": [],
   "source": [
    "#POPCORN HACK 2\n",
    "\n",
    "# Create an empty list\n",
    "aList = []\n",
    "\n",
    "# Keep taking user input and adding to the list until the user types 'done'\n",
    "while True:\n",
    "    item = input(\"Enter an item to add to the list (type 'done' to finish): \")\n",
    "    if item.lower() == 'done':\n",
    "        break\n",
    "    aList.append(item)\n",
    "\n",
    "# Display the second element if it exists\n",
    "if len(aList) >= 2:\n",
    "    print(f\"Second element: {aList[1]}\")\n",
    "else:\n",
    "    print(\"There is no second element in the list.\")\n",
    "\n",
    "# Delete the second element if it exists\n",
    "if len(aList) >= 2:\n",
    "    del aList[1]\n",
    "    print(\"Second element deleted.\")\n",
    "else:\n",
    "    print(\"No second element to delete.\")\n",
    "\n",
    "# Display the updated list\n",
    "print(\"Updated list:\", aList)\n"
   ]
  },
  {
   "cell_type": "code",
   "execution_count": null,
   "metadata": {},
   "outputs": [],
   "source": [
    "#POPCORN HACK 3\n",
    "\n",
    "# Create a list of your five favorite foods\n",
    "favorite_foods = [\"Pizza\", \"Sushi\", \"Burgers\", \"Tacos\", \"Pasta\"]\n",
    "\n",
    "# Add two more items to the list using the .append() method\n",
    "favorite_foods.append(\"Ice Cream\")\n",
    "favorite_foods.append(\"Salad\")\n",
    "\n",
    "# Find and print the total number of items in the list using len()\n",
    "total_items = len(favorite_foods)\n",
    "print(f\"Total number of items in the list: {total_items}\")\n"
   ]
  },
  {
   "cell_type": "code",
   "execution_count": null,
   "metadata": {},
   "outputs": [],
   "source": [
    "#POPCORN HACK 4\n",
    "\n",
    "# Define a list of integers called nums\n",
    "nums = [10, 15, 8, 23, 42, 17, 6]\n",
    "\n",
    "# Define a variable to store the sum of even numbers\n",
    "sum_of_evens = 0\n",
    "\n",
    "# Iterate through the list and add only the even numbers to sum_of_evens\n",
    "for num in nums:\n",
    "    if num % 2 == 0:  # Check if the number is even\n",
    "        sum_of_evens += num\n",
    "\n",
    "# Print the sum of even numbers\n",
    "print(f\"The sum of all even numbers in the list is: {sum_of_evens}\")"
   ]
  },
  {
   "cell_type": "markdown",
   "metadata": {},
   "source": [
    "BIG HACKS"
   ]
  },
  {
   "cell_type": "code",
   "execution_count": null,
   "metadata": {},
   "outputs": [],
   "source": [
    "#HOMEWORK 1\n",
    "\n",
    "# Create a list of numbers\n",
    "numbers = [10, 20, 30, 40, 50]\n",
    "\n",
    "# Print the second element in the list\n",
    "print(f\"The second element in the list is: {numbers[1]}\")"
   ]
  },
  {
   "cell_type": "code",
   "execution_count": null,
   "metadata": {
    "vscode": {
     "languageId": "javascript"
    }
   },
   "outputs": [],
   "source": [
    "//HOMEWORK 2\n",
    "\n",
    "// Create an array of numbers\n",
    "let numbers = [10, 20, 30, 40, 50];\n",
    "\n",
    "// Log the second element in the array to the console\n",
    "console.log(\"The second element in the array is:\", numbers[1]);\n"
   ]
  },
  {
   "cell_type": "code",
   "execution_count": null,
   "metadata": {},
   "outputs": [],
   "source": [
    "#HOMEWORK 3\n",
    "\n",
    "# Initialize an empty to-do list\n",
    "todo_list = []\n",
    "\n",
    "def add_item():\n",
    "    \"\"\"Add an item to the to-do list.\"\"\"\n",
    "    item = input(\"Enter the item to add: \")\n",
    "    todo_list.append(item)\n",
    "    print(f\"'{item}' has been added to your to-do list.\")\n",
    "\n",
    "def remove_item():\n",
    "    \"\"\"Remove an item from the to-do list.\"\"\"\n",
    "    item = input(\"Enter the item to remove: \")\n",
    "    if item in todo_list:\n",
    "        todo_list.remove(item)\n",
    "        print(f\"'{item}' has been removed from your to-do list.\")\n",
    "    else:\n",
    "        print(f\"'{item}' is not in your to-do list.\")\n",
    "\n",
    "def view_list():\n",
    "    \"\"\"View all items in the to-do list.\"\"\"\n",
    "    if todo_list:\n",
    "        print(\"Your to-do list:\")\n",
    "        for index, item in enumerate(todo_list, 1):\n",
    "            print(f\"{index}. {item}\")\n",
    "    else:\n",
    "        print(\"Your to-do list is empty.\")\n",
    "\n",
    "# Main loop to interact with the to-do list\n",
    "while True:\n",
    "    print(\"\\nTo-Do List Menu:\")\n",
    "    print(\"1. Add item\")\n",
    "    print(\"2. Remove item\")\n",
    "    print(\"3. View list\")\n",
    "    print(\"4. Quit\")\n",
    "    \n",
    "    choice = input(\"Choose an option (1-4): \")\n",
    "\n",
    "    if choice == '1':\n",
    "        add_item()\n",
    "    elif choice == '2':\n",
    "        remove_item()\n",
    "    elif choice == '3':\n",
    "        view_list()\n",
    "    elif choice == '4':\n",
    "        print(\"Goodbye!\")\n",
    "        break\n",
    "    else:\n",
    "        print(\"Invalid choice. Please select a valid option.\")\n"
   ]
  },
  {
   "cell_type": "code",
   "execution_count": null,
   "metadata": {
    "vscode": {
     "languageId": "javascript"
    }
   },
   "outputs": [],
   "source": [
    "//HOMEWORK 4\n",
    "\n",
    "// Initialize an empty array to store workouts\n",
    "let workoutTracker = [];\n",
    "\n",
    "// Function to add a workout\n",
    "function addWorkout() {\n",
    "    let type = prompt(\"Enter workout type (e.g., Running, Swimming, etc.):\");\n",
    "    let duration = prompt(\"Enter duration in minutes:\");\n",
    "    let calories = prompt(\"Enter calories burned:\");\n",
    "\n",
    "    let workout = {\n",
    "        type: type,\n",
    "        duration: duration,\n",
    "        calories: calories\n",
    "    };\n",
    "\n",
    "    workoutTracker.push(workout);\n",
    "    console.log(`${type} workout added successfully.`);\n",
    "}\n",
    "\n",
    "// Function to view all workouts\n",
    "function viewWorkouts() {\n",
    "    if (workoutTracker.length === 0) {\n",
    "        console.log(\"No workouts logged yet.\");\n",
    "    } else {\n",
    "        console.log(\"Your logged workouts:\");\n",
    "        workoutTracker.forEach((workout, index) => {\n",
    "            console.log(`${index + 1}. Type: ${workout.type}, Duration: ${workout.duration} minutes, Calories: ${workout.calories}`);\n",
    "        });\n",
    "    }\n",
    "}\n",
    "\n",
    "// Function to start the workout tracker\n",
    "function workoutMenu() {\n",
    "    let userChoice;\n",
    "\n",
    "    while (true) {\n",
    "        userChoice = prompt(\n",
    "            \"Workout Tracker Menu:\\n1. Add Workout\\n2. View Workouts\\n3. Quit\\nChoose an option (1-3):\"\n",
    "        );\n",
    "\n",
    "        if (userChoice === \"1\") {\n",
    "            addWorkout();\n",
    "        } else if (userChoice === \"2\") {\n",
    "            viewWorkouts();\n",
    "        } else if (userChoice === \"3\") {\n",
    "            console.log(\"Goodbye! Keep up the great workouts!\");\n",
    "            break;\n",
    "        } else {\n",
    "            console.log(\"Invalid choice, please select a valid option.\");\n",
    "        }\n",
    "    }\n",
    "}\n",
    "\n",
    "// Start the workout tracker\n",
    "workoutMenu();\n"
   ]
  }
 ],
 "metadata": {
  "kernelspec": {
   "display_name": "Python 3",
   "language": "python",
   "name": "python3"
  },
  "language_info": {
   "name": "python",
   "version": "3.9.6"
  }
 },
 "nbformat": 4,
 "nbformat_minor": 2
}
