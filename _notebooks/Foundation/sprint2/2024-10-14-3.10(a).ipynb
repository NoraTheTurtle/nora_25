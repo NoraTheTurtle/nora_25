{
 "cells": [
  {
   "cell_type": "markdown",
   "metadata": {},
   "source": [
    "---\n",
    "layout: post\n",
    "title: 3.10 (a) hacks\n",
    "courses: {compsci: {week: 6}}\n",
    "type: hacks\n",
    "toc: true\n",
    "---"
   ]
  },
  {
   "cell_type": "code",
   "execution_count": 1,
   "metadata": {},
   "outputs": [
    {
     "name": "stdout",
     "output_type": "stream",
     "text": [
      "item 1\n",
      "item 2\n",
      "wow item 3\n"
     ]
    }
   ],
   "source": [
    "# Initialize an empty list\n",
    "a_list = []\n",
    "\n",
    "# Append items to the list\n",
    "user_input = input(\"Enter an item to add to the list: \")\n",
    "a_list.append(user_input)\n",
    "\n",
    "# Continue asking for more input\n",
    "while True:\n",
    "    user_input = input(\"Enter another item or type 'q' to quit: \")\n",
    "    if user_input.lower() == 'q':\n",
    "        break\n",
    "    a_list.append(user_input)\n",
    "\n",
    "# Print each item in the list\n",
    "for item in a_list:\n",
    "    print(item)\n"
   ]
  }
 ],
 "metadata": {
  "kernelspec": {
   "display_name": "Python 3",
   "language": "python",
   "name": "python3"
  },
  "language_info": {
   "name": "python",
   "version": "3.9.6"
  }
 },
 "nbformat": 4,
 "nbformat_minor": 2
}
