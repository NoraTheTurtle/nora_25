{
 "cells": [
  {
   "cell_type": "markdown",
   "metadata": {},
   "source": [
    "---\n",
    "layout: post\n",
    "title: my lesson!\n",
    "courses: {compsci: {week: 6}}\n",
    "type: plans\n",
    "toc: true\n",
    "---"
   ]
  },
  {
   "cell_type": "markdown",
   "metadata": {},
   "source": [
    "# [My lesson 3.1/3.4](https://nighthawkcoders.github.io/portfolio_2025/csp/big-idea/p4/3-1-1)"
   ]
  }
 ],
 "metadata": {
  "language_info": {
   "name": "python"
  }
 },
 "nbformat": 4,
 "nbformat_minor": 2
}
