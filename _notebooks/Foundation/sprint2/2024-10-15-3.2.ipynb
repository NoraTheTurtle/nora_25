{
 "cells": [
  {
   "cell_type": "markdown",
   "metadata": {},
   "source": [
    "---\n",
    "layout: post\n",
    "title: 3.2 hacks\n",
    "courses: {compsci: {week: 6}}\n",
    "type: hacks\n",
    "toc: true\n",
    "---"
   ]
  },
  {
   "cell_type": "markdown",
   "metadata": {},
   "source": [
    "## PYTHON POPCORN HACKS"
   ]
  },
  {
   "cell_type": "code",
   "execution_count": 2,
   "metadata": {},
   "outputs": [
    {
     "name": "stdout",
     "output_type": "stream",
     "text": [
      "Union with {7, 8, 9}:  {1, 3, 4, 5, 6, 7, 8, 9}\n",
      "Length of set with duplicates {1, 2, 2, 3, 3, 4}:  4\n"
     ]
    }
   ],
   "source": [
    "#POPCORN HACK 1\n",
    "\n",
    "#Create set and preform opperations\n",
    "my_set = {1, 2, 3, 4, 5}\n",
    "my_set.add(6)\n",
    "my_set.remove(2)\n",
    "union_set = my_set.union({7, 8, 9})\n",
    "my_set.clear()\n",
    "set_with_duplicates = {1, 2, 2, 3, 3, 4}\n",
    "length_of_set_with_duplicates = len(set_with_duplicates)\n",
    "\n",
    "#Print result\n",
    "print(\"Union with {7, 8, 9}: \", union_set)\n",
    "print(\"Length of set with duplicates {1, 2, 2, 3, 3, 4}: \", length_of_set_with_duplicates)\n"
   ]
  },
  {
   "cell_type": "code",
   "execution_count": 6,
   "metadata": {},
   "outputs": [
    {
     "name": "stdout",
     "output_type": "stream",
     "text": [
      "String Length:  26\n",
      "Extracted 'Python':  python\n",
      "Uppercase String:  LEARNING PYTHON IS NOT FUN\n",
      "Replaced String:  Learning python is not amazing\n",
      "Reversed String:  nuf ton si nohtyp gninraeL\n"
     ]
    }
   ],
   "source": [
    "#POPCORN HACK 2\n",
    "\n",
    "#define all the functions to find the length, and replace and string and stuff\n",
    "my_string = \"Learning python is not fun\"\n",
    "string_length = len(my_string)\n",
    "python_substring = my_string[9:15]\n",
    "uppercase_string = my_string.upper()\n",
    "replaced_string = my_string.replace(\"fun\", \"amazing\")\n",
    "reversed_string = my_string[::-1]\n",
    "\n",
    "#print results from each action!\n",
    "print(\"String Length: \", string_length)\n",
    "print(\"Extracted 'Python': \", python_substring)\n",
    "print(\"Uppercase String: \", uppercase_string)\n",
    "print(\"Replaced String: \", replaced_string)\n",
    "print(\"Reversed String: \", reversed_string)\n"
   ]
  },
  {
   "cell_type": "code",
   "execution_count": 7,
   "metadata": {},
   "outputs": [
    {
     "name": "stdout",
     "output_type": "stream",
     "text": [
      "Third Element:  7\n",
      "Modified List:  [13, 11, 7, 6, 3]\n"
     ]
    }
   ],
   "source": [
    "#POPCORN HACK 3\n",
    "\n",
    "#preform operations\n",
    "my_list = [3, 5, 7, 9, 11]\n",
    "third_element = my_list[2]\n",
    "my_list[1] = 6\n",
    "my_list.append(13)\n",
    "my_list.remove(9)\n",
    "my_list.sort(reverse=True)\n",
    "\n",
    "#print results\n",
    "print(\"Third Element: \", third_element)\n",
    "print(\"Modified List: \", my_list)\n"
   ]
  },
  {
   "cell_type": "code",
   "execution_count": 10,
   "metadata": {},
   "outputs": [
    {
     "name": "stdout",
     "output_type": "stream",
     "text": [
      "Personal Info: {'name': 'Nora Ahadian', 'email': 'email@gmail.com', 'phone number': '858-858-8558'}\n",
      "My Name is: Nora Ahadian\n",
      "Length of the Dictionary: 3\n",
      "Type of the Dictionary: <class 'dict'>\n",
      "Second Person's Info: {'name': 'Bob bobbie', 'email': 'bob@bobbie.com', 'phone number': '123-456-7890'}\n"
     ]
    }
   ],
   "source": [
    "#POPCORN HACK 4\n",
    "\n",
    "info1 = {\n",
    "    \"name\": \"Nora Ahadian\",\n",
    "    \"email\": \"email@gmail.com\",\n",
    "    \"phone number\": \"858-858-8558\"\n",
    "}\n",
    "\n",
    "info2 = {\n",
    "    \"name\": \"Bob bobbie\",\n",
    "    \"email\": \"bob@bobbie.com\",\n",
    "    \"phone number\": \"123-456-7890\"\n",
    "}\n",
    "\n",
    "print(\"Personal Info:\", info1)\n",
    "print(\"My Name is:\", info1[\"name\"])\n",
    "print(\"Length of the Dictionary:\", len(info1))\n",
    "print(\"Type of the Dictionary:\", type(info1))\n",
    "print(\"Second Person's Info:\", info2)\n"
   ]
  },
  {
   "cell_type": "markdown",
   "metadata": {},
   "source": [
    "## PYTHON HOMEWORK HACK parts 1-9"
   ]
  },
  {
   "cell_type": "code",
   "execution_count": 23,
   "metadata": {},
   "outputs": [
    {
     "name": "stdout",
     "output_type": "stream",
     "text": [
      "Total Hobby and Skill Cost: $350.00\n",
      "{'personal_info': {'name': 'John Doe', 'age': 25, 'location': 'San Diego, CA', 'activities': ['hiking', 'reading', 'volleyball', 'swimming']}, 'hiking_available': True, 'total_activities': 4, 'favorite_activities': ('hiking', 'volleyball'), 'skills': {'Strength Training', 'Map Reading', 'First Aid', 'Coordination Drills', 'Team Strategy', 'Survival Skills'}, 'new_skill': None, 'total_cost': 350.0}\n"
     ]
    }
   ],
   "source": [
    "def manage_personal_info():\n",
    "    # Part 1: Create Personal Info (dict)\n",
    "    personal_info = {\n",
    "        \"name\": \"John Doe\",\n",
    "        \"age\": 25,\n",
    "        \"location\": \"San Diego, CA\"\n",
    "    }\n",
    "    \n",
    "    # Part 2: Create a List of Activities (list) with corresponding costs\n",
    "    activities_with_costs = {\n",
    "        \"hiking\": 0.0,       # free\n",
    "        \"reading\": 10.0,     # books cost\n",
    "        \"volleyball\": 20.0,  # equipment/venue cost\n",
    "        \"swimming\": 5.0      # pool cost\n",
    "    }\n",
    "\n",
    "    # Extract activities as a list from the dictionary\n",
    "    activities = list(activities_with_costs.keys())\n",
    "\n",
    "    # Part 3: Add Activities to Personal Info (dict and list)\n",
    "    personal_info[\"activities\"] = activities\n",
    "\n",
    "    # Part 4: Check Availability of an Activity (bool)\n",
    "    def is_activity_available(activity):\n",
    "        return activity in activities\n",
    "    \n",
    "    # Example usage: checking if \"hiking\" is available\n",
    "    hiking_available = is_activity_available(\"hiking\")\n",
    "    \n",
    "    # Part 5: Total Number of Activities (int)\n",
    "    total_activities = len(activities)\n",
    "    \n",
    "    # Part 6: Favorite Activities (tuple)\n",
    "    favorite_activities = (\"hiking\", \"volleyball\")\n",
    "    \n",
    "    # Part 7: Add a New Set of Skills (set)\n",
    "    skills = {\"Map Reading\", \"Survival Skills\", \"First Aid\", \"Strength Training\", \"Coordination Drills\", \"Team Strategy\"}\n",
    "    \n",
    "    # Part 8: Consider a New Skill (NoneType)\n",
    "    new_skill = None\n",
    "    \n",
    "    # Part 9: Calculate Total Hobby and Skill Cost (float)\n",
    "    skill_training_costs = {\n",
    "        \"Map Reading\": 50.0,        # for hiking\n",
    "        \"Survival Skills\": 100.0,   # for hiking\n",
    "        \"First Aid\": 75.0,          # for all sports\n",
    "        \"Strength Training\": 30.0,  # for voleyball\n",
    "        \"Coordination Drills\": 20.0,# for volleybal\n",
    "        \"Team Strategy\": 40.0       # for volleybal\n",
    "    }\n",
    "    \n",
    "    # Calculate total hobby and skill cost\n",
    "    total_cost = sum(activities_with_costs.values()) + sum(skill_training_costs.values())\n",
    "    \n",
    "    #summary of costs and skills \n",
    "    print(f\"Total Hobby and Skill Cost: ${total_cost:.2f}\")\n",
    "    \n",
    "    return {\n",
    "        \"personal_info\": personal_info,\n",
    "        \"hiking_available\": hiking_available,\n",
    "        \"total_activities\": total_activities,\n",
    "        \"favorite_activities\": favorite_activities,\n",
    "        \"skills\": skills,\n",
    "        \"new_skill\": new_skill,\n",
    "        \"total_cost\": total_cost\n",
    "    }\n",
    "\n",
    "#print cost and dictonary\n",
    "output = manage_personal_info()\n",
    "print(output)"
   ]
  },
  {
   "cell_type": "markdown",
   "metadata": {},
   "source": [
    "## JAVASCRIPT POPCORN HACKS"
   ]
  },
  {
   "cell_type": "code",
   "execution_count": 25,
   "metadata": {
    "vscode": {
     "languageId": "javascript"
    }
   },
   "outputs": [
    {
     "data": {
      "application/javascript": "\n//Create Set1\nlet Set1 = new Set([1, 5, 6]);\n\n//Create Set2\nlet Set2 = new Set([4, 8, 11]);\n\n//Log both separately\nconsole.log(\"Set1:\", Set1);\nconsole.log(\"Set2:\", Set2);\n\n//Add a number and remove the 1st number from Set1\nSet1.add(7); \nSet1.delete(11);\n\n//Log updated Set1\nconsole.log(\"Updated Set1:\", Set1);\n\n//Log the union of both Set1 and Set2\nlet unionSet = new Set([...Set1, ...Set2]);\nconsole.log(\"Union of Set1 and Set2:\", unionSet);\n",
      "text/plain": [
       "<IPython.core.display.Javascript object>"
      ]
     },
     "metadata": {},
     "output_type": "display_data"
    }
   ],
   "source": [
    "%%js\n",
    "//POPCORN HACK 1\n",
    "\n",
    "//Create Set1\n",
    "let Set1 = new Set([1, 5, 6]);\n",
    "\n",
    "//Create Set2\n",
    "let Set2 = new Set([4, 8, 11]);\n",
    "\n",
    "//Log both separately\n",
    "console.log(\"Set1:\", Set1);\n",
    "console.log(\"Set2:\", Set2);\n",
    "\n",
    "//Add a number and remove the 1st number from Set1\n",
    "Set1.add(7); \n",
    "Set1.delete(11);\n",
    "\n",
    "//Log updated Set1\n",
    "console.log(\"Updated Set1:\", Set1);\n",
    "\n",
    "//Log the union of both Set1 and Set2\n",
    "let unionSet = new Set([...Set1, ...Set2]);\n",
    "console.log(\"Union of Set1 and Set2:\", unionSet);\n"
   ]
  },
  {
   "cell_type": "code",
   "execution_count": 26,
   "metadata": {
    "vscode": {
     "languageId": "javascript"
    }
   },
   "outputs": [
    {
     "data": {
      "application/javascript": "//POPCORN HACK 2\n\n//application\nlet application = {\n    name: \"Nora Ahadian\", \n    age: 15,            \n    experiences: [\"CEO\", \"Manager\"],\n    money: 99999999\n};\n\n//Log dictionary\nconsole.log(\"Application Dictionary:\", application);\n\n//Log the money\nconsole.log(\"Money in the application:\", application.money);\n",
      "text/plain": [
       "<IPython.core.display.Javascript object>"
      ]
     },
     "metadata": {},
     "output_type": "display_data"
    }
   ],
   "source": [
    "%%js\n",
    "//POPCORN HACK 2\n",
    "\n",
    "//application\n",
    "let application = {\n",
    "    name: \"Nora Ahadian\", \n",
    "    age: 15,            \n",
    "    experiences: [\"CEO\", \"Manager\"],\n",
    "    money: 99999999\n",
    "};\n",
    "\n",
    "//Log dictionary\n",
    "console.log(\"Application Dictionary:\", application);\n",
    "\n",
    "//Log the money\n",
    "console.log(\"Money in the application:\", application.money);\n"
   ]
  },
  {
   "cell_type": "markdown",
   "metadata": {},
   "source": [
    "## JAVASCRIPT HOMEWORK HACK"
   ]
  },
  {
   "cell_type": "code",
   "execution_count": 27,
   "metadata": {
    "vscode": {
     "languageId": "javascript"
    }
   },
   "outputs": [
    {
     "data": {
      "application/javascript": "\n//Prompt for name, age, and experience\nlet name = prompt(\"What is your name?\");\nlet age = prompt(\"How old are you?\");\nlet experiences = prompt(\"List your experiences (separate by commas)\");\n\n//Store the inputs in a dictionary\nlet application = {\n    name: name,\n    age: age,\n    experiences: experiences.split(\",\")  // Convert the experiences to an array\n};\n\n//Log user's input (the application dictionary)\nconsole.log(\"User's Application:\", application);\n",
      "text/plain": [
       "<IPython.core.display.Javascript object>"
      ]
     },
     "metadata": {},
     "output_type": "display_data"
    }
   ],
   "source": [
    "%%js\n",
    "\n",
    "//Prompt for name, age, and experience\n",
    "let name = prompt(\"What is your name?\");\n",
    "let age = prompt(\"How old are you?\");\n",
    "let experiences = prompt(\"List your experiences (separate by commas)\");\n",
    "\n",
    "//Store the inputs in a dictionary\n",
    "let application = {\n",
    "    name: name,\n",
    "    age: age,\n",
    "    experiences: experiences.split(\",\")  // Convert the experiences to an array\n",
    "};\n",
    "\n",
    "//Log user's input (the application dictionary)\n",
    "console.log(\"User's Application:\", application);\n"
   ]
  },
  {
   "cell_type": "markdown",
   "metadata": {},
   "source": [
    "### [LINK 2 JAVASCRIPT COMPILER TO TEST CODE](https://jsfiddle.net/)"
   ]
  }
 ],
 "metadata": {
  "kernelspec": {
   "display_name": "Python 3",
   "language": "python",
   "name": "python3"
  },
  "language_info": {
   "codemirror_mode": {
    "name": "ipython",
    "version": 3
   },
   "file_extension": ".py",
   "mimetype": "text/x-python",
   "name": "python",
   "nbconvert_exporter": "python",
   "pygments_lexer": "ipython3",
   "version": "3.9.6"
  }
 },
 "nbformat": 4,
 "nbformat_minor": 2
}
