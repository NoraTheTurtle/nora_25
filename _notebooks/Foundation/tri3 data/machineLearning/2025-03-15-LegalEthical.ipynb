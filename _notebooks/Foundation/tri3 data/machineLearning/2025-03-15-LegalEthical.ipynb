{
 "cells": [
  {
   "cell_type": "raw",
   "metadata": {
    "vscode": {
     "languageId": "raw"
    }
   },
   "source": [
    "---\n",
    "title: Legal Ethical Concerns, Team Teach\n",
    "description: Legal and Ethical Concerns involving computer science and software engineering\n",
    "layout: post\n",
    "type: hacks\n",
    "comments: true\n",
    "toc: true\n",
    "permalink: /leconcerns/\n",
    "authors: Nora A, Soni D, Kathrine C\n",
    "---"
   ]
  },
  {
   "cell_type": "markdown",
   "metadata": {},
   "source": [
    "<h1 style=\"color: #dbbb44 !important; text-decoration: underline;\">Legal Concerns</h1>"
   ]
  },
  {
   "cell_type": "markdown",
   "metadata": {},
   "source": [
    "## **Intellectual Property (IP)**\n",
    "Definition: Intellectual Property (IP) refers to creations of the mind, including inventions, literary and artistic works, designs, symbols, names, and images used in commerce. It grants creators exclusive rights to their work.\n",
    "\n",
    "Digital Impact on IP:\n",
    "- The digitization of information has made it easier to share, copy, and distribute content online.\n",
    "- While this has increased accessibility, it has also raised concerns about ownership, unauthorized use, and infringement.\n",
    "- Businesses and individuals struggle to protect their digital assets from unauthorized replication or misuse.\n",
    "\n",
    "Copyright Protection:\n",
    "- Copyright safeguards original works such as books, music, films, and digital content.\n",
    "- It prevents unauthorized use, reproduction, or distribution of creative works.\n",
    "- Copyright protection is automatic upon creation, but registration offers additional legal advantages.\n",
    "- Infringement can lead to penalties, including fines or legal action.\n",
    "\n",
    "Other Forms of IP Protection:\n",
    "- Patents: Protect inventions by granting exclusive rights to inventors.\n",
    "- Trademarks: Safeguard brand names, logos, and slogans from unauthorized use.\n",
    "- Trade Secrets: Cover confidential business information that provides a competitive advantage.\n",
    "\n",
    "Enforcing IP Rights:\n",
    "- Legal measures such as licensing agreements and digital rights management (DRM) help control IP usage.\n",
    "- Companies and creators must actively monitor and enforce their rights to prevent infringement.\n",
    "- IP protection continues to evolve with advancements in technology and digital platforms."
   ]
  },
  {
   "cell_type": "markdown",
   "metadata": {},
   "source": [
    "![IP](images/IP.png)"
   ]
  },
  {
   "cell_type": "markdown",
   "metadata": {},
   "source": [
    "## **Licensing a Github Repository**\n",
    "\n",
    "### What is a Software License?\n",
    "A software license is a **legal agreement** that defines how others can use, modify, and share your code. Without a license, the default rule is **\"All Rights Reserved\"**, meaning nobody else can legally use your code.\n",
    "\n",
    "### Why is Licensing Important?\n",
    "Protects your work while allowing others to use it under set conditions.  \n",
    "Encourages open-source collaboration with clear rules.  \n",
    "Prevents **legal issues** from arising when using or sharing code.\n"
   ]
  },
  {
   "cell_type": "markdown",
   "metadata": {},
   "source": [
    "## **Open Source/Access**\n",
    "\n",
    "- Some of the legal ways to use materials created by someone else, include Open Source Code & Open Access\n",
    "\n",
    "\n",
    "**Open Source Software VS Open Access Code**\n",
    "Open-Source Software (OSS): Software whose source code is publicly available for anyone to use, modify, and distribute.\n",
    "Open Access Code: Code (often related to research) that is freely accessible online without restrictions on access or usage.\n",
    "\n",
    "\n",
    "**Advantages**\n",
    "- Open source are programs that are made freely available for anyone to use and make modifications to (through their own version of the content)\n",
    "- Open Source Code --> Encourages people to collaborate and contribute to your creation\n",
    "- Open access is online research free of any and all restrictions on access and free of several restrictions on use, such as copyright and license restrictions\n",
    "\n",
    "\n",
    "**Disadvantages**\n",
    "While open source content is usually used with good intention, the fact that it is free and anyone can make changes to it allows people to use it to harm other individuals or groups\n",
    "\n",
    "\n",
    "**To Keep in Mind**\n",
    "- It is important to note that : Regardless of how we legally use someone else’s creations, we should always give credit to them as they are the original author\n",
    "\n",
    "\n",
    "**Platform that Use Open Source**\n",
    "GitHub – Popular platform for hosting and collaborating on open-source projects.\n",
    "GitLab – Open-source alternative to GitHub with built-in CI/CD tools.\n",
    "Bitbucket – Git repository management platform, supports Mercurial and Git.\n",
    "SourceForge – One of the earliest open-source project hosting sites.\n",
    "\n",
    "\n",
    "\n"
   ]
  },
  {
   "cell_type": "markdown",
   "metadata": {},
   "source": [
    "## **Open-Source Licenses/their uses and restrictions**\n",
    "| License | Permissions | Restrictions | Common Uses |\n",
    "|---------|------------|--------------|-------------|\n",
    "| **MIT** | Free to use, modify, and distribute with credit | No liability/warranty | Web apps, libraries, frameworks |\n",
    "| **Apache 2.0** | Similar to MIT but includes patent protection | No liability, must include license notice | Large-scale projects, APIs |\n",
    "| **GPL (GNU General Public License)** | Free to use, but **modifications must also be open-source** | Can't make a private version | Software meant to stay open-source |\n",
    "| **BSD 3-Clause** | Permissive, but prevents endorsement of derived works | No warranty | Academic projects, software |\n",
    "| **Creative Commons (CC0, CC-BY)** | Public domain (CC0), attribution required (CC-BY) | Not for software, mostly docs, images | Documentation, art, books |"
   ]
  },
  {
   "cell_type": "markdown",
   "metadata": {},
   "source": [
    "---"
   ]
  },
  {
   "cell_type": "markdown",
   "metadata": {},
   "source": [
    "<h2 style=\"color:rgb(32, 172, 232) !important; text-decoration: underline;\">Popcorn Hacks</h2>\n",
    "\n",
    "**Discus and awsner the questions below**\n",
    "\n",
    "1. What is the purpose of have a license? What are the benefits?\n",
    "2. Define the MIT License and its pros and cons.\n",
    "3. Define the Apache 2.0 License and its pros and cons. \n",
    "3. Define the GPL License and its pros and cons. \n",
    "4. Define the CC License and its pros and cons. "
   ]
  },
  {
   "cell_type": "markdown",
   "metadata": {},
   "source": [
    "---\n",
    "\n",
    "<h1 style=\"color: #aa53e0 !important; text-decoration: underline;\">Ethical Concerns</h1>"
   ]
  },
  {
   "cell_type": "markdown",
   "metadata": {},
   "source": [
    "## What is Considered **Breaking the Law?**\n",
    "Breaking software licensing laws can lead to **legal action, repo takedowns, or financial penalties**.\n",
    "\n",
    "### **Illegal Actions**\n",
    "| Action | Reasoning | License Violated |\n",
    "|-----------|--------------------|----------------------|\n",
    "| Using code without a license | Default is **\"All Rights Reserved\"**, meaning you **can't use it**. | Any repo without a license |\n",
    "| Modifying & distributing GPL code **without releasing changes** | GPL requires derivative works to be open-source too. | **GPL (GNU General Public License)** |\n",
    "| Removing a required license notice | Some licenses (MIT, Apache) require you to keep the copyright notice. | **MIT, Apache 2.0, GPL** |\n",
    "| Selling open-source software as **proprietary** | You must follow the license terms, even if commercial use is allowed. | **GPL, Apache 2.0, CC BY** |\n",
    "| Using code with a **Non-Commercial (NC)** license for profit | Some licenses prohibit **any commercial** use. | **Creative Commons NC** |\n",
    "| Copying software without **paying for a proprietary license** | If software isn't open-source, you need a paid license. | **All proprietary software** |"
   ]
  },
  {
   "cell_type": "markdown",
   "metadata": {},
   "source": [
    "## **Plagiarism & Stealing Code**  \n",
    "Just because something isn’t illegal doesn’t mean it’s ethical. Stealing code can slow progress, discourage collaboration, and lead to legal issues.  \n",
    "\n",
    "### **What’s Wrong?**  \n",
    "- Removing author credit and claiming code as yours  \n",
    "- Copying code from GitHub/Stack Overflow without credit  \n",
    "- Selling modified open-source code without permission\n",
    "\n",
    "### **What’s Right?**  \n",
    "- Forking a repo and keeping author credit  \n",
    "- Adding a comment or README to give credit  \n",
    "- Following open-source licenses for modifications  \n",
    "\n",
    "### **Real-World Example**  \n",
    "\n",
    "A recent article highlights how major tech companies are pushing for the right to train AI on copyrighted content without compensating creators. News organizations and creatives argue this weakens copyright protections and harms the industry. This debate reflects broader ethical concerns about taking work without proper credit.  \n",
    "\n",
    "For more information, read the full article:  \n",
    "[Big Tech’s AI Pitch Seeks License to Steal](https://www.canoncitydailyrecord.com/2025/03/18/big-techs-ai-pitch-seeks-license-to-steal/amp/)  \n"
   ]
  },
  {
   "cell_type": "markdown",
   "metadata": {},
   "source": [
    "<h2 style=\"color:rgb(255, 138, 112) !important; text-decoration: underline;\">Homework</h2>\n",
    "\n",
    "## 1. Create a new repo and add a lisence, then explain why you added that lisence\n",
    "#### Using GitHub Web Interface\n",
    "1. Go to your repository on GitHub.\n",
    "2. Click **\"Add file\"** → **\"Create new file\"**.\n",
    "3. Name it `LICENSE` or `LICENSE.txt`.\n",
    "4. Click **“Choose a license template”** and select one.\n",
    "5. Commit the file to your repo.\n",
    "\n",
    "#### OR Create A New Repo\n",
    "1. While creating a new repository, there will be a dropdown option to add a liecense to your repository. Just pick which liences and create repository\n",
    "\n",
    "---\n",
    "\n",
    "## 2. Find 3 diffrent repositories with diffrent lisences, explain the upsides/downsides of those lisences.\n",
    "\n",
    "---\n",
    "\n",
    "## 3. Fill out this google form with your links to repos/reasonings, and "
   ]
  }
 ],
 "metadata": {
  "language_info": {
   "name": "python"
  }
 },
 "nbformat": 4,
 "nbformat_minor": 2
}
